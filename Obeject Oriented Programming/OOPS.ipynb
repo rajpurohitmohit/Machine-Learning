{
 "cells": [
  {
   "cell_type": "code",
   "execution_count": 1,
   "metadata": {},
   "outputs": [
    {
     "name": "stdout",
     "output_type": "stream",
     "text": [
      "20\n"
     ]
    }
   ],
   "source": [
    "class Student:\n",
    "    pass\n",
    "s = Student()\n",
    "s.id = 20\n",
    "s.name = \"Joker\"\n",
    "print(s.id)"
   ]
  },
  {
   "cell_type": "code",
   "execution_count": 2,
   "metadata": {},
   "outputs": [
    {
     "name": "stdout",
     "output_type": "stream",
     "text": [
      "Why so serious\n"
     ]
    }
   ],
   "source": [
    "class Villian:\n",
    "    def greet(self):\n",
    "        print(\"Why so serious\")\n",
    "v = Villian()\n",
    "v.greet()"
   ]
  },
  {
   "cell_type": "code",
   "execution_count": 4,
   "metadata": {},
   "outputs": [
    {
     "name": "stdout",
     "output_type": "stream",
     "text": [
      "Chhota Bheem 23\n"
     ]
    }
   ],
   "source": [
    "class Student:\n",
    "    def info(self,name,age):\n",
    "        print(name,age)\n",
    "\n",
    "s1 = Student()\n",
    "s1.info(\"Chhota Bheem\",23)"
   ]
  },
  {
   "cell_type": "code",
   "execution_count": 10,
   "metadata": {},
   "outputs": [
    {
     "name": "stdout",
     "output_type": "stream",
     "text": [
      "Harley Quinzal and 34\n"
     ]
    }
   ],
   "source": [
    "class Person:\n",
    "    def greet(self, name, age):\n",
    "        print(f\"{name} and {age}\")\n",
    "\n",
    "p = Person()\n",
    "p.greet(\"Harley Quinzal\", 34)"
   ]
  },
  {
   "cell_type": "markdown",
   "metadata": {},
   "source": [
    "## **Constructor in Python**"
   ]
  },
  {
   "cell_type": "markdown",
   "metadata": {},
   "source": [
    "A constructor is a special method used to initialize objects of a class. The constructor method is called automatically when a new instance of a class is created. In Python, the constructor is defined using the __init__ method."
   ]
  },
  {
   "cell_type": "code",
   "execution_count": 12,
   "metadata": {},
   "outputs": [],
   "source": [
    "class car:\n",
    "    def __init__(self, name, hp):\n",
    "        self.name = name\n",
    "        self.hp = hp\n",
    "    \n",
    "    def getdetails(self):\n",
    "        print(f\"{self.name}\")"
   ]
  },
  {
   "cell_type": "code",
   "execution_count": 13,
   "metadata": {},
   "outputs": [
    {
     "name": "stdout",
     "output_type": "stream",
     "text": [
      "BMW\n"
     ]
    }
   ],
   "source": [
    "car1 = car(\"BMW\", 344)\n",
    "car1.getdetails()"
   ]
  },
  {
   "cell_type": "markdown",
   "metadata": {},
   "source": [
    "## **Questions**"
   ]
  },
  {
   "cell_type": "markdown",
   "metadata": {},
   "source": [
    "Q1. Create Employee Class - Define a class called Employee with attributes name and salary"
   ]
  },
  {
   "cell_type": "code",
   "execution_count": 33,
   "metadata": {},
   "outputs": [],
   "source": [
    "class Employee:\n",
    "    def __init__(self, name, salary):\n",
    "        self.name = name\n",
    "        self.salary = salary\n",
    "\n",
    "    def details(self):\n",
    "        print(f\"{self.name} and {self.salary}\")"
   ]
  },
  {
   "cell_type": "code",
   "execution_count": 34,
   "metadata": {},
   "outputs": [
    {
     "name": "stdout",
     "output_type": "stream",
     "text": [
      "Mohit and 70000\n"
     ]
    }
   ],
   "source": [
    "e1 = Employee(\"Mohit\", 70000)\n",
    "e1.details()"
   ]
  },
  {
   "cell_type": "markdown",
   "metadata": {},
   "source": [
    "Q2. Implement apply_bonus() - Add a method to the employee class that calculates and applies a 10% bonus to employee's salary"
   ]
  },
  {
   "cell_type": "code",
   "execution_count": 35,
   "metadata": {},
   "outputs": [
    {
     "name": "stdout",
     "output_type": "stream",
     "text": [
      "Mohit and 77000.0\n"
     ]
    }
   ],
   "source": [
    "class Employee:\n",
    "    def __init__(self):\n",
    "        self.name = \"Mohit\"\n",
    "        self.salary = 70000\n",
    "    def apply_bonus(self):\n",
    "        self.salary = self.salary + (self.salary * 0.1)\n",
    "        print(f\"{self.name} and {self.salary}\")\n",
    "e1 = Employee()\n",
    "e1.apply_bonus()"
   ]
  },
  {
   "cell_type": "markdown",
   "metadata": {},
   "source": [
    "Q3. Implement display_details() - Add a method to the Employee class that prints the employee's name and salary"
   ]
  },
  {
   "cell_type": "code",
   "execution_count": 36,
   "metadata": {},
   "outputs": [],
   "source": [
    "class Employee:\n",
    "    def __init__(self, name, salary):\n",
    "        self.name = name\n",
    "        self.salary = salary\n",
    "\n",
    "    def details(self):\n",
    "        print(f\"{self.name} and {self.salary}\")"
   ]
  },
  {
   "cell_type": "code",
   "execution_count": null,
   "metadata": {},
   "outputs": [],
   "source": [
    "e1 = Employee(\"Mohit\", 70000)\n",
    "e1.details()"
   ]
  },
  {
   "cell_type": "markdown",
   "metadata": {},
   "source": [
    "Q4. Process Multiple Employees - Use a for loop to apply the bonus and display details for multiple Employee instances  "
   ]
  },
  {
   "cell_type": "code",
   "execution_count": 40,
   "metadata": {},
   "outputs": [
    {
     "name": "stdout",
     "output_type": "stream",
     "text": [
      "Mohit 450000 and 450000\n",
      "Mohit 450000 and 495000.0\n",
      "Mohit and 450000\n",
      "Mohit and 495000.0\n"
     ]
    }
   ],
   "source": [
    "class Employee:\n",
    "    def __init__(self, name, salary):\n",
    "        self.name = name \n",
    "        self.salary = salary\n",
    "    \n",
    "    def details(self):\n",
    "        print(f\"{self.name} and {self.salary}\")\n",
    "\n",
    "    def apply_bonus(self):\n",
    "        self.salary = self.salary + (self.salary * 0.1)\n",
    "        print(f\"{self.name} and {self.salary}\")\n",
    "\n",
    "for i in range(2):\n",
    "    a = input(\"Enter Name: \")\n",
    "    b = int(input(\"Enter salary: \"))\n",
    "    emp = Employee(a, b)\n",
    "    emp.details()\n",
    "    emp.apply_bonus()"
   ]
  },
  {
   "cell_type": "markdown",
   "metadata": {},
   "source": [
    "## **Car Rental Question**"
   ]
  },
  {
   "cell_type": "markdown",
   "metadata": {},
   "source": [
    "Q1. Car Class - Create a class called Car with attributes model and rental_price_per_day\n",
    "Q2. calculate_rent() Method - Implement a methord that calculates the total rent for a given number of days\n",
    "Q3. Process Multiple Cars - Use a loop to calculate total rents for different cars"
   ]
  },
  {
   "cell_type": "code",
   "execution_count": 50,
   "metadata": {},
   "outputs": [
    {
     "name": "stdout",
     "output_type": "stream",
     "text": [
      "Car model is Cycle and rental price per day is 1500\n",
      "Car model is Bike and rental price per day is 4500\n",
      "Total rent for Cycle for 45 days is 67500\n",
      "Total rent for Bike for 45 days is 202500\n"
     ]
    }
   ],
   "source": [
    "class car:\n",
    "    def __init__(self, name, price):\n",
    "        self.name = name\n",
    "        self.price = price\n",
    "    \n",
    "\n",
    "    def rental_price_per_day(self):\n",
    "        print(f\"Car model is {self.name} and rental price per day is {self.price}\")\n",
    "\n",
    "    def calculate_rent(self, days):\n",
    "        total_rent = self.price * days\n",
    "        print(f\"Total rent for {self.name} for {days} days is {total_rent}\")\n",
    "\n",
    "car1 = car(\"Cycle\", 1500)\n",
    "car2 = car(\"Bike\", 4500)\n",
    "\n",
    "car1.rental_price_per_day()\n",
    "car2.rental_price_per_day()\n",
    "\n",
    "days = int(input(\"Enter number of days: \"))\n",
    "car1.calculate_rent(days)\n",
    "car2.calculate_rent(days)"
   ]
  },
  {
   "cell_type": "markdown",
   "metadata": {},
   "source": [
    "## **Bank Account Questions**"
   ]
  },
  {
   "cell_type": "markdown",
   "metadata": {},
   "source": [
    "Q1. Create Bank Account Class - "
   ]
  },
  {
   "cell_type": "markdown",
   "metadata": {},
   "source": []
  }
 ],
 "metadata": {
  "kernelspec": {
   "display_name": "Python 3",
   "language": "python",
   "name": "python3"
  },
  "language_info": {
   "codemirror_mode": {
    "name": "ipython",
    "version": 3
   },
   "file_extension": ".py",
   "mimetype": "text/x-python",
   "name": "python",
   "nbconvert_exporter": "python",
   "pygments_lexer": "ipython3",
   "version": "3.11.9"
  }
 },
 "nbformat": 4,
 "nbformat_minor": 2
}
