{
 "cells": [
  {
   "cell_type": "markdown",
   "metadata": {},
   "source": [
    "# **oops**"
   ]
  },
  {
   "cell_type": "code",
   "execution_count": 10,
   "metadata": {},
   "outputs": [
    {
     "name": "stdout",
     "output_type": "stream",
     "text": [
      "20\n"
     ]
    }
   ],
   "source": [
    "# oops \n",
    "class student:\n",
    "     pass\n",
    "s=student()\n",
    "s.id=20\n",
    "s.name=\"joker\"\n",
    "print(s.id)"
   ]
  },
  {
   "cell_type": "code",
   "execution_count": 11,
   "metadata": {},
   "outputs": [
    {
     "name": "stdout",
     "output_type": "stream",
     "text": [
      "why so serious\n"
     ]
    }
   ],
   "source": [
    "# Self variable\n",
    "class villan:\n",
    "    def greet(self):\n",
    "        print(\"why so serious\")\n",
    "v=villan()\n",
    "v.greet()"
   ]
  },
  {
   "cell_type": "code",
   "execution_count": 12,
   "metadata": {},
   "outputs": [
    {
     "name": "stdout",
     "output_type": "stream",
     "text": [
      "Chotta Bheem 23\n"
     ]
    }
   ],
   "source": [
    "class student:\n",
    "    def info(self,name,age):\n",
    "        print(name,age)\n",
    "\n",
    "s1=student()\n",
    "s1.info(\"Chotta Bheem\",23)"
   ]
  },
  {
   "cell_type": "code",
   "execution_count": 13,
   "metadata": {},
   "outputs": [],
   "source": [
    "# Variables :attributes\n",
    "# Functions:methods"
   ]
  },
  {
   "cell_type": "code",
   "execution_count": 27,
   "metadata": {},
   "outputs": [
    {
     "name": "stdout",
     "output_type": "stream",
     "text": [
      "ultron\n"
     ]
    }
   ],
   "source": [
    "# creating class \n",
    "class Person:\n",
    "    pass\n",
    "p1=Person()\n",
    "p1.name = \"ultron\"\n",
    "print(p1.name)"
   ]
  },
  {
   "cell_type": "code",
   "execution_count": 15,
   "metadata": {},
   "outputs": [
    {
     "name": "stdout",
     "output_type": "stream",
     "text": [
      "helloloid\n"
     ]
    }
   ],
   "source": [
    "# creating class \n",
    "class Person:\n",
    "    def greet(self,name):\n",
    "        print(f\"hello{name}\")\n",
    "    \n",
    "p1=Person()\n",
    "\n",
    "p1.greet(\"loid\")"
   ]
  },
  {
   "cell_type": "code",
   "execution_count": 16,
   "metadata": {},
   "outputs": [],
   "source": [
    "#constructors in python\n",
    "#it automatically executed when object is created. it initiaqlizes  "
   ]
  },
  {
   "cell_type": "code",
   "execution_count": 24,
   "metadata": {},
   "outputs": [],
   "source": [
    "#constructors\n",
    "\n",
    "class car:\n",
    "    def __init__(self,name,hp):\n",
    "      self.name=name\n",
    "      self.hp=hp\n",
    "    def getname(self):\n",
    "        print(f\"{self.name}\")"
   ]
  },
  {
   "cell_type": "code",
   "execution_count": 25,
   "metadata": {},
   "outputs": [
    {
     "name": "stdout",
     "output_type": "stream",
     "text": [
      "BMW\n"
     ]
    }
   ],
   "source": [
    "b1=car(\"BMW\",45)\n",
    "b1.getname()"
   ]
  },
  {
   "cell_type": "code",
   "execution_count": 29,
   "metadata": {},
   "outputs": [],
   "source": [
    "class car:\n",
    "    def __init__(self,name,hp):\n",
    "      self.name=name\n",
    "      self.hp=hp\n",
    "    def details(self):\n",
    "        print(f\"{self.name}\")"
   ]
  },
  {
   "cell_type": "code",
   "execution_count": 30,
   "metadata": {},
   "outputs": [
    {
     "name": "stdout",
     "output_type": "stream",
     "text": [
      "BMW\n"
     ]
    }
   ],
   "source": [
    "b1=car(\"BMW\",45)\n",
    "b1.details()"
   ]
  },
  {
   "cell_type": "code",
   "execution_count": null,
   "metadata": {},
   "outputs": [],
   "source": [
    "#  where we can provide instance variable"
   ]
  },
  {
   "cell_type": "markdown",
   "metadata": {},
   "source": [
    "### *questions*###"
   ]
  },
  {
   "cell_type": "code",
   "execution_count": 40,
   "metadata": {},
   "outputs": [],
   "source": [
    "# 1.Create employee class (define a class called employee with attributes name and salary)\n",
    "# 2.Implement apply bonus(add a method to the employee class that calculates and applies a 10%bonus to the salary of employee)\n",
    "# Implement display_details()  (add a method to the employee class that prints the employee's name and salary)\n",
    "# Process multiple employees (use a for loop to apply the bonus and display details for multiple employee instance)"
   ]
  },
  {
   "cell_type": "code",
   "execution_count": null,
   "metadata": {},
   "outputs": [],
   "source": [
    "# question 1.def salary with name & salary \n",
    "class employee:\n",
    "    def __init__(self,name,salary):\n",
    "        self.name=name\n",
    "        self.salary=salary\n",
    "    def getname(self):\n",
    "         print(f\"{self.name}\")    "
   ]
  },
  {
   "cell_type": "code",
   "execution_count": 34,
   "metadata": {},
   "outputs": [
    {
     "name": "stdout",
     "output_type": "stream",
     "text": [
      "Anuj\n"
     ]
    }
   ],
   "source": [
    "e1=employee(\"Anuj\",55000)\n",
    "e1.getname()"
   ]
  },
  {
   "cell_type": "code",
   "execution_count": 38,
   "metadata": {},
   "outputs": [],
   "source": [
    "class employee:\n",
    "    def __init__(self,name,salary):\n",
    "        self.name=name\n",
    "        self.salary=salary\n",
    "    def getsalary(self):\n",
    "         print(f\"{self.salary}\")   "
   ]
  },
  {
   "cell_type": "code",
   "execution_count": 39,
   "metadata": {},
   "outputs": [
    {
     "name": "stdout",
     "output_type": "stream",
     "text": [
      "55000\n"
     ]
    }
   ],
   "source": [
    "e1=employee(\"Anuj\",55000)\n",
    "e1.getsalary()"
   ]
  },
  {
   "cell_type": "code",
   "execution_count": 42,
   "metadata": {},
   "outputs": [],
   "source": [
    "class employee:\n",
    "    def __init__(self,name,salary):\n",
    "        self.name=name\n",
    "        self.salary=salary\n",
    "    def apply_bonus(self):\n",
    "        print(self.salary+(self.salary*0.1))\n",
    "    def details(self):\n",
    "        print(f\"{self.name} and {self.salary}\")  \n"
   ]
  },
  {
   "cell_type": "code",
   "execution_count": 43,
   "metadata": {},
   "outputs": [
    {
     "name": "stdout",
     "output_type": "stream",
     "text": [
      "Anuj and 50000\n",
      "55000.0\n"
     ]
    }
   ],
   "source": [
    "e1=employee(\"Anuj\",50000)\n",
    "e1.details()\n",
    "e1.apply_bonus()"
   ]
  },
  {
   "cell_type": "code",
   "execution_count": null,
   "metadata": {},
   "outputs": [],
   "source": [
    "# For mulptiple inputs\n",
    "l=[employee ]"
   ]
  },
  {
   "cell_type": "markdown",
   "metadata": {},
   "source": [
    "## **car rental questions**"
   ]
  },
  {
   "cell_type": "code",
   "execution_count": 48,
   "metadata": {},
   "outputs": [],
   "source": [
    "# create a class for car with rental price per day and model\n",
    "class car:\n",
    "    def __init__(self,model,rental_price_per_day):\n",
    "      self.model=model\n",
    "      self.rental_price_per_day=rental_price_per_day\n",
    "    def getmodel(model):\n",
    "               print(f\"{model}\")\n"
   ]
  },
  {
   "cell_type": "code",
   "execution_count": null,
   "metadata": {},
   "outputs": [
    {
     "name": "stdout",
     "output_type": "stream",
     "text": [
      "<__main__.car object at 0x000001B6E0E56720>\n"
     ]
    },
    {
     "ename": "TypeError",
     "evalue": "'car' object is not callable",
     "output_type": "error",
     "traceback": [
      "\u001b[1;31m---------------------------------------------------------------------------\u001b[0m",
      "\u001b[1;31mTypeError\u001b[0m                                 Traceback (most recent call last)",
      "Cell \u001b[1;32mIn[52], line 3\u001b[0m\n\u001b[0;32m      1\u001b[0m c1\u001b[38;5;241m=\u001b[39mcar(\u001b[38;5;124m\"\u001b[39m\u001b[38;5;124mamaze\u001b[39m\u001b[38;5;124m\"\u001b[39m,\u001b[38;5;241m2000\u001b[39m)\n\u001b[0;32m      2\u001b[0m c1\u001b[38;5;241m.\u001b[39mgetmodel()\n\u001b[1;32m----> 3\u001b[0m c1()\n",
      "\u001b[1;31mTypeError\u001b[0m: 'car' object is not callable"
     ]
    }
   ],
   "source": [
    "c1=car(\"amaze\",2000)\n",
    "c1.getmodel()"
   ]
  },
  {
   "cell_type": "code",
   "execution_count": null,
   "metadata": {},
   "outputs": [],
   "source": []
  }
 ],
 "metadata": {
  "kernelspec": {
   "display_name": "base",
   "language": "python",
   "name": "python3"
  },
  "language_info": {
   "codemirror_mode": {
    "name": "ipython",
    "version": 3
   },
   "file_extension": ".py",
   "mimetype": "text/x-python",
   "name": "python",
   "nbconvert_exporter": "python",
   "pygments_lexer": "ipython3",
   "version": "3.12.7"
  }
 },
 "nbformat": 4,
 "nbformat_minor": 2
}
