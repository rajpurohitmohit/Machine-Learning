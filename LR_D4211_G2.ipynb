{
 "cells": [
  {
   "cell_type": "markdown",
   "id": "a1d2b85c",
   "metadata": {},
   "source": [
    "# Price_in_lakhs is target variable "
   ]
  },
  {
   "cell_type": "code",
   "execution_count": 1,
   "id": "fce861de",
   "metadata": {},
   "outputs": [],
   "source": [
    "import pandas as pd\n",
    "import scipy.stats as stats\n",
    "import numpy as np\n",
    "import seaborn as sns\n",
    "pd.set_option(\"display.max_columns\",None)\n",
    "import matplotlib.pyplot as plt \n",
    "from sklearn.model_selection import train_test_split\n",
    "import statsmodels.api as sm\n",
    "import statsmodels.stats.api as sms\n",
    "from statsmodels.stats.outliers_influence import variance_inflation_factor as vif\n",
    "from sklearn.preprocessing import PolynomialFeatures,StandardScaler\n",
    "\n",
    "import warnings\n",
    "warnings.filterwarnings(\"ignore\")\n"
   ]
  },
  {
   "cell_type": "code",
   "execution_count": 2,
   "id": "d803c4a4",
   "metadata": {
    "scrolled": true
   },
   "outputs": [
    {
     "data": {
      "text/html": [
       "<div>\n",
       "<style scoped>\n",
       "    .dataframe tbody tr th:only-of-type {\n",
       "        vertical-align: middle;\n",
       "    }\n",
       "\n",
       "    .dataframe tbody tr th {\n",
       "        vertical-align: top;\n",
       "    }\n",
       "\n",
       "    .dataframe thead th {\n",
       "        text-align: right;\n",
       "    }\n",
       "</style>\n",
       "<table border=\"1\" class=\"dataframe\">\n",
       "  <thead>\n",
       "    <tr style=\"text-align: right;\">\n",
       "      <th></th>\n",
       "      <th>ID</th>\n",
       "      <th>State</th>\n",
       "      <th>City</th>\n",
       "      <th>Locality</th>\n",
       "      <th>Property_Type</th>\n",
       "      <th>BHK</th>\n",
       "      <th>Size_in_SqFt</th>\n",
       "      <th>Price_in_Lakhs</th>\n",
       "      <th>Price_per_SqFt</th>\n",
       "      <th>Year_Built</th>\n",
       "      <th>Furnished_Status</th>\n",
       "      <th>Floor_No</th>\n",
       "      <th>Total_Floors</th>\n",
       "      <th>Age_of_Property</th>\n",
       "      <th>Nearby_Schools</th>\n",
       "      <th>Nearby_Hospitals</th>\n",
       "      <th>Public_Transport_Accessibility</th>\n",
       "      <th>Parking_Space</th>\n",
       "      <th>Security</th>\n",
       "      <th>Amenities</th>\n",
       "      <th>Facing</th>\n",
       "      <th>Owner_Type</th>\n",
       "      <th>Availability_Status</th>\n",
       "    </tr>\n",
       "  </thead>\n",
       "  <tbody>\n",
       "    <tr>\n",
       "      <th>0</th>\n",
       "      <td>1</td>\n",
       "      <td>Tamil Nadu</td>\n",
       "      <td>Chennai</td>\n",
       "      <td>Locality_84</td>\n",
       "      <td>Apartment</td>\n",
       "      <td>1</td>\n",
       "      <td>4740.0</td>\n",
       "      <td>489.76</td>\n",
       "      <td>0.1</td>\n",
       "      <td>1990</td>\n",
       "      <td>Furnished</td>\n",
       "      <td>22.0</td>\n",
       "      <td>1</td>\n",
       "      <td>35.0</td>\n",
       "      <td>10</td>\n",
       "      <td>3</td>\n",
       "      <td>High</td>\n",
       "      <td>No</td>\n",
       "      <td>No</td>\n",
       "      <td>Playground, Gym, Garden, Pool, Clubhouse</td>\n",
       "      <td>West</td>\n",
       "      <td>Owner</td>\n",
       "      <td>Ready_to_Move</td>\n",
       "    </tr>\n",
       "  </tbody>\n",
       "</table>\n",
       "</div>"
      ],
      "text/plain": [
       "   ID       State     City     Locality Property_Type  BHK  Size_in_SqFt  \\\n",
       "0   1  Tamil Nadu  Chennai  Locality_84     Apartment    1        4740.0   \n",
       "\n",
       "   Price_in_Lakhs  Price_per_SqFt  Year_Built Furnished_Status  Floor_No  \\\n",
       "0          489.76             0.1        1990        Furnished      22.0   \n",
       "\n",
       "   Total_Floors  Age_of_Property  Nearby_Schools  Nearby_Hospitals  \\\n",
       "0             1             35.0              10                 3   \n",
       "\n",
       "  Public_Transport_Accessibility Parking_Space Security  \\\n",
       "0                           High            No       No   \n",
       "\n",
       "                                  Amenities Facing Owner_Type  \\\n",
       "0  Playground, Gym, Garden, Pool, Clubhouse   West      Owner   \n",
       "\n",
       "  Availability_Status  \n",
       "0       Ready_to_Move  "
      ]
     },
     "execution_count": 2,
     "metadata": {},
     "output_type": "execute_result"
    }
   ],
   "source": [
    "ihp = pd.read_csv(\"india_housing_prices.csv\")\n",
    "ihp.head(1)"
   ]
  },
  {
   "cell_type": "code",
   "execution_count": 3,
   "id": "fbb17367",
   "metadata": {},
   "outputs": [
    {
     "data": {
      "text/html": [
       "<div>\n",
       "<style scoped>\n",
       "    .dataframe tbody tr th:only-of-type {\n",
       "        vertical-align: middle;\n",
       "    }\n",
       "\n",
       "    .dataframe tbody tr th {\n",
       "        vertical-align: top;\n",
       "    }\n",
       "\n",
       "    .dataframe thead th {\n",
       "        text-align: right;\n",
       "    }\n",
       "</style>\n",
       "<table border=\"1\" class=\"dataframe\">\n",
       "  <thead>\n",
       "    <tr style=\"text-align: right;\">\n",
       "      <th></th>\n",
       "      <th>ID</th>\n",
       "      <th>State</th>\n",
       "      <th>City</th>\n",
       "      <th>Locality</th>\n",
       "      <th>Property_Type</th>\n",
       "      <th>BHK</th>\n",
       "      <th>Size_in_SqFt</th>\n",
       "      <th>Price_in_Lakhs</th>\n",
       "      <th>Price_per_SqFt</th>\n",
       "      <th>Year_Built</th>\n",
       "      <th>Furnished_Status</th>\n",
       "      <th>Floor_No</th>\n",
       "      <th>Total_Floors</th>\n",
       "      <th>Age_of_Property</th>\n",
       "      <th>Nearby_Schools</th>\n",
       "      <th>Nearby_Hospitals</th>\n",
       "      <th>Public_Transport_Accessibility</th>\n",
       "      <th>Parking_Space</th>\n",
       "      <th>Security</th>\n",
       "      <th>Amenities</th>\n",
       "      <th>Facing</th>\n",
       "      <th>Owner_Type</th>\n",
       "      <th>Availability_Status</th>\n",
       "    </tr>\n",
       "  </thead>\n",
       "  <tbody>\n",
       "    <tr>\n",
       "      <th>0</th>\n",
       "      <td>1</td>\n",
       "      <td>Tamil Nadu</td>\n",
       "      <td>Chennai</td>\n",
       "      <td>Locality_84</td>\n",
       "      <td>Apartment</td>\n",
       "      <td>1</td>\n",
       "      <td>4740.0</td>\n",
       "      <td>489.76</td>\n",
       "      <td>0.1</td>\n",
       "      <td>1990</td>\n",
       "      <td>Furnished</td>\n",
       "      <td>22.0</td>\n",
       "      <td>1</td>\n",
       "      <td>35.0</td>\n",
       "      <td>10</td>\n",
       "      <td>3</td>\n",
       "      <td>High</td>\n",
       "      <td>No</td>\n",
       "      <td>No</td>\n",
       "      <td>Playground, Gym, Garden, Pool, Clubhouse</td>\n",
       "      <td>West</td>\n",
       "      <td>Owner</td>\n",
       "      <td>Ready_to_Move</td>\n",
       "    </tr>\n",
       "  </tbody>\n",
       "</table>\n",
       "</div>"
      ],
      "text/plain": [
       "   ID       State     City     Locality Property_Type  BHK  Size_in_SqFt  \\\n",
       "0   1  Tamil Nadu  Chennai  Locality_84     Apartment    1        4740.0   \n",
       "\n",
       "   Price_in_Lakhs  Price_per_SqFt  Year_Built Furnished_Status  Floor_No  \\\n",
       "0          489.76             0.1        1990        Furnished      22.0   \n",
       "\n",
       "   Total_Floors  Age_of_Property  Nearby_Schools  Nearby_Hospitals  \\\n",
       "0             1             35.0              10                 3   \n",
       "\n",
       "  Public_Transport_Accessibility Parking_Space Security  \\\n",
       "0                           High            No       No   \n",
       "\n",
       "                                  Amenities Facing Owner_Type  \\\n",
       "0  Playground, Gym, Garden, Pool, Clubhouse   West      Owner   \n",
       "\n",
       "  Availability_Status  \n",
       "0       Ready_to_Move  "
      ]
     },
     "execution_count": 3,
     "metadata": {},
     "output_type": "execute_result"
    }
   ],
   "source": [
    "ihp[ihp.Property_Type==\"Apartment\"].head(1)"
   ]
  },
  {
   "cell_type": "code",
   "execution_count": 4,
   "id": "9d0fb825",
   "metadata": {},
   "outputs": [
    {
     "data": {
      "text/html": [
       "<div>\n",
       "<style scoped>\n",
       "    .dataframe tbody tr th:only-of-type {\n",
       "        vertical-align: middle;\n",
       "    }\n",
       "\n",
       "    .dataframe tbody tr th {\n",
       "        vertical-align: top;\n",
       "    }\n",
       "\n",
       "    .dataframe thead th {\n",
       "        text-align: right;\n",
       "    }\n",
       "</style>\n",
       "<table border=\"1\" class=\"dataframe\">\n",
       "  <thead>\n",
       "    <tr style=\"text-align: right;\">\n",
       "      <th></th>\n",
       "      <th>ID</th>\n",
       "      <th>State</th>\n",
       "      <th>City</th>\n",
       "      <th>Locality</th>\n",
       "      <th>Property_Type</th>\n",
       "      <th>BHK</th>\n",
       "      <th>Size_in_SqFt</th>\n",
       "      <th>Price_in_Lakhs</th>\n",
       "      <th>Price_per_SqFt</th>\n",
       "      <th>Year_Built</th>\n",
       "      <th>Furnished_Status</th>\n",
       "      <th>Floor_No</th>\n",
       "      <th>Total_Floors</th>\n",
       "      <th>Age_of_Property</th>\n",
       "      <th>Nearby_Schools</th>\n",
       "      <th>Nearby_Hospitals</th>\n",
       "      <th>Public_Transport_Accessibility</th>\n",
       "      <th>Parking_Space</th>\n",
       "      <th>Security</th>\n",
       "      <th>Amenities</th>\n",
       "      <th>Facing</th>\n",
       "      <th>Owner_Type</th>\n",
       "      <th>Availability_Status</th>\n",
       "    </tr>\n",
       "  </thead>\n",
       "  <tbody>\n",
       "  </tbody>\n",
       "</table>\n",
       "</div>"
      ],
      "text/plain": [
       "Empty DataFrame\n",
       "Columns: [ID, State, City, Locality, Property_Type, BHK, Size_in_SqFt, Price_in_Lakhs, Price_per_SqFt, Year_Built, Furnished_Status, Floor_No, Total_Floors, Age_of_Property, Nearby_Schools, Nearby_Hospitals, Public_Transport_Accessibility, Parking_Space, Security, Amenities, Facing, Owner_Type, Availability_Status]\n",
       "Index: []"
      ]
     },
     "execution_count": 4,
     "metadata": {},
     "output_type": "execute_result"
    }
   ],
   "source": [
    "ihp[ihp.duplicated()] #Duplicates"
   ]
  },
  {
   "cell_type": "code",
   "execution_count": 5,
   "id": "ab25dd51",
   "metadata": {},
   "outputs": [
    {
     "data": {
      "text/plain": [
       "(250000, 23)"
      ]
     },
     "execution_count": 5,
     "metadata": {},
     "output_type": "execute_result"
    }
   ],
   "source": [
    "ihp.shape"
   ]
  },
  {
   "cell_type": "code",
   "execution_count": 6,
   "id": "2f8a46af",
   "metadata": {},
   "outputs": [],
   "source": [
    "ihp.Price_in_Lakhs.dropna(inplace=True)"
   ]
  },
  {
   "cell_type": "code",
   "execution_count": 7,
   "id": "1dfed5b0",
   "metadata": {},
   "outputs": [
    {
     "data": {
      "text/plain": [
       "343"
      ]
     },
     "execution_count": 7,
     "metadata": {},
     "output_type": "execute_result"
    }
   ],
   "source": [
    "ihp.Price_in_Lakhs.isnull().sum()"
   ]
  },
  {
   "cell_type": "code",
   "execution_count": 8,
   "id": "45c5b86d",
   "metadata": {},
   "outputs": [
    {
     "name": "stdout",
     "output_type": "stream",
     "text": [
      "<class 'pandas.core.frame.DataFrame'>\n",
      "RangeIndex: 250000 entries, 0 to 249999\n",
      "Data columns (total 23 columns):\n",
      " #   Column                          Non-Null Count   Dtype  \n",
      "---  ------                          --------------   -----  \n",
      " 0   ID                              250000 non-null  int64  \n",
      " 1   State                           249956 non-null  object \n",
      " 2   City                            249971 non-null  object \n",
      " 3   Locality                        249809 non-null  object \n",
      " 4   Property_Type                   249837 non-null  object \n",
      " 5   BHK                             250000 non-null  int64  \n",
      " 6   Size_in_SqFt                    249462 non-null  float64\n",
      " 7   Price_in_Lakhs                  249657 non-null  float64\n",
      " 8   Price_per_SqFt                  250000 non-null  float64\n",
      " 9   Year_Built                      250000 non-null  int64  \n",
      " 10  Furnished_Status                249357 non-null  object \n",
      " 11  Floor_No                        249988 non-null  float64\n",
      " 12  Total_Floors                    250000 non-null  int64  \n",
      " 13  Age_of_Property                 249902 non-null  float64\n",
      " 14  Nearby_Schools                  250000 non-null  int64  \n",
      " 15  Nearby_Hospitals                250000 non-null  int64  \n",
      " 16  Public_Transport_Accessibility  250000 non-null  object \n",
      " 17  Parking_Space                   250000 non-null  object \n",
      " 18  Security                        250000 non-null  object \n",
      " 19  Amenities                       250000 non-null  object \n",
      " 20  Facing                          250000 non-null  object \n",
      " 21  Owner_Type                      249936 non-null  object \n",
      " 22  Availability_Status             249956 non-null  object \n",
      "dtypes: float64(5), int64(6), object(12)\n",
      "memory usage: 43.9+ MB\n"
     ]
    }
   ],
   "source": [
    "ihp.info()"
   ]
  },
  {
   "cell_type": "code",
   "execution_count": 9,
   "id": "be0261aa",
   "metadata": {},
   "outputs": [
    {
     "data": {
      "text/plain": [
       "250000"
      ]
     },
     "execution_count": 9,
     "metadata": {},
     "output_type": "execute_result"
    }
   ],
   "source": [
    "ihp.shape[0]"
   ]
  },
  {
   "cell_type": "markdown",
   "id": "7df435aa",
   "metadata": {},
   "source": [
    "# Null values "
   ]
  },
  {
   "cell_type": "code",
   "execution_count": 10,
   "id": "f05c0480",
   "metadata": {},
   "outputs": [
    {
     "data": {
      "text/plain": [
       "ID                                0.0000\n",
       "State                             0.0176\n",
       "City                              0.0116\n",
       "Locality                          0.0764\n",
       "Property_Type                     0.0652\n",
       "BHK                               0.0000\n",
       "Size_in_SqFt                      0.2152\n",
       "Price_in_Lakhs                    0.1372\n",
       "Price_per_SqFt                    0.0000\n",
       "Year_Built                        0.0000\n",
       "Furnished_Status                  0.2572\n",
       "Floor_No                          0.0048\n",
       "Total_Floors                      0.0000\n",
       "Age_of_Property                   0.0392\n",
       "Nearby_Schools                    0.0000\n",
       "Nearby_Hospitals                  0.0000\n",
       "Public_Transport_Accessibility    0.0000\n",
       "Parking_Space                     0.0000\n",
       "Security                          0.0000\n",
       "Amenities                         0.0000\n",
       "Facing                            0.0000\n",
       "Owner_Type                        0.0256\n",
       "Availability_Status               0.0176\n",
       "dtype: float64"
      ]
     },
     "execution_count": 10,
     "metadata": {},
     "output_type": "execute_result"
    }
   ],
   "source": [
    "ihp.isnull().sum()/ihp.shape[0]*100"
   ]
  },
  {
   "cell_type": "markdown",
   "id": "8b73dcb0",
   "metadata": {},
   "source": [
    "# Dropping ID"
   ]
  },
  {
   "cell_type": "code",
   "execution_count": 11,
   "id": "87802754",
   "metadata": {},
   "outputs": [],
   "source": [
    "ihp.drop(\"ID\",axis=1,inplace=True)"
   ]
  },
  {
   "cell_type": "code",
   "execution_count": 12,
   "id": "7ca933c5",
   "metadata": {},
   "outputs": [
    {
     "data": {
      "text/html": [
       "<div>\n",
       "<style scoped>\n",
       "    .dataframe tbody tr th:only-of-type {\n",
       "        vertical-align: middle;\n",
       "    }\n",
       "\n",
       "    .dataframe tbody tr th {\n",
       "        vertical-align: top;\n",
       "    }\n",
       "\n",
       "    .dataframe thead th {\n",
       "        text-align: right;\n",
       "    }\n",
       "</style>\n",
       "<table border=\"1\" class=\"dataframe\">\n",
       "  <thead>\n",
       "    <tr style=\"text-align: right;\">\n",
       "      <th></th>\n",
       "      <th>State</th>\n",
       "      <th>City</th>\n",
       "      <th>Locality</th>\n",
       "      <th>Property_Type</th>\n",
       "      <th>BHK</th>\n",
       "      <th>Size_in_SqFt</th>\n",
       "      <th>Price_in_Lakhs</th>\n",
       "      <th>Price_per_SqFt</th>\n",
       "      <th>Year_Built</th>\n",
       "      <th>Furnished_Status</th>\n",
       "      <th>Floor_No</th>\n",
       "      <th>Total_Floors</th>\n",
       "      <th>Age_of_Property</th>\n",
       "      <th>Nearby_Schools</th>\n",
       "      <th>Nearby_Hospitals</th>\n",
       "      <th>Public_Transport_Accessibility</th>\n",
       "      <th>Parking_Space</th>\n",
       "      <th>Security</th>\n",
       "      <th>Amenities</th>\n",
       "      <th>Facing</th>\n",
       "      <th>Owner_Type</th>\n",
       "      <th>Availability_Status</th>\n",
       "    </tr>\n",
       "  </thead>\n",
       "  <tbody>\n",
       "    <tr>\n",
       "      <th>0</th>\n",
       "      <td>Tamil Nadu</td>\n",
       "      <td>Chennai</td>\n",
       "      <td>Locality_84</td>\n",
       "      <td>Apartment</td>\n",
       "      <td>1</td>\n",
       "      <td>4740.0</td>\n",
       "      <td>489.76</td>\n",
       "      <td>0.1</td>\n",
       "      <td>1990</td>\n",
       "      <td>Furnished</td>\n",
       "      <td>22.0</td>\n",
       "      <td>1</td>\n",
       "      <td>35.0</td>\n",
       "      <td>10</td>\n",
       "      <td>3</td>\n",
       "      <td>High</td>\n",
       "      <td>No</td>\n",
       "      <td>No</td>\n",
       "      <td>Playground, Gym, Garden, Pool, Clubhouse</td>\n",
       "      <td>West</td>\n",
       "      <td>Owner</td>\n",
       "      <td>Ready_to_Move</td>\n",
       "    </tr>\n",
       "  </tbody>\n",
       "</table>\n",
       "</div>"
      ],
      "text/plain": [
       "        State     City     Locality Property_Type  BHK  Size_in_SqFt  \\\n",
       "0  Tamil Nadu  Chennai  Locality_84     Apartment    1        4740.0   \n",
       "\n",
       "   Price_in_Lakhs  Price_per_SqFt  Year_Built Furnished_Status  Floor_No  \\\n",
       "0          489.76             0.1        1990        Furnished      22.0   \n",
       "\n",
       "   Total_Floors  Age_of_Property  Nearby_Schools  Nearby_Hospitals  \\\n",
       "0             1             35.0              10                 3   \n",
       "\n",
       "  Public_Transport_Accessibility Parking_Space Security  \\\n",
       "0                           High            No       No   \n",
       "\n",
       "                                  Amenities Facing Owner_Type  \\\n",
       "0  Playground, Gym, Garden, Pool, Clubhouse   West      Owner   \n",
       "\n",
       "  Availability_Status  \n",
       "0       Ready_to_Move  "
      ]
     },
     "execution_count": 12,
     "metadata": {},
     "output_type": "execute_result"
    }
   ],
   "source": [
    "ihp.head(1)"
   ]
  },
  {
   "cell_type": "code",
   "execution_count": 13,
   "id": "11c43632",
   "metadata": {},
   "outputs": [
    {
     "data": {
      "text/html": [
       "<div>\n",
       "<style scoped>\n",
       "    .dataframe tbody tr th:only-of-type {\n",
       "        vertical-align: middle;\n",
       "    }\n",
       "\n",
       "    .dataframe tbody tr th {\n",
       "        vertical-align: top;\n",
       "    }\n",
       "\n",
       "    .dataframe thead th {\n",
       "        text-align: right;\n",
       "    }\n",
       "</style>\n",
       "<table border=\"1\" class=\"dataframe\">\n",
       "  <thead>\n",
       "    <tr style=\"text-align: right;\">\n",
       "      <th></th>\n",
       "      <th>BHK</th>\n",
       "      <th>Size_in_SqFt</th>\n",
       "      <th>Price_in_Lakhs</th>\n",
       "      <th>Price_per_SqFt</th>\n",
       "      <th>Year_Built</th>\n",
       "      <th>Floor_No</th>\n",
       "      <th>Total_Floors</th>\n",
       "      <th>Age_of_Property</th>\n",
       "      <th>Nearby_Schools</th>\n",
       "      <th>Nearby_Hospitals</th>\n",
       "    </tr>\n",
       "  </thead>\n",
       "  <tbody>\n",
       "    <tr>\n",
       "      <th>count</th>\n",
       "      <td>250000.000000</td>\n",
       "      <td>249462.000000</td>\n",
       "      <td>249657.000000</td>\n",
       "      <td>250000.000000</td>\n",
       "      <td>250000.000000</td>\n",
       "      <td>249988.000000</td>\n",
       "      <td>250000.000000</td>\n",
       "      <td>249902.000000</td>\n",
       "      <td>250000.000000</td>\n",
       "      <td>250000.000000</td>\n",
       "    </tr>\n",
       "    <tr>\n",
       "      <th>mean</th>\n",
       "      <td>2.999396</td>\n",
       "      <td>2749.816681</td>\n",
       "      <td>254.585476</td>\n",
       "      <td>0.130597</td>\n",
       "      <td>2006.520012</td>\n",
       "      <td>14.966878</td>\n",
       "      <td>15.503004</td>\n",
       "      <td>18.479976</td>\n",
       "      <td>5.499860</td>\n",
       "      <td>5.498016</td>\n",
       "    </tr>\n",
       "    <tr>\n",
       "      <th>std</th>\n",
       "      <td>1.415521</td>\n",
       "      <td>1300.599961</td>\n",
       "      <td>141.348869</td>\n",
       "      <td>0.130747</td>\n",
       "      <td>9.808575</td>\n",
       "      <td>8.948089</td>\n",
       "      <td>8.671618</td>\n",
       "      <td>9.808393</td>\n",
       "      <td>2.878639</td>\n",
       "      <td>2.871860</td>\n",
       "    </tr>\n",
       "    <tr>\n",
       "      <th>min</th>\n",
       "      <td>1.000000</td>\n",
       "      <td>500.000000</td>\n",
       "      <td>10.000000</td>\n",
       "      <td>0.000000</td>\n",
       "      <td>1990.000000</td>\n",
       "      <td>0.000000</td>\n",
       "      <td>1.000000</td>\n",
       "      <td>2.000000</td>\n",
       "      <td>1.000000</td>\n",
       "      <td>1.000000</td>\n",
       "    </tr>\n",
       "    <tr>\n",
       "      <th>25%</th>\n",
       "      <td>2.000000</td>\n",
       "      <td>1623.000000</td>\n",
       "      <td>132.540000</td>\n",
       "      <td>0.050000</td>\n",
       "      <td>1998.000000</td>\n",
       "      <td>7.000000</td>\n",
       "      <td>8.000000</td>\n",
       "      <td>10.000000</td>\n",
       "      <td>3.000000</td>\n",
       "      <td>3.000000</td>\n",
       "    </tr>\n",
       "    <tr>\n",
       "      <th>50%</th>\n",
       "      <td>3.000000</td>\n",
       "      <td>2747.000000</td>\n",
       "      <td>253.860000</td>\n",
       "      <td>0.090000</td>\n",
       "      <td>2007.000000</td>\n",
       "      <td>15.000000</td>\n",
       "      <td>15.000000</td>\n",
       "      <td>18.000000</td>\n",
       "      <td>5.000000</td>\n",
       "      <td>5.000000</td>\n",
       "    </tr>\n",
       "    <tr>\n",
       "      <th>75%</th>\n",
       "      <td>4.000000</td>\n",
       "      <td>3874.000000</td>\n",
       "      <td>376.880000</td>\n",
       "      <td>0.160000</td>\n",
       "      <td>2015.000000</td>\n",
       "      <td>23.000000</td>\n",
       "      <td>23.000000</td>\n",
       "      <td>27.000000</td>\n",
       "      <td>8.000000</td>\n",
       "      <td>8.000000</td>\n",
       "    </tr>\n",
       "    <tr>\n",
       "      <th>max</th>\n",
       "      <td>5.000000</td>\n",
       "      <td>5000.000000</td>\n",
       "      <td>500.000000</td>\n",
       "      <td>0.990000</td>\n",
       "      <td>2023.000000</td>\n",
       "      <td>30.000000</td>\n",
       "      <td>30.000000</td>\n",
       "      <td>35.000000</td>\n",
       "      <td>10.000000</td>\n",
       "      <td>10.000000</td>\n",
       "    </tr>\n",
       "  </tbody>\n",
       "</table>\n",
       "</div>"
      ],
      "text/plain": [
       "                 BHK   Size_in_SqFt  Price_in_Lakhs  Price_per_SqFt  \\\n",
       "count  250000.000000  249462.000000   249657.000000   250000.000000   \n",
       "mean        2.999396    2749.816681      254.585476        0.130597   \n",
       "std         1.415521    1300.599961      141.348869        0.130747   \n",
       "min         1.000000     500.000000       10.000000        0.000000   \n",
       "25%         2.000000    1623.000000      132.540000        0.050000   \n",
       "50%         3.000000    2747.000000      253.860000        0.090000   \n",
       "75%         4.000000    3874.000000      376.880000        0.160000   \n",
       "max         5.000000    5000.000000      500.000000        0.990000   \n",
       "\n",
       "          Year_Built       Floor_No   Total_Floors  Age_of_Property  \\\n",
       "count  250000.000000  249988.000000  250000.000000    249902.000000   \n",
       "mean     2006.520012      14.966878      15.503004        18.479976   \n",
       "std         9.808575       8.948089       8.671618         9.808393   \n",
       "min      1990.000000       0.000000       1.000000         2.000000   \n",
       "25%      1998.000000       7.000000       8.000000        10.000000   \n",
       "50%      2007.000000      15.000000      15.000000        18.000000   \n",
       "75%      2015.000000      23.000000      23.000000        27.000000   \n",
       "max      2023.000000      30.000000      30.000000        35.000000   \n",
       "\n",
       "       Nearby_Schools  Nearby_Hospitals  \n",
       "count   250000.000000     250000.000000  \n",
       "mean         5.499860          5.498016  \n",
       "std          2.878639          2.871860  \n",
       "min          1.000000          1.000000  \n",
       "25%          3.000000          3.000000  \n",
       "50%          5.000000          5.000000  \n",
       "75%          8.000000          8.000000  \n",
       "max         10.000000         10.000000  "
      ]
     },
     "execution_count": 13,
     "metadata": {},
     "output_type": "execute_result"
    }
   ],
   "source": [
    "ihp.describe()"
   ]
  },
  {
   "cell_type": "markdown",
   "id": "7fde5028",
   "metadata": {},
   "source": [
    "# Dropping rows with null value of target varibales "
   ]
  },
  {
   "cell_type": "code",
   "execution_count": 14,
   "id": "4b1fc313",
   "metadata": {},
   "outputs": [],
   "source": [
    "drop=ihp[ihp.Price_in_Lakhs.isnull()==True].index"
   ]
  },
  {
   "cell_type": "code",
   "execution_count": 15,
   "id": "83aca65a",
   "metadata": {},
   "outputs": [
    {
     "data": {
      "text/plain": [
       "Index([126, 127, 128, 129, 130, 131, 132, 133, 134, 135,\n",
       "       ...\n",
       "       880, 881, 882, 883, 884, 885, 886, 887, 888, 889],\n",
       "      dtype='int64', length=343)"
      ]
     },
     "execution_count": 15,
     "metadata": {},
     "output_type": "execute_result"
    }
   ],
   "source": [
    "drop"
   ]
  },
  {
   "cell_type": "code",
   "execution_count": 16,
   "id": "c9e68a3b",
   "metadata": {},
   "outputs": [],
   "source": [
    "ihp.drop(drop,inplace=True)"
   ]
  },
  {
   "cell_type": "code",
   "execution_count": 17,
   "id": "b84a107a",
   "metadata": {},
   "outputs": [
    {
     "data": {
      "text/plain": [
       "(249657, 22)"
      ]
     },
     "execution_count": 17,
     "metadata": {},
     "output_type": "execute_result"
    }
   ],
   "source": [
    "ihp.shape"
   ]
  },
  {
   "cell_type": "code",
   "execution_count": 18,
   "id": "5cf0bb6e",
   "metadata": {},
   "outputs": [],
   "source": [
    "ihp.reset_index(inplace=True)"
   ]
  },
  {
   "cell_type": "markdown",
   "id": "87d0efbe",
   "metadata": {},
   "source": [
    "# boxplot and distribution"
   ]
  },
  {
   "cell_type": "code",
   "execution_count": 19,
   "id": "a1b13b2d",
   "metadata": {},
   "outputs": [],
   "source": [
    "ihp.drop(\"index\",axis=1,inplace=True)"
   ]
  },
  {
   "cell_type": "code",
   "execution_count": 20,
   "id": "88e33602",
   "metadata": {},
   "outputs": [
    {
     "name": "stdout",
     "output_type": "stream",
     "text": [
      "BHK\n"
     ]
    },
    {
     "data": {
      "image/png": "[encoded data removed]",
      "text/plain": [
       "<Figure size 640x480 with 1 Axes>"
      ]
     },
     "metadata": {},
     "output_type": "display_data"
    },
    {
     "name": "stdout",
     "output_type": "stream",
     "text": [
      "Size_in_SqFt\n"
     ]
    },
    {
     "data": {
      "image/png": "[encoded data removed]",
      "text/plain": [
       "<Figure size 640x480 with 1 Axes>"
      ]
     },
     "metadata": {},
     "output_type": "display_data"
    },
    {
     "name": "stdout",
     "output_type": "stream",
     "text": [
      "Price_in_Lakhs\n"
     ]
    },
    {
     "data": {
      "image/png": "[encoded data removed]",
      "text/plain": [
       "<Figure size 640x480 with 1 Axes>"
      ]
     },
     "metadata": {},
     "output_type": "display_data"
    },
    {
     "name": "stdout",
     "output_type": "stream",
     "text": [
      "Price_per_SqFt\n"
     ]
    },
    {
     "data": {
      "image/png": "[encoded data removed]",
      "text/plain": [
       "<Figure size 640x480 with 1 Axes>"
      ]
     },
     "metadata": {},
     "output_type": "display_data"
    },
    {
     "name": "stdout",
     "output_type": "stream",
     "text": [
      "Year_Built\n"
     ]
    },
    {
     "data": {
      "image/png": "[encoded data removed]",
      "text/plain": [
       "<Figure size 640x480 with 1 Axes>"
      ]
     },
     "metadata": {},
     "output_type": "display_data"
    },
    {
     "name": "stdout",
     "output_type": "stream",
     "text": [
      "Floor_No\n"
     ]
    },
    {
     "data": {
      "image/png": "[encoded data removed]",
      "text/plain": [
       "<Figure size 640x480 with 1 Axes>"
      ]
     },
     "metadata": {},
     "output_type": "display_data"
    },
    {
     "name": "stdout",
     "output_type": "stream",
     "text": [
      "Total_Floors\n"
     ]
    },
    {
     "data": {
      "image/png": "[encoded data removed]",
      "text/plain": [
       "<Figure size 640x480 with 1 Axes>"
      ]
     },
     "metadata": {},
     "output_type": "display_data"
    },
    {
     "name": "stdout",
     "output_type": "stream",
     "text": [
      "Age_of_Property\n"
     ]
    },
    {
     "data": {
      "image/png": "[encoded data removed]",
      "text/plain": [
       "<Figure size 640x480 with 1 Axes>"
      ]
     },
     "metadata": {},
     "output_type": "display_data"
    },
    {
     "name": "stdout",
     "output_type": "stream",
     "text": [
      "Nearby_Schools\n"
     ]
    },
    {
     "data": {
      "image/png": "[encoded data removed]",
      "text/plain": [
       "<Figure size 640x480 with 1 Axes>"
      ]
     },
     "metadata": {},
     "output_type": "display_data"
    },
    {
     "name": "stdout",
     "output_type": "stream",
     "text": [
      "Nearby_Hospitals\n"
     ]
    },
    {
     "data": {
      "image/png": "[encoded data removed]",
      "text/plain": [
       "<Figure size 640x480 with 1 Axes>"
      ]
     },
     "metadata": {},
     "output_type": "display_data"
    },
    {
     "name": "stdout",
     "output_type": "stream",
     "text": [
      "CPU times: total: 4.23 s\n",
      "Wall time: 5.31 s\n"
     ]
    }
   ],
   "source": [
    "%%time\n",
    "for i in ihp.select_dtypes(exclude=\"object\"):\n",
    "    print(i)\n",
    "    sns.boxplot(ihp[i])\n",
    "    plt.show()"
   ]
  },
  {
   "cell_type": "markdown",
   "id": "95c1910b",
   "metadata": {},
   "source": []
  },
  {
   "cell_type": "markdown",
   "id": "c7756aa0",
   "metadata": {},
   "source": [
    "# Checking Duplicates "
   ]
  },
  {
   "cell_type": "code",
   "execution_count": 21,
   "id": "2aabdc95",
   "metadata": {},
   "outputs": [
    {
     "data": {
      "text/html": [
       "<div>\n",
       "<style scoped>\n",
       "    .dataframe tbody tr th:only-of-type {\n",
       "        vertical-align: middle;\n",
       "    }\n",
       "\n",
       "    .dataframe tbody tr th {\n",
       "        vertical-align: top;\n",
       "    }\n",
       "\n",
       "    .dataframe thead th {\n",
       "        text-align: right;\n",
       "    }\n",
       "</style>\n",
       "<table border=\"1\" class=\"dataframe\">\n",
       "  <thead>\n",
       "    <tr style=\"text-align: right;\">\n",
       "      <th></th>\n",
       "      <th>State</th>\n",
       "      <th>City</th>\n",
       "      <th>Locality</th>\n",
       "      <th>Property_Type</th>\n",
       "      <th>BHK</th>\n",
       "      <th>Size_in_SqFt</th>\n",
       "      <th>Price_in_Lakhs</th>\n",
       "      <th>Price_per_SqFt</th>\n",
       "      <th>Year_Built</th>\n",
       "      <th>Furnished_Status</th>\n",
       "      <th>Floor_No</th>\n",
       "      <th>Total_Floors</th>\n",
       "      <th>Age_of_Property</th>\n",
       "      <th>Nearby_Schools</th>\n",
       "      <th>Nearby_Hospitals</th>\n",
       "      <th>Public_Transport_Accessibility</th>\n",
       "      <th>Parking_Space</th>\n",
       "      <th>Security</th>\n",
       "      <th>Amenities</th>\n",
       "      <th>Facing</th>\n",
       "      <th>Owner_Type</th>\n",
       "      <th>Availability_Status</th>\n",
       "    </tr>\n",
       "  </thead>\n",
       "  <tbody>\n",
       "  </tbody>\n",
       "</table>\n",
       "</div>"
      ],
      "text/plain": [
       "Empty DataFrame\n",
       "Columns: [State, City, Locality, Property_Type, BHK, Size_in_SqFt, Price_in_Lakhs, Price_per_SqFt, Year_Built, Furnished_Status, Floor_No, Total_Floors, Age_of_Property, Nearby_Schools, Nearby_Hospitals, Public_Transport_Accessibility, Parking_Space, Security, Amenities, Facing, Owner_Type, Availability_Status]\n",
       "Index: []"
      ]
     },
     "execution_count": 21,
     "metadata": {},
     "output_type": "execute_result"
    }
   ],
   "source": [
    "ihp[ihp.duplicated()]"
   ]
  },
  {
   "cell_type": "markdown",
   "id": "3220b573",
   "metadata": {},
   "source": [
    "# Distribution of categorical data "
   ]
  },
  {
   "cell_type": "code",
   "execution_count": 22,
   "id": "1e6eaa88",
   "metadata": {},
   "outputs": [
    {
     "data": {
      "text/plain": [
       "Owner_Type\n",
       "Broker     33.387956\n",
       "Builder    33.307424\n",
       "Owner      33.304620\n",
       "Name: proportion, dtype: float64"
      ]
     },
     "execution_count": 22,
     "metadata": {},
     "output_type": "execute_result"
    }
   ],
   "source": [
    "ihp.Owner_Type.value_counts(normalize=True)*100"
   ]
  },
  {
   "cell_type": "code",
   "execution_count": 23,
   "id": "92063b1c",
   "metadata": {},
   "outputs": [
    {
     "data": {
      "text/plain": [
       "<Axes: xlabel='count', ylabel='State'>"
      ]
     },
     "execution_count": 23,
     "metadata": {},
     "output_type": "execute_result"
    },
    {
     "data": {
      "image/png": "[encoded data removed]",
      "text/plain": [
       "<Figure size 640x480 with 1 Axes>"
      ]
     },
     "metadata": {},
     "output_type": "display_data"
    }
   ],
   "source": [
    "sns.countplot(y=ihp.State)"
   ]
  },
  {
   "cell_type": "code",
   "execution_count": 24,
   "id": "3a7bb095",
   "metadata": {},
   "outputs": [
    {
     "data": {
      "text/plain": [
       "<Axes: xlabel='Floor_No', ylabel='Age_of_Property'>"
      ]
     },
     "execution_count": 24,
     "metadata": {},
     "output_type": "execute_result"
    },
    {
     "data": {
      "image/png": "[encoded data removed]",
      "text/plain": [
       "<Figure size 640x480 with 1 Axes>"
      ]
     },
     "metadata": {},
     "output_type": "display_data"
    }
   ],
   "source": [
    "sns.scatterplot(x=ihp.Floor_No,y=ihp.Age_of_Property)"
   ]
  },
  {
   "cell_type": "code",
   "execution_count": 25,
   "id": "b0700997",
   "metadata": {},
   "outputs": [
    {
     "data": {
      "text/plain": [
       "<Axes: >"
      ]
     },
     "execution_count": 25,
     "metadata": {},
     "output_type": "execute_result"
    },
    {
     "data": {
      "image/png": "[encoded data removed]",
      "text/plain": [
       "<Figure size 1000x800 with 2 Axes>"
      ]
     },
     "metadata": {},
     "output_type": "display_data"
    }
   ],
   "source": [
    "plt.figure(figsize=[10,8])\n",
    "sns.heatmap(ihp.select_dtypes(exclude=\"object\").corr(),annot=True)"
   ]
  },
  {
   "cell_type": "code",
   "execution_count": 26,
   "id": "6843e84b",
   "metadata": {},
   "outputs": [
    {
     "data": {
      "text/plain": [
       "<Axes: xlabel='Floor_No', ylabel='Price_in_Lakhs'>"
      ]
     },
     "execution_count": 26,
     "metadata": {},
     "output_type": "execute_result"
    },
    {
     "data": {
      "image/png": "[encoded data removed]",
      "text/plain": [
       "<Figure size 640x480 with 1 Axes>"
      ]
     },
     "metadata": {},
     "output_type": "display_data"
    }
   ],
   "source": [
    "sns.scatterplot(y=ihp.Price_in_Lakhs,x = ihp.Floor_No)"
   ]
  },
  {
   "cell_type": "markdown",
   "id": "5b83720a",
   "metadata": {},
   "source": [
    "# Data cleaning "
   ]
  },
  {
   "cell_type": "code",
   "execution_count": 27,
   "id": "bd8012e1",
   "metadata": {},
   "outputs": [
    {
     "data": {
      "text/html": [
       "<div>\n",
       "<style scoped>\n",
       "    .dataframe tbody tr th:only-of-type {\n",
       "        vertical-align: middle;\n",
       "    }\n",
       "\n",
       "    .dataframe tbody tr th {\n",
       "        vertical-align: top;\n",
       "    }\n",
       "\n",
       "    .dataframe thead th {\n",
       "        text-align: right;\n",
       "    }\n",
       "</style>\n",
       "<table border=\"1\" class=\"dataframe\">\n",
       "  <thead>\n",
       "    <tr style=\"text-align: right;\">\n",
       "      <th></th>\n",
       "      <th>State</th>\n",
       "      <th>City</th>\n",
       "      <th>Locality</th>\n",
       "      <th>Property_Type</th>\n",
       "      <th>BHK</th>\n",
       "      <th>Size_in_SqFt</th>\n",
       "      <th>Price_in_Lakhs</th>\n",
       "      <th>Price_per_SqFt</th>\n",
       "      <th>Year_Built</th>\n",
       "      <th>Furnished_Status</th>\n",
       "      <th>Floor_No</th>\n",
       "      <th>Total_Floors</th>\n",
       "      <th>Age_of_Property</th>\n",
       "      <th>Nearby_Schools</th>\n",
       "      <th>Nearby_Hospitals</th>\n",
       "      <th>Public_Transport_Accessibility</th>\n",
       "      <th>Parking_Space</th>\n",
       "      <th>Security</th>\n",
       "      <th>Amenities</th>\n",
       "      <th>Facing</th>\n",
       "      <th>Owner_Type</th>\n",
       "      <th>Availability_Status</th>\n",
       "    </tr>\n",
       "  </thead>\n",
       "  <tbody>\n",
       "    <tr>\n",
       "      <th>0</th>\n",
       "      <td>Tamil Nadu</td>\n",
       "      <td>Chennai</td>\n",
       "      <td>Locality_84</td>\n",
       "      <td>Apartment</td>\n",
       "      <td>1</td>\n",
       "      <td>4740.0</td>\n",
       "      <td>489.76</td>\n",
       "      <td>0.1</td>\n",
       "      <td>1990</td>\n",
       "      <td>Furnished</td>\n",
       "      <td>22.0</td>\n",
       "      <td>1</td>\n",
       "      <td>35.0</td>\n",
       "      <td>10</td>\n",
       "      <td>3</td>\n",
       "      <td>High</td>\n",
       "      <td>No</td>\n",
       "      <td>No</td>\n",
       "      <td>Playground, Gym, Garden, Pool, Clubhouse</td>\n",
       "      <td>West</td>\n",
       "      <td>Owner</td>\n",
       "      <td>Ready_to_Move</td>\n",
       "    </tr>\n",
       "  </tbody>\n",
       "</table>\n",
       "</div>"
      ],
      "text/plain": [
       "        State     City     Locality Property_Type  BHK  Size_in_SqFt  \\\n",
       "0  Tamil Nadu  Chennai  Locality_84     Apartment    1        4740.0   \n",
       "\n",
       "   Price_in_Lakhs  Price_per_SqFt  Year_Built Furnished_Status  Floor_No  \\\n",
       "0          489.76             0.1        1990        Furnished      22.0   \n",
       "\n",
       "   Total_Floors  Age_of_Property  Nearby_Schools  Nearby_Hospitals  \\\n",
       "0             1             35.0              10                 3   \n",
       "\n",
       "  Public_Transport_Accessibility Parking_Space Security  \\\n",
       "0                           High            No       No   \n",
       "\n",
       "                                  Amenities Facing Owner_Type  \\\n",
       "0  Playground, Gym, Garden, Pool, Clubhouse   West      Owner   \n",
       "\n",
       "  Availability_Status  \n",
       "0       Ready_to_Move  "
      ]
     },
     "execution_count": 27,
     "metadata": {},
     "output_type": "execute_result"
    }
   ],
   "source": [
    "ihp.head(1)"
   ]
  },
  {
   "cell_type": "code",
   "execution_count": 28,
   "id": "82218692",
   "metadata": {},
   "outputs": [
    {
     "data": {
      "text/plain": [
       "State                              44\n",
       "City                               29\n",
       "Locality                            0\n",
       "Property_Type                       0\n",
       "BHK                                 0\n",
       "Size_in_SqFt                      350\n",
       "Price_in_Lakhs                      0\n",
       "Price_per_SqFt                      0\n",
       "Year_Built                          0\n",
       "Furnished_Status                  302\n",
       "Floor_No                           12\n",
       "Total_Floors                        0\n",
       "Age_of_Property                    98\n",
       "Nearby_Schools                      0\n",
       "Nearby_Hospitals                    0\n",
       "Public_Transport_Accessibility      0\n",
       "Parking_Space                       0\n",
       "Security                            0\n",
       "Amenities                           0\n",
       "Facing                              0\n",
       "Owner_Type                         64\n",
       "Availability_Status                44\n",
       "dtype: int64"
      ]
     },
     "execution_count": 28,
     "metadata": {},
     "output_type": "execute_result"
    }
   ],
   "source": [
    "ihp.isnull().sum()\n"
   ]
  },
  {
   "cell_type": "markdown",
   "id": "4985634f",
   "metadata": {},
   "source": [
    "# Fill null values in State "
   ]
  },
  {
   "cell_type": "code",
   "execution_count": 29,
   "id": "af5c6aa9",
   "metadata": {},
   "outputs": [],
   "source": [
    "ihp.State.fillna(ihp.State.mode()[0],inplace=True)"
   ]
  },
  {
   "cell_type": "markdown",
   "id": "9782ce54",
   "metadata": {},
   "source": [
    "# filling null values "
   ]
  },
  {
   "cell_type": "code",
   "execution_count": 30,
   "id": "c74c6d22",
   "metadata": {},
   "outputs": [],
   "source": [
    "ihp.City.fillna(ihp.City.mode()[0],inplace=True)"
   ]
  },
  {
   "cell_type": "code",
   "execution_count": 31,
   "id": "9d954911",
   "metadata": {},
   "outputs": [],
   "source": [
    "ihp[\"Size_in_SqFt\"].fillna(ihp[\"Size_in_SqFt\"].mean(),inplace=True)"
   ]
  },
  {
   "cell_type": "code",
   "execution_count": 32,
   "id": "5246ac60",
   "metadata": {},
   "outputs": [],
   "source": [
    "ihp[\"Age_of_Property\"].fillna(ihp[\"Age_of_Property\"].mean(),inplace=True)"
   ]
  },
  {
   "cell_type": "code",
   "execution_count": 33,
   "id": "fc3c0648",
   "metadata": {},
   "outputs": [
    {
     "data": {
      "text/plain": [
       "State                               0\n",
       "City                                0\n",
       "Locality                            0\n",
       "Property_Type                       0\n",
       "BHK                                 0\n",
       "Size_in_SqFt                        0\n",
       "Price_in_Lakhs                      0\n",
       "Price_per_SqFt                      0\n",
       "Year_Built                          0\n",
       "Furnished_Status                  302\n",
       "Floor_No                           12\n",
       "Total_Floors                        0\n",
       "Age_of_Property                     0\n",
       "Nearby_Schools                      0\n",
       "Nearby_Hospitals                    0\n",
       "Public_Transport_Accessibility      0\n",
       "Parking_Space                       0\n",
       "Security                            0\n",
       "Amenities                           0\n",
       "Facing                              0\n",
       "Owner_Type                         64\n",
       "Availability_Status                44\n",
       "dtype: int64"
      ]
     },
     "execution_count": 33,
     "metadata": {},
     "output_type": "execute_result"
    }
   ],
   "source": [
    "ihp.isnull().sum()"
   ]
  },
  {
   "cell_type": "code",
   "execution_count": 34,
   "id": "7ce9ad8e",
   "metadata": {},
   "outputs": [],
   "source": [
    "ihp[\"Furnished_Status\"].fillna(ihp[\"Furnished_Status\"].mode()[0],inplace=True)"
   ]
  },
  {
   "cell_type": "code",
   "execution_count": 35,
   "id": "5cb51ee2",
   "metadata": {},
   "outputs": [],
   "source": [
    "ihp[\"Floor_No\"].fillna(ihp[\"Floor_No\"].mean(),inplace=True)"
   ]
  },
  {
   "cell_type": "code",
   "execution_count": 36,
   "id": "60126264",
   "metadata": {},
   "outputs": [],
   "source": [
    "ihp[\"Owner_Type\"].fillna(ihp[\"Owner_Type\"].mode()[0],inplace=True)"
   ]
  },
  {
   "cell_type": "code",
   "execution_count": 37,
   "id": "088a36ae",
   "metadata": {},
   "outputs": [],
   "source": [
    "ihp[\"Availability_Status\"].fillna(ihp[\"Availability_Status\"].mode()[0],inplace=True)"
   ]
  },
  {
   "cell_type": "code",
   "execution_count": 38,
   "id": "83071aa2",
   "metadata": {},
   "outputs": [
    {
     "data": {
      "text/plain": [
       "State                             0\n",
       "City                              0\n",
       "Locality                          0\n",
       "Property_Type                     0\n",
       "BHK                               0\n",
       "Size_in_SqFt                      0\n",
       "Price_in_Lakhs                    0\n",
       "Price_per_SqFt                    0\n",
       "Year_Built                        0\n",
       "Furnished_Status                  0\n",
       "Floor_No                          0\n",
       "Total_Floors                      0\n",
       "Age_of_Property                   0\n",
       "Nearby_Schools                    0\n",
       "Nearby_Hospitals                  0\n",
       "Public_Transport_Accessibility    0\n",
       "Parking_Space                     0\n",
       "Security                          0\n",
       "Amenities                         0\n",
       "Facing                            0\n",
       "Owner_Type                        0\n",
       "Availability_Status               0\n",
       "dtype: int64"
      ]
     },
     "execution_count": 38,
     "metadata": {},
     "output_type": "execute_result"
    }
   ],
   "source": [
    "ihp.isnull().sum()"
   ]
  },
  {
   "cell_type": "code",
   "execution_count": 39,
   "id": "5e0f4d3d",
   "metadata": {},
   "outputs": [],
   "source": [
    "ihp.Locality=ihp[\"Locality\"].apply(lambda x:x.split('_')[1])"
   ]
  },
  {
   "cell_type": "code",
   "execution_count": 40,
   "id": "237e01eb",
   "metadata": {},
   "outputs": [],
   "source": [
    "data = ihp.copy()"
   ]
  },
  {
   "cell_type": "code",
   "execution_count": 41,
   "id": "ac4659d8",
   "metadata": {},
   "outputs": [],
   "source": [
    "X = data.drop(\"Price_in_Lakhs\",axis=1)\n",
    "y = data.Price_in_Lakhs"
   ]
  },
  {
   "cell_type": "code",
   "execution_count": 42,
   "id": "066fe8c0",
   "metadata": {},
   "outputs": [],
   "source": [
    "xtrain , xtest , ytrain , ytest = train_test_split(X,y,test_size=0.2,random_state=35)"
   ]
  },
  {
   "cell_type": "code",
   "execution_count": 43,
   "id": "5c19da8a",
   "metadata": {},
   "outputs": [
    {
     "data": {
      "text/plain": [
       "State\n",
       "Tamil Nadu        5.076480\n",
       "Delhi             5.059457\n",
       "Odisha            5.058455\n",
       "West Bengal       5.056453\n",
       "Punjab            5.031418\n",
       "Gujarat           5.029415\n",
       "Uttar Pradesh     5.027413\n",
       "Kerala            5.011891\n",
       "Maharashtra       5.007385\n",
       "Uttarakhand       5.004882\n",
       "Andhra Pradesh    5.001878\n",
       "Telangana         4.998373\n",
       "Jharkhand         4.981349\n",
       "Haryana           4.977344\n",
       "Assam             4.963325\n",
       "Karnataka         4.961322\n",
       "Madhya Pradesh    4.960320\n",
       "Rajasthan         4.944298\n",
       "Chhattisgarh      4.935286\n",
       "Bihar             4.913256\n",
       "Name: proportion, dtype: float64"
      ]
     },
     "execution_count": 43,
     "metadata": {},
     "output_type": "execute_result"
    }
   ],
   "source": [
    "xtrain.State.value_counts(normalize=True)*100"
   ]
  },
  {
   "cell_type": "code",
   "execution_count": 44,
   "id": "691d1c04",
   "metadata": {},
   "outputs": [
    {
     "data": {
      "text/plain": [
       "42"
      ]
     },
     "execution_count": 44,
     "metadata": {},
     "output_type": "execute_result"
    }
   ],
   "source": [
    "xtrain.City.nunique()"
   ]
  },
  {
   "cell_type": "markdown",
   "id": "81d82321",
   "metadata": {},
   "source": [
    "# outlier treatment in train data "
   ]
  },
  {
   "cell_type": "code",
   "execution_count": 45,
   "id": "b2174966",
   "metadata": {},
   "outputs": [],
   "source": [
    "for i in xtrain.select_dtypes(include=np.number):\n",
    "    q1=xtrain[i].quantile(0.25)\n",
    "    q3=xtrain[i].quantile(0.75)\n",
    "    iqr= q3-q1\n",
    "    u=q3+1.5*(iqr)\n",
    "    l=q1-1.5*(iqr)\n",
    "    xtrain[i]=xtrain[i].clip(lower=l,upper=u)"
   ]
  },
  {
   "cell_type": "markdown",
   "id": "161fdc7b",
   "metadata": {},
   "source": [
    "# Encoding "
   ]
  },
  {
   "cell_type": "code",
   "execution_count": 46,
   "id": "4ef0913a",
   "metadata": {},
   "outputs": [
    {
     "data": {
      "text/plain": [
       "array(['No', 'Yes'], dtype=object)"
      ]
     },
     "execution_count": 46,
     "metadata": {},
     "output_type": "execute_result"
    }
   ],
   "source": [
    "xtrain.Parking_Space.unique()"
   ]
  },
  {
   "cell_type": "code",
   "execution_count": 47,
   "id": "1092a29d",
   "metadata": {},
   "outputs": [],
   "source": [
    "xtest.Parking_Space=xtest.Parking_Space.apply(lambda x:1 if x==\"Yes\" else 0)\n",
    "xtrain.Parking_Space=xtrain.Parking_Space.apply(lambda x:1 if x==\"Yes\" else 0)\n",
    "\n",
    "\n",
    "\n"
   ]
  },
  {
   "cell_type": "code",
   "execution_count": 48,
   "id": "ea346b24",
   "metadata": {},
   "outputs": [],
   "source": [
    "xtest.Security=xtest.Security.apply(lambda x:1 if x==\"Yes\" else 0)\n",
    "xtrain.Security=xtrain.Security.apply(lambda x:1 if x==\"Yes\" else 0)\n"
   ]
  },
  {
   "cell_type": "markdown",
   "id": "7f16b778",
   "metadata": {},
   "source": [
    "# Convert locality into int "
   ]
  },
  {
   "cell_type": "code",
   "execution_count": 49,
   "id": "a1a8928c",
   "metadata": {},
   "outputs": [
    {
     "name": "stderr",
     "output_type": "stream",
     "text": [
      "C:\\Users\\ashwi\\anaconda3\\Lib\\site-packages\\pandas\\core\\dtypes\\common.py:1645: DeprecationWarning: Converting `np.inexact` or `np.floating` to a dtype is deprecated. The current result is `float64` which is not strictly correct.\n",
      "  npdtype = np.dtype(dtype)\n"
     ]
    }
   ],
   "source": [
    "xtrain.Locality=xtrain.Locality.astype(np.number)"
   ]
  },
  {
   "cell_type": "code",
   "execution_count": 50,
   "id": "36b28eeb",
   "metadata": {},
   "outputs": [
    {
     "data": {
      "text/plain": [
       "array(['Under_Construction', 'Ready_to_Move'], dtype=object)"
      ]
     },
     "execution_count": 50,
     "metadata": {},
     "output_type": "execute_result"
    }
   ],
   "source": [
    "xtrain.Availability_Status.unique()"
   ]
  },
  {
   "cell_type": "code",
   "execution_count": 51,
   "id": "9685f066",
   "metadata": {},
   "outputs": [],
   "source": [
    "import warnings\n",
    "warnings.filterwarnings(\"ignore\")"
   ]
  },
  {
   "cell_type": "code",
   "execution_count": 52,
   "id": "4e17f55f",
   "metadata": {},
   "outputs": [],
   "source": [
    "xtrain.Availability_Status=xtrain.Availability_Status.apply(lambda x:1 if x== \"Ready_to_Move\" else 0  )\n",
    "xtest.Availability_Status=xtest.Availability_Status.apply(lambda x:1 if x==\"Ready_to_Move\" else 0  )"
   ]
  },
  {
   "cell_type": "code",
   "execution_count": 53,
   "id": "f06d469a",
   "metadata": {},
   "outputs": [],
   "source": [
    "xtrain.Public_Transport_Accessibility=xtrain.Public_Transport_Accessibility.apply(lambda x:3 if x==\"High\" else 2 if x==\"Medium\" else 1  )\n",
    "xtest.Public_Transport_Accessibility=xtest.Public_Transport_Accessibility.apply(lambda x:3 if x==\"High\" else 2 if x==\"Medium\" else 1 )"
   ]
  },
  {
   "cell_type": "code",
   "execution_count": 54,
   "id": "ed46adbd",
   "metadata": {},
   "outputs": [
    {
     "name": "stdout",
     "output_type": "stream",
     "text": [
      "<class 'pandas.core.frame.DataFrame'>\n",
      "Index: 199725 entries, 119941 to 202441\n",
      "Data columns (total 21 columns):\n",
      " #   Column                          Non-Null Count   Dtype  \n",
      "---  ------                          --------------   -----  \n",
      " 0   State                           199725 non-null  object \n",
      " 1   City                            199725 non-null  object \n",
      " 2   Locality                        199725 non-null  float64\n",
      " 3   Property_Type                   199725 non-null  object \n",
      " 4   BHK                             199725 non-null  int64  \n",
      " 5   Size_in_SqFt                    199725 non-null  float64\n",
      " 6   Price_per_SqFt                  199725 non-null  float64\n",
      " 7   Year_Built                      199725 non-null  int64  \n",
      " 8   Furnished_Status                199725 non-null  object \n",
      " 9   Floor_No                        199725 non-null  float64\n",
      " 10  Total_Floors                    199725 non-null  int64  \n",
      " 11  Age_of_Property                 199725 non-null  float64\n",
      " 12  Nearby_Schools                  199725 non-null  int64  \n",
      " 13  Nearby_Hospitals                199725 non-null  int64  \n",
      " 14  Public_Transport_Accessibility  199725 non-null  int64  \n",
      " 15  Parking_Space                   199725 non-null  int64  \n",
      " 16  Security                        199725 non-null  int64  \n",
      " 17  Amenities                       199725 non-null  object \n",
      " 18  Facing                          199725 non-null  object \n",
      " 19  Owner_Type                      199725 non-null  object \n",
      " 20  Availability_Status             199725 non-null  int64  \n",
      "dtypes: float64(5), int64(9), object(7)\n",
      "memory usage: 33.5+ MB\n"
     ]
    }
   ],
   "source": [
    "xtrain.info()"
   ]
  },
  {
   "cell_type": "code",
   "execution_count": 55,
   "id": "9e0d26ad",
   "metadata": {},
   "outputs": [
    {
     "data": {
      "text/plain": [
       "array(['Semi-furnished', 'Unfurnished', 'Furnished'], dtype=object)"
      ]
     },
     "execution_count": 55,
     "metadata": {},
     "output_type": "execute_result"
    }
   ],
   "source": [
    "xtrain.Furnished_Status.unique() "
   ]
  },
  {
   "cell_type": "code",
   "execution_count": 56,
   "id": "8e1db26c",
   "metadata": {},
   "outputs": [],
   "source": [
    "xtrain.Furnished_Status=xtrain.Furnished_Status.apply(lambda x:3 if x==\"Furnished\" else 2 if x==\"Semi-furnished\" else 1)"
   ]
  },
  {
   "cell_type": "code",
   "execution_count": 57,
   "id": "d31f49af",
   "metadata": {},
   "outputs": [],
   "source": [
    "xtest.Furnished_Status=xtest.Furnished_Status.apply(lambda x:3 if x==\"Furnished\" else 2 if x==\"Semi-furnished\" else 1)"
   ]
  },
  {
   "cell_type": "code",
   "execution_count": 58,
   "id": "91bb40e3",
   "metadata": {},
   "outputs": [
    {
     "data": {
      "text/plain": [
       "array([2, 3, 1], dtype=int64)"
      ]
     },
     "execution_count": 58,
     "metadata": {},
     "output_type": "execute_result"
    }
   ],
   "source": [
    "xtrain.Furnished_Status.unique() # cross checking categories are updated or not \n",
    "xtest.Furnished_Status.unique()"
   ]
  },
  {
   "cell_type": "code",
   "execution_count": 59,
   "id": "7a5bdf31",
   "metadata": {},
   "outputs": [
    {
     "data": {
      "text/plain": [
       "array(['North', 'East', 'South', 'West'], dtype=object)"
      ]
     },
     "execution_count": 59,
     "metadata": {},
     "output_type": "execute_result"
    }
   ],
   "source": [
    "xtrain.Facing.unique()"
   ]
  },
  {
   "cell_type": "code",
   "execution_count": 60,
   "id": "4f441f29",
   "metadata": {},
   "outputs": [],
   "source": [
    "g1=pd.concat([xtrain.Facing,ytrain],axis=1).groupby(\"Facing\")[\"Price_in_Lakhs\"].mean()"
   ]
  },
  {
   "cell_type": "code",
   "execution_count": 61,
   "id": "0f49818a",
   "metadata": {},
   "outputs": [],
   "source": [
    "xtrain.Facing=xtrain.Facing.map(g1)"
   ]
  },
  {
   "cell_type": "code",
   "execution_count": 62,
   "id": "040c3b54",
   "metadata": {},
   "outputs": [],
   "source": [
    "xtest.Facing=xtest.Facing.map(g1).fillna(np.mean(ytrain))"
   ]
  },
  {
   "cell_type": "code",
   "execution_count": 63,
   "id": "8c78a6f9",
   "metadata": {},
   "outputs": [
    {
     "data": {
      "text/plain": [
       "array(['Builder', 'Owner', 'Broker'], dtype=object)"
      ]
     },
     "execution_count": 63,
     "metadata": {},
     "output_type": "execute_result"
    }
   ],
   "source": [
    "xtrain.Owner_Type.unique()"
   ]
  },
  {
   "cell_type": "code",
   "execution_count": 64,
   "id": "2965b815",
   "metadata": {},
   "outputs": [
    {
     "name": "stderr",
     "output_type": "stream",
     "text": [
      "C:\\Users\\ashwi\\anaconda3\\Lib\\site-packages\\pandas\\core\\dtypes\\common.py:1645: DeprecationWarning: Converting `np.inexact` or `np.floating` to a dtype is deprecated. The current result is `float64` which is not strictly correct.\n",
      "  npdtype = np.dtype(dtype)\n"
     ]
    }
   ],
   "source": [
    "v= pd.get_dummies(xtrain.Owner_Type)\n",
    "v=v.astype(np.number)"
   ]
  },
  {
   "cell_type": "markdown",
   "id": "f12eb7cd-63b3-410f-af6d-b85ae4d7633b",
   "metadata": {},
   "source": []
  },
  {
   "cell_type": "code",
   "execution_count": 65,
   "id": "1b576aca",
   "metadata": {},
   "outputs": [],
   "source": [
    "xtrain=pd.concat([xtrain,v],axis=1)"
   ]
  },
  {
   "cell_type": "code",
   "execution_count": 66,
   "id": "b79bc87a",
   "metadata": {},
   "outputs": [
    {
     "data": {
      "text/plain": [
       "(199725, 24)"
      ]
     },
     "execution_count": 66,
     "metadata": {},
     "output_type": "execute_result"
    }
   ],
   "source": [
    "xtrain.shape"
   ]
  },
  {
   "cell_type": "code",
   "execution_count": null,
   "id": "97f13c44",
   "metadata": {},
   "outputs": [],
   "source": []
  },
  {
   "cell_type": "code",
   "execution_count": 67,
   "id": "c60bfe4b",
   "metadata": {},
   "outputs": [
    {
     "name": "stderr",
     "output_type": "stream",
     "text": [
      "C:\\Users\\ashwi\\anaconda3\\Lib\\site-packages\\pandas\\core\\dtypes\\common.py:1645: DeprecationWarning: Converting `np.inexact` or `np.floating` to a dtype is deprecated. The current result is `float64` which is not strictly correct.\n",
      "  npdtype = np.dtype(dtype)\n"
     ]
    }
   ],
   "source": [
    "b= pd.get_dummies(xtest.Owner_Type)\n",
    "b=b.astype(np.number)"
   ]
  },
  {
   "cell_type": "code",
   "execution_count": 68,
   "id": "ffd20192",
   "metadata": {},
   "outputs": [],
   "source": [
    "xtest=pd.concat([xtest,b],axis=1)"
   ]
  },
  {
   "cell_type": "code",
   "execution_count": 69,
   "id": "7bae1acc",
   "metadata": {},
   "outputs": [
    {
     "data": {
      "text/plain": [
       "(49932, 24)"
      ]
     },
     "execution_count": 69,
     "metadata": {},
     "output_type": "execute_result"
    }
   ],
   "source": [
    "xtest.shape"
   ]
  },
  {
   "cell_type": "code",
   "execution_count": 70,
   "id": "2ef50cba",
   "metadata": {},
   "outputs": [],
   "source": [
    "xtrain.drop(\"Owner_Type\",axis=1,inplace=True)"
   ]
  },
  {
   "cell_type": "code",
   "execution_count": 71,
   "id": "c4631cce",
   "metadata": {},
   "outputs": [],
   "source": [
    "xtest.drop(\"Owner_Type\",axis=1,inplace=True)"
   ]
  },
  {
   "cell_type": "code",
   "execution_count": 72,
   "id": "521ab37f",
   "metadata": {},
   "outputs": [
    {
     "name": "stdout",
     "output_type": "stream",
     "text": [
      "(199725, 23) (49932, 23)\n"
     ]
    }
   ],
   "source": [
    "print(xtrain.shape,xtest.shape)"
   ]
  },
  {
   "cell_type": "markdown",
   "id": "4874a9be",
   "metadata": {},
   "source": [
    "# Encoding for State"
   ]
  },
  {
   "cell_type": "code",
   "execution_count": 73,
   "id": "88c7bc74",
   "metadata": {},
   "outputs": [],
   "source": [
    "state=pd.concat([xtrain.State,ytrain],axis=1).groupby(\"State\")[\"Price_in_Lakhs\"].mean()"
   ]
  },
  {
   "cell_type": "code",
   "execution_count": 74,
   "id": "f3db84d8",
   "metadata": {},
   "outputs": [],
   "source": [
    "xtrain.State=xtrain.State.map(state)"
   ]
  },
  {
   "cell_type": "code",
   "execution_count": 75,
   "id": "d4a7d704",
   "metadata": {},
   "outputs": [],
   "source": [
    "xtest.State=xtest.State.map(state).fillna(np.mean(ytrain))"
   ]
  },
  {
   "cell_type": "code",
   "execution_count": 76,
   "id": "9cc8ccb0",
   "metadata": {},
   "outputs": [
    {
     "data": {
      "text/html": [
       "<div>\n",
       "<style scoped>\n",
       "    .dataframe tbody tr th:only-of-type {\n",
       "        vertical-align: middle;\n",
       "    }\n",
       "\n",
       "    .dataframe tbody tr th {\n",
       "        vertical-align: top;\n",
       "    }\n",
       "\n",
       "    .dataframe thead th {\n",
       "        text-align: right;\n",
       "    }\n",
       "</style>\n",
       "<table border=\"1\" class=\"dataframe\">\n",
       "  <thead>\n",
       "    <tr style=\"text-align: right;\">\n",
       "      <th></th>\n",
       "      <th>State</th>\n",
       "      <th>City</th>\n",
       "      <th>Locality</th>\n",
       "      <th>Property_Type</th>\n",
       "      <th>BHK</th>\n",
       "      <th>Size_in_SqFt</th>\n",
       "      <th>Price_per_SqFt</th>\n",
       "      <th>Year_Built</th>\n",
       "      <th>Furnished_Status</th>\n",
       "      <th>Floor_No</th>\n",
       "      <th>Total_Floors</th>\n",
       "      <th>Age_of_Property</th>\n",
       "      <th>Nearby_Schools</th>\n",
       "      <th>Nearby_Hospitals</th>\n",
       "      <th>Public_Transport_Accessibility</th>\n",
       "      <th>Parking_Space</th>\n",
       "      <th>Security</th>\n",
       "      <th>Amenities</th>\n",
       "      <th>Facing</th>\n",
       "      <th>Availability_Status</th>\n",
       "      <th>Broker</th>\n",
       "      <th>Builder</th>\n",
       "      <th>Owner</th>\n",
       "    </tr>\n",
       "  </thead>\n",
       "  <tbody>\n",
       "    <tr>\n",
       "      <th>216954</th>\n",
       "      <td>254.247848</td>\n",
       "      <td>Jaipur</td>\n",
       "      <td>144</td>\n",
       "      <td>Independent House</td>\n",
       "      <td>2</td>\n",
       "      <td>4327.0</td>\n",
       "      <td>0.1</td>\n",
       "      <td>2018</td>\n",
       "      <td>2</td>\n",
       "      <td>23.0</td>\n",
       "      <td>8</td>\n",
       "      <td>7.0</td>\n",
       "      <td>6</td>\n",
       "      <td>6</td>\n",
       "      <td>1</td>\n",
       "      <td>0</td>\n",
       "      <td>0</td>\n",
       "      <td>Garden</td>\n",
       "      <td>253.195494</td>\n",
       "      <td>0</td>\n",
       "      <td>1.0</td>\n",
       "      <td>0.0</td>\n",
       "      <td>0.0</td>\n",
       "    </tr>\n",
       "  </tbody>\n",
       "</table>\n",
       "</div>"
      ],
      "text/plain": [
       "             State    City Locality      Property_Type  BHK  Size_in_SqFt  \\\n",
       "216954  254.247848  Jaipur      144  Independent House    2        4327.0   \n",
       "\n",
       "        Price_per_SqFt  Year_Built  Furnished_Status  Floor_No  Total_Floors  \\\n",
       "216954             0.1        2018                 2      23.0             8   \n",
       "\n",
       "        Age_of_Property  Nearby_Schools  Nearby_Hospitals  \\\n",
       "216954              7.0               6                 6   \n",
       "\n",
       "        Public_Transport_Accessibility  Parking_Space  Security Amenities  \\\n",
       "216954                               1              0         0    Garden   \n",
       "\n",
       "            Facing  Availability_Status  Broker  Builder  Owner  \n",
       "216954  253.195494                    0     1.0      0.0    0.0  "
      ]
     },
     "execution_count": 76,
     "metadata": {},
     "output_type": "execute_result"
    }
   ],
   "source": [
    "xtrain.head(1)\n",
    "xtest.head(1)\n"
   ]
  },
  {
   "cell_type": "markdown",
   "id": "1c278f96",
   "metadata": {},
   "source": [
    "# encoding for city "
   ]
  },
  {
   "cell_type": "code",
   "execution_count": 77,
   "id": "521a43e8",
   "metadata": {},
   "outputs": [],
   "source": [
    "train_tar_city2=pd.concat([xtrain.City,ytrain],axis=1).groupby(\"City\")[\"Price_in_Lakhs\"].mean()\n",
    "\n",
    "xtrain.City=xtrain.City.map(train_tar_city2)\n",
    "\n",
    "xtest.City=xtest.City.map(train_tar_city2).fillna(np.mean(ytrain))"
   ]
  },
  {
   "cell_type": "markdown",
   "id": "aa8eb3e4",
   "metadata": {},
   "source": [
    "# encoding property type "
   ]
  },
  {
   "cell_type": "code",
   "execution_count": 78,
   "id": "0855c547",
   "metadata": {},
   "outputs": [],
   "source": [
    "property_type=pd.concat([xtrain.Property_Type,ytrain],axis=1).groupby(\"Property_Type\")[\"Price_in_Lakhs\"].mean()\n",
    "\n",
    "xtrain.Property_Type=xtrain.Property_Type.map(property_type)\n",
    "\n",
    "xtest.Property_Type=xtest.Property_Type.map(property_type).fillna(np.mean(ytrain))"
   ]
  },
  {
   "cell_type": "markdown",
   "id": "c0e38bf1",
   "metadata": {},
   "source": [
    "# Encoding for amineties "
   ]
  },
  {
   "cell_type": "code",
   "execution_count": 79,
   "id": "2e3f5701",
   "metadata": {},
   "outputs": [],
   "source": [
    "train_tar_Amenities=pd.concat([xtrain.Amenities,ytrain],axis=1).groupby(\"Amenities\")[\"Price_in_Lakhs\"].mean()\n",
    "\n",
    "xtrain.Amenities=xtrain.Amenities.map(train_tar_Amenities)\n",
    "\n",
    "xtest.Amenities=xtest.Amenities.map(train_tar_Amenities).fillna(np.mean(ytrain))"
   ]
  },
  {
   "cell_type": "code",
   "execution_count": 80,
   "id": "1e30d1df",
   "metadata": {},
   "outputs": [
    {
     "name": "stdout",
     "output_type": "stream",
     "text": [
      "<class 'pandas.core.frame.DataFrame'>\n",
      "Index: 199725 entries, 119941 to 202441\n",
      "Data columns (total 23 columns):\n",
      " #   Column                          Non-Null Count   Dtype  \n",
      "---  ------                          --------------   -----  \n",
      " 0   State                           199725 non-null  float64\n",
      " 1   City                            199725 non-null  float64\n",
      " 2   Locality                        199725 non-null  float64\n",
      " 3   Property_Type                   199725 non-null  float64\n",
      " 4   BHK                             199725 non-null  int64  \n",
      " 5   Size_in_SqFt                    199725 non-null  float64\n",
      " 6   Price_per_SqFt                  199725 non-null  float64\n",
      " 7   Year_Built                      199725 non-null  int64  \n",
      " 8   Furnished_Status                199725 non-null  int64  \n",
      " 9   Floor_No                        199725 non-null  float64\n",
      " 10  Total_Floors                    199725 non-null  int64  \n",
      " 11  Age_of_Property                 199725 non-null  float64\n",
      " 12  Nearby_Schools                  199725 non-null  int64  \n",
      " 13  Nearby_Hospitals                199725 non-null  int64  \n",
      " 14  Public_Transport_Accessibility  199725 non-null  int64  \n",
      " 15  Parking_Space                   199725 non-null  int64  \n",
      " 16  Security                        199725 non-null  int64  \n",
      " 17  Amenities                       199725 non-null  float64\n",
      " 18  Facing                          199725 non-null  float64\n",
      " 19  Availability_Status             199725 non-null  int64  \n",
      " 20  Broker                          199725 non-null  float64\n",
      " 21  Builder                         199725 non-null  float64\n",
      " 22  Owner                           199725 non-null  float64\n",
      "dtypes: float64(13), int64(10)\n",
      "memory usage: 36.6 MB\n"
     ]
    }
   ],
   "source": [
    "xtrain.info()"
   ]
  },
  {
   "cell_type": "code",
   "execution_count": 81,
   "id": "40542f5f",
   "metadata": {},
   "outputs": [
    {
     "name": "stdout",
     "output_type": "stream",
     "text": [
      "<class 'pandas.core.frame.DataFrame'>\n",
      "Index: 49932 entries, 216954 to 146648\n",
      "Data columns (total 23 columns):\n",
      " #   Column                          Non-Null Count  Dtype  \n",
      "---  ------                          --------------  -----  \n",
      " 0   State                           49932 non-null  float64\n",
      " 1   City                            49932 non-null  float64\n",
      " 2   Locality                        49932 non-null  object \n",
      " 3   Property_Type                   49932 non-null  float64\n",
      " 4   BHK                             49932 non-null  int64  \n",
      " 5   Size_in_SqFt                    49932 non-null  float64\n",
      " 6   Price_per_SqFt                  49932 non-null  float64\n",
      " 7   Year_Built                      49932 non-null  int64  \n",
      " 8   Furnished_Status                49932 non-null  int64  \n",
      " 9   Floor_No                        49932 non-null  float64\n",
      " 10  Total_Floors                    49932 non-null  int64  \n",
      " 11  Age_of_Property                 49932 non-null  float64\n",
      " 12  Nearby_Schools                  49932 non-null  int64  \n",
      " 13  Nearby_Hospitals                49932 non-null  int64  \n",
      " 14  Public_Transport_Accessibility  49932 non-null  int64  \n",
      " 15  Parking_Space                   49932 non-null  int64  \n",
      " 16  Security                        49932 non-null  int64  \n",
      " 17  Amenities                       49932 non-null  float64\n",
      " 18  Facing                          49932 non-null  float64\n",
      " 19  Availability_Status             49932 non-null  int64  \n",
      " 20  Broker                          49932 non-null  float64\n",
      " 21  Builder                         49932 non-null  float64\n",
      " 22  Owner                           49932 non-null  float64\n",
      "dtypes: float64(12), int64(10), object(1)\n",
      "memory usage: 9.1+ MB\n"
     ]
    }
   ],
   "source": [
    "xtest.info()"
   ]
  },
  {
   "cell_type": "code",
   "execution_count": 82,
   "id": "3692aa22",
   "metadata": {},
   "outputs": [
    {
     "name": "stderr",
     "output_type": "stream",
     "text": [
      "C:\\Users\\ashwi\\anaconda3\\Lib\\site-packages\\pandas\\core\\dtypes\\common.py:1645: DeprecationWarning: Converting `np.inexact` or `np.floating` to a dtype is deprecated. The current result is `float64` which is not strictly correct.\n",
      "  npdtype = np.dtype(dtype)\n"
     ]
    }
   ],
   "source": [
    "xtest.Locality=xtest.Locality.astype(np.number)\n",
    "\n"
   ]
  },
  {
   "cell_type": "code",
   "execution_count": 83,
   "id": "ae6bf735",
   "metadata": {},
   "outputs": [
    {
     "name": "stdout",
     "output_type": "stream",
     "text": [
      "<class 'pandas.core.frame.DataFrame'>\n",
      "Index: 49932 entries, 216954 to 146648\n",
      "Data columns (total 23 columns):\n",
      " #   Column                          Non-Null Count  Dtype  \n",
      "---  ------                          --------------  -----  \n",
      " 0   State                           49932 non-null  float64\n",
      " 1   City                            49932 non-null  float64\n",
      " 2   Locality                        49932 non-null  float64\n",
      " 3   Property_Type                   49932 non-null  float64\n",
      " 4   BHK                             49932 non-null  int64  \n",
      " 5   Size_in_SqFt                    49932 non-null  float64\n",
      " 6   Price_per_SqFt                  49932 non-null  float64\n",
      " 7   Year_Built                      49932 non-null  int64  \n",
      " 8   Furnished_Status                49932 non-null  int64  \n",
      " 9   Floor_No                        49932 non-null  float64\n",
      " 10  Total_Floors                    49932 non-null  int64  \n",
      " 11  Age_of_Property                 49932 non-null  float64\n",
      " 12  Nearby_Schools                  49932 non-null  int64  \n",
      " 13  Nearby_Hospitals                49932 non-null  int64  \n",
      " 14  Public_Transport_Accessibility  49932 non-null  int64  \n",
      " 15  Parking_Space                   49932 non-null  int64  \n",
      " 16  Security                        49932 non-null  int64  \n",
      " 17  Amenities                       49932 non-null  float64\n",
      " 18  Facing                          49932 non-null  float64\n",
      " 19  Availability_Status             49932 non-null  int64  \n",
      " 20  Broker                          49932 non-null  float64\n",
      " 21  Builder                         49932 non-null  float64\n",
      " 22  Owner                           49932 non-null  float64\n",
      "dtypes: float64(13), int64(10)\n",
      "memory usage: 9.1 MB\n"
     ]
    }
   ],
   "source": [
    "xtest.info()"
   ]
  }
 ],
 "metadata": {
  "kernelspec": {
   "display_name": "Python 3 (ipykernel)",
   "language": "python",
   "name": "python3"
  },
  "language_info": {
   "codemirror_mode": {
    "name": "ipython",
    "version": 3
   },
   "file_extension": ".py",
   "mimetype": "text/x-python",
   "name": "python",
   "nbconvert_exporter": "python",
   "pygments_lexer": "ipython3",
   "version": "3.12.7"
  }
 },
 "nbformat": 4,
 "nbformat_minor": 5
}
