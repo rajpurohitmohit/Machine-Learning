{
 "cells": [
  {
   "cell_type": "code",
   "execution_count": 87,
   "id": "a57e7c43",
   "metadata": {},
   "outputs": [],
   "source": [
    "import pandas as pd\n",
    "import numpy as np\n",
    "import warnings\n",
    "warnings.filterwarnings('ignore')"
   ]
  },
  {
   "cell_type": "markdown",
   "id": "adab3d2a",
   "metadata": {},
   "source": [
    "---"
   ]
  },
  {
   "cell_type": "markdown",
   "id": "999f1152",
   "metadata": {},
   "source": [
    "### **Importing Dataset**"
   ]
  },
  {
   "cell_type": "code",
   "execution_count": 88,
   "id": "7c1a34a2",
   "metadata": {},
   "outputs": [],
   "source": [
    "dataset = pd.read_csv(\"datasetEBB.csv\")"
   ]
  },
  {
   "cell_type": "code",
   "execution_count": 89,
   "id": "730259a2",
   "metadata": {},
   "outputs": [
    {
     "data": {
      "text/html": [
       "<div>\n",
       "<style scoped>\n",
       "    .dataframe tbody tr th:only-of-type {\n",
       "        vertical-align: middle;\n",
       "    }\n",
       "\n",
       "    .dataframe tbody tr th {\n",
       "        vertical-align: top;\n",
       "    }\n",
       "\n",
       "    .dataframe thead th {\n",
       "        text-align: right;\n",
       "    }\n",
       "</style>\n",
       "<table border=\"1\" class=\"dataframe\">\n",
       "  <thead>\n",
       "    <tr style=\"text-align: right;\">\n",
       "      <th></th>\n",
       "      <th>Unnamed: 0</th>\n",
       "      <th>LoanID</th>\n",
       "      <th>Age</th>\n",
       "      <th>Income</th>\n",
       "      <th>LoanAmount</th>\n",
       "      <th>CreditScore</th>\n",
       "      <th>MonthsEmployed</th>\n",
       "      <th>NumCreditLines</th>\n",
       "      <th>InterestRate</th>\n",
       "      <th>LoanTerm</th>\n",
       "      <th>DTIRatio</th>\n",
       "      <th>Education</th>\n",
       "      <th>EmploymentType</th>\n",
       "      <th>MaritalStatus</th>\n",
       "      <th>HasMortgage</th>\n",
       "      <th>HasDependents</th>\n",
       "      <th>LoanPurpose</th>\n",
       "      <th>HasCoSigner</th>\n",
       "      <th>Default</th>\n",
       "    </tr>\n",
       "  </thead>\n",
       "  <tbody>\n",
       "    <tr>\n",
       "      <th>0</th>\n",
       "      <td>13315</td>\n",
       "      <td>1L8Z5JJWAN</td>\n",
       "      <td>67.0</td>\n",
       "      <td>34282.0</td>\n",
       "      <td>245603.0</td>\n",
       "      <td>682.0</td>\n",
       "      <td>10.0</td>\n",
       "      <td>3.0</td>\n",
       "      <td>18.15</td>\n",
       "      <td>12.0</td>\n",
       "      <td>0.42</td>\n",
       "      <td>PhD</td>\n",
       "      <td>Full-time</td>\n",
       "      <td>Divorced</td>\n",
       "      <td>Yes</td>\n",
       "      <td>No</td>\n",
       "      <td>Home</td>\n",
       "      <td>Yes</td>\n",
       "      <td>0.0</td>\n",
       "    </tr>\n",
       "    <tr>\n",
       "      <th>1</th>\n",
       "      <td>120592</td>\n",
       "      <td>4LB8XH8ZWQ</td>\n",
       "      <td>27.0</td>\n",
       "      <td>56462.0</td>\n",
       "      <td>30961.0</td>\n",
       "      <td>337.0</td>\n",
       "      <td>32.0</td>\n",
       "      <td>3.0</td>\n",
       "      <td>21.13</td>\n",
       "      <td>60.0</td>\n",
       "      <td>0.87</td>\n",
       "      <td>High School</td>\n",
       "      <td>Self-employed</td>\n",
       "      <td>Married</td>\n",
       "      <td>Yes</td>\n",
       "      <td>Yes</td>\n",
       "      <td>Business</td>\n",
       "      <td>Yes</td>\n",
       "      <td>0.0</td>\n",
       "    </tr>\n",
       "    <tr>\n",
       "      <th>2</th>\n",
       "      <td>250310</td>\n",
       "      <td>SIPPK8S6R6</td>\n",
       "      <td>62.0</td>\n",
       "      <td>88670.0</td>\n",
       "      <td>93859.0</td>\n",
       "      <td>560.0</td>\n",
       "      <td>52.0</td>\n",
       "      <td>3.0</td>\n",
       "      <td>12.81</td>\n",
       "      <td>48.0</td>\n",
       "      <td>0.17</td>\n",
       "      <td>PhD</td>\n",
       "      <td>Unemployed</td>\n",
       "      <td>Divorced</td>\n",
       "      <td>Yes</td>\n",
       "      <td>Yes</td>\n",
       "      <td>Home</td>\n",
       "      <td>No</td>\n",
       "      <td>0.0</td>\n",
       "    </tr>\n",
       "    <tr>\n",
       "      <th>3</th>\n",
       "      <td>135948</td>\n",
       "      <td>9DZTNM8405</td>\n",
       "      <td>58.0</td>\n",
       "      <td>46301.0</td>\n",
       "      <td>246283.0</td>\n",
       "      <td>606.0</td>\n",
       "      <td>66.0</td>\n",
       "      <td>4.0</td>\n",
       "      <td>19.91</td>\n",
       "      <td>12.0</td>\n",
       "      <td>0.70</td>\n",
       "      <td>High School</td>\n",
       "      <td>Unemployed</td>\n",
       "      <td>Divorced</td>\n",
       "      <td>No</td>\n",
       "      <td>No</td>\n",
       "      <td>Education</td>\n",
       "      <td>Yes</td>\n",
       "      <td>0.0</td>\n",
       "    </tr>\n",
       "    <tr>\n",
       "      <th>4</th>\n",
       "      <td>203344</td>\n",
       "      <td>9Q9D0HUBEH</td>\n",
       "      <td>34.0</td>\n",
       "      <td>33342.0</td>\n",
       "      <td>108163.0</td>\n",
       "      <td>684.0</td>\n",
       "      <td>97.0</td>\n",
       "      <td>4.0</td>\n",
       "      <td>19.86</td>\n",
       "      <td>48.0</td>\n",
       "      <td>0.74</td>\n",
       "      <td>Master's</td>\n",
       "      <td>Part-time</td>\n",
       "      <td>Married</td>\n",
       "      <td>Yes</td>\n",
       "      <td>Yes</td>\n",
       "      <td>Business</td>\n",
       "      <td>No</td>\n",
       "      <td>0.0</td>\n",
       "    </tr>\n",
       "  </tbody>\n",
       "</table>\n",
       "</div>"
      ],
      "text/plain": [
       "   Unnamed: 0      LoanID   Age   Income  LoanAmount  CreditScore  \\\n",
       "0       13315  1L8Z5JJWAN  67.0  34282.0    245603.0        682.0   \n",
       "1      120592  4LB8XH8ZWQ  27.0  56462.0     30961.0        337.0   \n",
       "2      250310  SIPPK8S6R6  62.0  88670.0     93859.0        560.0   \n",
       "3      135948  9DZTNM8405  58.0  46301.0    246283.0        606.0   \n",
       "4      203344  9Q9D0HUBEH  34.0  33342.0    108163.0        684.0   \n",
       "\n",
       "   MonthsEmployed  NumCreditLines  InterestRate  LoanTerm  DTIRatio  \\\n",
       "0            10.0             3.0         18.15      12.0      0.42   \n",
       "1            32.0             3.0         21.13      60.0      0.87   \n",
       "2            52.0             3.0         12.81      48.0      0.17   \n",
       "3            66.0             4.0         19.91      12.0      0.70   \n",
       "4            97.0             4.0         19.86      48.0      0.74   \n",
       "\n",
       "     Education EmploymentType MaritalStatus HasMortgage HasDependents  \\\n",
       "0          PhD      Full-time      Divorced         Yes            No   \n",
       "1  High School  Self-employed       Married         Yes           Yes   \n",
       "2          PhD     Unemployed      Divorced         Yes           Yes   \n",
       "3  High School     Unemployed      Divorced          No            No   \n",
       "4     Master's      Part-time       Married         Yes           Yes   \n",
       "\n",
       "  LoanPurpose HasCoSigner  Default  \n",
       "0        Home         Yes      0.0  \n",
       "1    Business         Yes      0.0  \n",
       "2        Home          No      0.0  \n",
       "3   Education         Yes      0.0  \n",
       "4    Business          No      0.0  "
      ]
     },
     "execution_count": 89,
     "metadata": {},
     "output_type": "execute_result"
    }
   ],
   "source": [
    "dataset.head()"
   ]
  },
  {
   "cell_type": "markdown",
   "id": "235f831c",
   "metadata": {},
   "source": [
    "---"
   ]
  },
  {
   "cell_type": "markdown",
   "id": "617df736",
   "metadata": {},
   "source": [
    "## **Data Preprocessing**"
   ]
  },
  {
   "cell_type": "code",
   "execution_count": 90,
   "id": "87cd300c",
   "metadata": {},
   "outputs": [
    {
     "data": {
      "text/plain": [
       "Unnamed: 0          int64\n",
       "LoanID             object\n",
       "Age               float64\n",
       "Income            float64\n",
       "LoanAmount        float64\n",
       "CreditScore       float64\n",
       "MonthsEmployed    float64\n",
       "NumCreditLines    float64\n",
       "InterestRate      float64\n",
       "LoanTerm          float64\n",
       "DTIRatio          float64\n",
       "Education          object\n",
       "EmploymentType     object\n",
       "MaritalStatus      object\n",
       "HasMortgage        object\n",
       "HasDependents      object\n",
       "LoanPurpose        object\n",
       "HasCoSigner        object\n",
       "Default           float64\n",
       "dtype: object"
      ]
     },
     "execution_count": 90,
     "metadata": {},
     "output_type": "execute_result"
    }
   ],
   "source": [
    "dataset.dtypes"
   ]
  },
  {
   "cell_type": "markdown",
   "id": "1c7f30d8",
   "metadata": {},
   "source": [
    "---"
   ]
  },
  {
   "cell_type": "markdown",
   "id": "000a840e",
   "metadata": {},
   "source": [
    "### **Drop Unnecessary Columns**"
   ]
  },
  {
   "cell_type": "code",
   "execution_count": null,
   "id": "a9ff4d36",
   "metadata": {},
   "outputs": [],
   "source": [
    "dataset.drop(columns=['Unnamed: 0', 'LoanID'], inplace=True)"
   ]
  },
  {
   "cell_type": "markdown",
   "id": "99a0e1f8",
   "metadata": {},
   "source": [
    "---"
   ]
  },
  {
   "cell_type": "markdown",
   "id": "76a05075",
   "metadata": {},
   "source": [
    "### **String Manupulation**"
   ]
  },
  {
   "cell_type": "code",
   "execution_count": 92,
   "id": "7d810ae5",
   "metadata": {},
   "outputs": [
    {
     "name": "stdout",
     "output_type": "stream",
     "text": [
      "['PhD' 'High School' \"Master's\" nan \"Bachelor's\"]\n",
      "--------------------------------------------------\n",
      "['Full-time' 'Self-employed' 'Unemployed' 'Part-time' nan]\n",
      "--------------------------------------------------\n",
      "['Divorced' 'Married' 'Single' nan '?']\n",
      "--------------------------------------------------\n",
      "['Yes' 'No' nan]\n",
      "--------------------------------------------------\n",
      "['No' 'Yes' nan]\n",
      "--------------------------------------------------\n",
      "['Home' 'Business' 'Education' 'Auto' 'Other' nan]\n",
      "--------------------------------------------------\n",
      "['Yes' 'No' nan]\n",
      "--------------------------------------------------\n"
     ]
    }
   ],
   "source": [
    "categorical_cols = dataset[['Education', 'EmploymentType', 'MaritalStatus', 'HasMortgage','HasDependents', 'LoanPurpose', 'HasCoSigner']]\n",
    "\n",
    "for col in categorical_cols.columns:\n",
    "    print(dataset[col].unique())\n",
    "    print('-' * 50)"
   ]
  },
  {
   "cell_type": "code",
   "execution_count": 93,
   "id": "5478a596",
   "metadata": {},
   "outputs": [],
   "source": [
    "dataset['MaritalStatus'].replace('?', np.nan, inplace=True)"
   ]
  },
  {
   "cell_type": "code",
   "execution_count": 94,
   "id": "271a0f3a",
   "metadata": {},
   "outputs": [
    {
     "name": "stdout",
     "output_type": "stream",
     "text": [
      "['PhD' 'High School' \"Master's\" nan \"Bachelor's\"]\n",
      "--------------------------------------------------\n",
      "['Full-time' 'Self-employed' 'Unemployed' 'Part-time' nan]\n",
      "--------------------------------------------------\n",
      "['Divorced' 'Married' 'Single' nan]\n",
      "--------------------------------------------------\n",
      "['Yes' 'No' nan]\n",
      "--------------------------------------------------\n",
      "['No' 'Yes' nan]\n",
      "--------------------------------------------------\n",
      "['Home' 'Business' 'Education' 'Auto' 'Other' nan]\n",
      "--------------------------------------------------\n",
      "['Yes' 'No' nan]\n",
      "--------------------------------------------------\n"
     ]
    }
   ],
   "source": [
    "categorical_cols = dataset[['Education', 'EmploymentType', 'MaritalStatus', 'HasMortgage','HasDependents', 'LoanPurpose', 'HasCoSigner']]\n",
    "\n",
    "for col in categorical_cols.columns:\n",
    "    print(dataset[col].unique())\n",
    "    print('-' * 50)"
   ]
  },
  {
   "cell_type": "markdown",
   "id": "4476ed65",
   "metadata": {},
   "source": [
    "---"
   ]
  },
  {
   "cell_type": "markdown",
   "id": "a44b6294",
   "metadata": {},
   "source": [
    "### **Handle Missing Values**"
   ]
  },
  {
   "cell_type": "code",
   "execution_count": 95,
   "id": "9efefb54",
   "metadata": {},
   "outputs": [
    {
     "data": {
      "text/plain": [
       "Age                16\n",
       "Income            569\n",
       "LoanAmount        637\n",
       "CreditScore       667\n",
       "MonthsEmployed    686\n",
       "NumCreditLines    699\n",
       "InterestRate      702\n",
       "LoanTerm          710\n",
       "DTIRatio          710\n",
       "Education         710\n",
       "EmploymentType    710\n",
       "MaritalStatus     187\n",
       "HasMortgage       178\n",
       "HasDependents     165\n",
       "LoanPurpose       136\n",
       "HasCoSigner       106\n",
       "Default           300\n",
       "dtype: int64"
      ]
     },
     "execution_count": 95,
     "metadata": {},
     "output_type": "execute_result"
    }
   ],
   "source": [
    "dataset.isnull().sum()"
   ]
  },
  {
   "cell_type": "code",
   "execution_count": 96,
   "id": "d901dd26",
   "metadata": {},
   "outputs": [],
   "source": [
    "# Numeric Columns\n",
    "num_cols = ['Age', 'Income', 'LoanAmount', 'CreditScore', 'MonthsEmployed', 'NumCreditLines', 'InterestRate', 'LoanTerm','DTIRatio', 'Default']\n",
    "for col in num_cols:\n",
    "    dataset[col].fillna(dataset[col].median(), inplace=True)"
   ]
  },
  {
   "cell_type": "code",
   "execution_count": 97,
   "id": "4c812556",
   "metadata": {},
   "outputs": [
    {
     "data": {
      "text/plain": [
       "Index(['Age', 'Income', 'LoanAmount', 'CreditScore', 'MonthsEmployed',\n",
       "       'NumCreditLines', 'InterestRate', 'LoanTerm', 'DTIRatio', 'Education',\n",
       "       'EmploymentType', 'MaritalStatus', 'HasMortgage', 'HasDependents',\n",
       "       'LoanPurpose', 'HasCoSigner', 'Default'],\n",
       "      dtype='object')"
      ]
     },
     "execution_count": 97,
     "metadata": {},
     "output_type": "execute_result"
    }
   ],
   "source": [
    "dataset.columns"
   ]
  },
  {
   "cell_type": "code",
   "execution_count": 98,
   "id": "b6a294ae",
   "metadata": {},
   "outputs": [],
   "source": [
    "# Categorical Columns\n",
    "cat_cols = ['Education', 'EmploymentType', 'MaritalStatus','HasMortgage', 'HasDependents', 'LoanPurpose', 'HasCoSigner']\n",
    "\n",
    "for col in cat_cols:\n",
    "    dataset[col].fillna(dataset[col].mode()[0], inplace=True)"
   ]
  },
  {
   "cell_type": "code",
   "execution_count": 99,
   "id": "11f0ad26",
   "metadata": {},
   "outputs": [
    {
     "data": {
      "text/plain": [
       "Age               0\n",
       "Income            0\n",
       "LoanAmount        0\n",
       "CreditScore       0\n",
       "MonthsEmployed    0\n",
       "NumCreditLines    0\n",
       "InterestRate      0\n",
       "LoanTerm          0\n",
       "DTIRatio          0\n",
       "Education         0\n",
       "EmploymentType    0\n",
       "MaritalStatus     0\n",
       "HasMortgage       0\n",
       "HasDependents     0\n",
       "LoanPurpose       0\n",
       "HasCoSigner       0\n",
       "Default           0\n",
       "dtype: int64"
      ]
     },
     "execution_count": 99,
     "metadata": {},
     "output_type": "execute_result"
    }
   ],
   "source": [
    "dataset.isnull().sum()"
   ]
  },
  {
   "cell_type": "markdown",
   "id": "019a7098",
   "metadata": {},
   "source": [
    "---"
   ]
  },
  {
   "cell_type": "markdown",
   "id": "ba55afd0",
   "metadata": {},
   "source": [
    "### **Treating Duplicates**"
   ]
  },
  {
   "cell_type": "code",
   "execution_count": 100,
   "id": "220b2d69",
   "metadata": {},
   "outputs": [
    {
     "data": {
      "text/plain": [
       "np.int64(34)"
      ]
     },
     "execution_count": 100,
     "metadata": {},
     "output_type": "execute_result"
    }
   ],
   "source": [
    "dataset.duplicated().sum()"
   ]
  },
  {
   "cell_type": "code",
   "execution_count": 101,
   "id": "67de1804",
   "metadata": {},
   "outputs": [],
   "source": [
    "dataset.drop_duplicates(inplace=True)"
   ]
  },
  {
   "cell_type": "code",
   "execution_count": 102,
   "id": "23ee9032",
   "metadata": {},
   "outputs": [
    {
     "data": {
      "text/plain": [
       "np.int64(0)"
      ]
     },
     "execution_count": 102,
     "metadata": {},
     "output_type": "execute_result"
    }
   ],
   "source": [
    "dataset.duplicated().sum()"
   ]
  },
  {
   "cell_type": "markdown",
   "id": "d848c241",
   "metadata": {},
   "source": [
    "---"
   ]
  },
  {
   "cell_type": "markdown",
   "id": "cb97b298",
   "metadata": {},
   "source": [
    "### **Encode Categorical Variables**"
   ]
  },
  {
   "cell_type": "code",
   "execution_count": 103,
   "id": "edc8f280",
   "metadata": {},
   "outputs": [
    {
     "data": {
      "text/html": [
       "<div>\n",
       "<style scoped>\n",
       "    .dataframe tbody tr th:only-of-type {\n",
       "        vertical-align: middle;\n",
       "    }\n",
       "\n",
       "    .dataframe tbody tr th {\n",
       "        vertical-align: top;\n",
       "    }\n",
       "\n",
       "    .dataframe thead th {\n",
       "        text-align: right;\n",
       "    }\n",
       "</style>\n",
       "<table border=\"1\" class=\"dataframe\">\n",
       "  <thead>\n",
       "    <tr style=\"text-align: right;\">\n",
       "      <th></th>\n",
       "      <th>Age</th>\n",
       "      <th>Income</th>\n",
       "      <th>LoanAmount</th>\n",
       "      <th>CreditScore</th>\n",
       "      <th>MonthsEmployed</th>\n",
       "      <th>NumCreditLines</th>\n",
       "      <th>InterestRate</th>\n",
       "      <th>LoanTerm</th>\n",
       "      <th>DTIRatio</th>\n",
       "      <th>Education</th>\n",
       "      <th>EmploymentType</th>\n",
       "      <th>MaritalStatus</th>\n",
       "      <th>HasMortgage</th>\n",
       "      <th>HasDependents</th>\n",
       "      <th>LoanPurpose</th>\n",
       "      <th>HasCoSigner</th>\n",
       "      <th>Default</th>\n",
       "    </tr>\n",
       "  </thead>\n",
       "  <tbody>\n",
       "    <tr>\n",
       "      <th>0</th>\n",
       "      <td>67.0</td>\n",
       "      <td>34282.0</td>\n",
       "      <td>245603.0</td>\n",
       "      <td>682.0</td>\n",
       "      <td>10.0</td>\n",
       "      <td>3.0</td>\n",
       "      <td>18.15</td>\n",
       "      <td>12.0</td>\n",
       "      <td>0.42</td>\n",
       "      <td>PhD</td>\n",
       "      <td>Full-time</td>\n",
       "      <td>Divorced</td>\n",
       "      <td>Yes</td>\n",
       "      <td>No</td>\n",
       "      <td>Home</td>\n",
       "      <td>Yes</td>\n",
       "      <td>0.0</td>\n",
       "    </tr>\n",
       "    <tr>\n",
       "      <th>1</th>\n",
       "      <td>27.0</td>\n",
       "      <td>56462.0</td>\n",
       "      <td>30961.0</td>\n",
       "      <td>337.0</td>\n",
       "      <td>32.0</td>\n",
       "      <td>3.0</td>\n",
       "      <td>21.13</td>\n",
       "      <td>60.0</td>\n",
       "      <td>0.87</td>\n",
       "      <td>High School</td>\n",
       "      <td>Self-employed</td>\n",
       "      <td>Married</td>\n",
       "      <td>Yes</td>\n",
       "      <td>Yes</td>\n",
       "      <td>Business</td>\n",
       "      <td>Yes</td>\n",
       "      <td>0.0</td>\n",
       "    </tr>\n",
       "    <tr>\n",
       "      <th>2</th>\n",
       "      <td>62.0</td>\n",
       "      <td>88670.0</td>\n",
       "      <td>93859.0</td>\n",
       "      <td>560.0</td>\n",
       "      <td>52.0</td>\n",
       "      <td>3.0</td>\n",
       "      <td>12.81</td>\n",
       "      <td>48.0</td>\n",
       "      <td>0.17</td>\n",
       "      <td>PhD</td>\n",
       "      <td>Unemployed</td>\n",
       "      <td>Divorced</td>\n",
       "      <td>Yes</td>\n",
       "      <td>Yes</td>\n",
       "      <td>Home</td>\n",
       "      <td>No</td>\n",
       "      <td>0.0</td>\n",
       "    </tr>\n",
       "    <tr>\n",
       "      <th>3</th>\n",
       "      <td>58.0</td>\n",
       "      <td>46301.0</td>\n",
       "      <td>246283.0</td>\n",
       "      <td>606.0</td>\n",
       "      <td>66.0</td>\n",
       "      <td>4.0</td>\n",
       "      <td>19.91</td>\n",
       "      <td>12.0</td>\n",
       "      <td>0.70</td>\n",
       "      <td>High School</td>\n",
       "      <td>Unemployed</td>\n",
       "      <td>Divorced</td>\n",
       "      <td>No</td>\n",
       "      <td>No</td>\n",
       "      <td>Education</td>\n",
       "      <td>Yes</td>\n",
       "      <td>0.0</td>\n",
       "    </tr>\n",
       "    <tr>\n",
       "      <th>4</th>\n",
       "      <td>34.0</td>\n",
       "      <td>33342.0</td>\n",
       "      <td>108163.0</td>\n",
       "      <td>684.0</td>\n",
       "      <td>97.0</td>\n",
       "      <td>4.0</td>\n",
       "      <td>19.86</td>\n",
       "      <td>48.0</td>\n",
       "      <td>0.74</td>\n",
       "      <td>Master's</td>\n",
       "      <td>Part-time</td>\n",
       "      <td>Married</td>\n",
       "      <td>Yes</td>\n",
       "      <td>Yes</td>\n",
       "      <td>Business</td>\n",
       "      <td>No</td>\n",
       "      <td>0.0</td>\n",
       "    </tr>\n",
       "  </tbody>\n",
       "</table>\n",
       "</div>"
      ],
      "text/plain": [
       "    Age   Income  LoanAmount  CreditScore  MonthsEmployed  NumCreditLines  \\\n",
       "0  67.0  34282.0    245603.0        682.0            10.0             3.0   \n",
       "1  27.0  56462.0     30961.0        337.0            32.0             3.0   \n",
       "2  62.0  88670.0     93859.0        560.0            52.0             3.0   \n",
       "3  58.0  46301.0    246283.0        606.0            66.0             4.0   \n",
       "4  34.0  33342.0    108163.0        684.0            97.0             4.0   \n",
       "\n",
       "   InterestRate  LoanTerm  DTIRatio    Education EmploymentType MaritalStatus  \\\n",
       "0         18.15      12.0      0.42          PhD      Full-time      Divorced   \n",
       "1         21.13      60.0      0.87  High School  Self-employed       Married   \n",
       "2         12.81      48.0      0.17          PhD     Unemployed      Divorced   \n",
       "3         19.91      12.0      0.70  High School     Unemployed      Divorced   \n",
       "4         19.86      48.0      0.74     Master's      Part-time       Married   \n",
       "\n",
       "  HasMortgage HasDependents LoanPurpose HasCoSigner  Default  \n",
       "0         Yes            No        Home         Yes      0.0  \n",
       "1         Yes           Yes    Business         Yes      0.0  \n",
       "2         Yes           Yes        Home          No      0.0  \n",
       "3          No            No   Education         Yes      0.0  \n",
       "4         Yes           Yes    Business          No      0.0  "
      ]
     },
     "execution_count": 103,
     "metadata": {},
     "output_type": "execute_result"
    }
   ],
   "source": [
    "dataset.head()"
   ]
  },
  {
   "cell_type": "code",
   "execution_count": 104,
   "id": "c81cb0c0",
   "metadata": {},
   "outputs": [],
   "source": [
    "from sklearn.preprocessing import LabelEncoder"
   ]
  },
  {
   "cell_type": "code",
   "execution_count": 105,
   "id": "656f8fbf",
   "metadata": {},
   "outputs": [],
   "source": [
    "for i in categorical_cols.columns:\n",
    "    label = LabelEncoder()\n",
    "    dataset[i] = label.fit_transform(dataset[i])"
   ]
  },
  {
   "cell_type": "code",
   "execution_count": 106,
   "id": "3acdfe92",
   "metadata": {},
   "outputs": [
    {
     "data": {
      "text/html": [
       "<div>\n",
       "<style scoped>\n",
       "    .dataframe tbody tr th:only-of-type {\n",
       "        vertical-align: middle;\n",
       "    }\n",
       "\n",
       "    .dataframe tbody tr th {\n",
       "        vertical-align: top;\n",
       "    }\n",
       "\n",
       "    .dataframe thead th {\n",
       "        text-align: right;\n",
       "    }\n",
       "</style>\n",
       "<table border=\"1\" class=\"dataframe\">\n",
       "  <thead>\n",
       "    <tr style=\"text-align: right;\">\n",
       "      <th></th>\n",
       "      <th>Age</th>\n",
       "      <th>Income</th>\n",
       "      <th>LoanAmount</th>\n",
       "      <th>CreditScore</th>\n",
       "      <th>MonthsEmployed</th>\n",
       "      <th>NumCreditLines</th>\n",
       "      <th>InterestRate</th>\n",
       "      <th>LoanTerm</th>\n",
       "      <th>DTIRatio</th>\n",
       "      <th>Education</th>\n",
       "      <th>EmploymentType</th>\n",
       "      <th>MaritalStatus</th>\n",
       "      <th>HasMortgage</th>\n",
       "      <th>HasDependents</th>\n",
       "      <th>LoanPurpose</th>\n",
       "      <th>HasCoSigner</th>\n",
       "      <th>Default</th>\n",
       "    </tr>\n",
       "  </thead>\n",
       "  <tbody>\n",
       "    <tr>\n",
       "      <th>0</th>\n",
       "      <td>67.0</td>\n",
       "      <td>34282.0</td>\n",
       "      <td>245603.0</td>\n",
       "      <td>682.0</td>\n",
       "      <td>10.0</td>\n",
       "      <td>3.0</td>\n",
       "      <td>18.15</td>\n",
       "      <td>12.0</td>\n",
       "      <td>0.42</td>\n",
       "      <td>3</td>\n",
       "      <td>0</td>\n",
       "      <td>0</td>\n",
       "      <td>1</td>\n",
       "      <td>0</td>\n",
       "      <td>3</td>\n",
       "      <td>1</td>\n",
       "      <td>0.0</td>\n",
       "    </tr>\n",
       "    <tr>\n",
       "      <th>1</th>\n",
       "      <td>27.0</td>\n",
       "      <td>56462.0</td>\n",
       "      <td>30961.0</td>\n",
       "      <td>337.0</td>\n",
       "      <td>32.0</td>\n",
       "      <td>3.0</td>\n",
       "      <td>21.13</td>\n",
       "      <td>60.0</td>\n",
       "      <td>0.87</td>\n",
       "      <td>1</td>\n",
       "      <td>2</td>\n",
       "      <td>1</td>\n",
       "      <td>1</td>\n",
       "      <td>1</td>\n",
       "      <td>1</td>\n",
       "      <td>1</td>\n",
       "      <td>0.0</td>\n",
       "    </tr>\n",
       "    <tr>\n",
       "      <th>2</th>\n",
       "      <td>62.0</td>\n",
       "      <td>88670.0</td>\n",
       "      <td>93859.0</td>\n",
       "      <td>560.0</td>\n",
       "      <td>52.0</td>\n",
       "      <td>3.0</td>\n",
       "      <td>12.81</td>\n",
       "      <td>48.0</td>\n",
       "      <td>0.17</td>\n",
       "      <td>3</td>\n",
       "      <td>3</td>\n",
       "      <td>0</td>\n",
       "      <td>1</td>\n",
       "      <td>1</td>\n",
       "      <td>3</td>\n",
       "      <td>0</td>\n",
       "      <td>0.0</td>\n",
       "    </tr>\n",
       "    <tr>\n",
       "      <th>3</th>\n",
       "      <td>58.0</td>\n",
       "      <td>46301.0</td>\n",
       "      <td>246283.0</td>\n",
       "      <td>606.0</td>\n",
       "      <td>66.0</td>\n",
       "      <td>4.0</td>\n",
       "      <td>19.91</td>\n",
       "      <td>12.0</td>\n",
       "      <td>0.70</td>\n",
       "      <td>1</td>\n",
       "      <td>3</td>\n",
       "      <td>0</td>\n",
       "      <td>0</td>\n",
       "      <td>0</td>\n",
       "      <td>2</td>\n",
       "      <td>1</td>\n",
       "      <td>0.0</td>\n",
       "    </tr>\n",
       "    <tr>\n",
       "      <th>4</th>\n",
       "      <td>34.0</td>\n",
       "      <td>33342.0</td>\n",
       "      <td>108163.0</td>\n",
       "      <td>684.0</td>\n",
       "      <td>97.0</td>\n",
       "      <td>4.0</td>\n",
       "      <td>19.86</td>\n",
       "      <td>48.0</td>\n",
       "      <td>0.74</td>\n",
       "      <td>2</td>\n",
       "      <td>1</td>\n",
       "      <td>1</td>\n",
       "      <td>1</td>\n",
       "      <td>1</td>\n",
       "      <td>1</td>\n",
       "      <td>0</td>\n",
       "      <td>0.0</td>\n",
       "    </tr>\n",
       "  </tbody>\n",
       "</table>\n",
       "</div>"
      ],
      "text/plain": [
       "    Age   Income  LoanAmount  CreditScore  MonthsEmployed  NumCreditLines  \\\n",
       "0  67.0  34282.0    245603.0        682.0            10.0             3.0   \n",
       "1  27.0  56462.0     30961.0        337.0            32.0             3.0   \n",
       "2  62.0  88670.0     93859.0        560.0            52.0             3.0   \n",
       "3  58.0  46301.0    246283.0        606.0            66.0             4.0   \n",
       "4  34.0  33342.0    108163.0        684.0            97.0             4.0   \n",
       "\n",
       "   InterestRate  LoanTerm  DTIRatio  Education  EmploymentType  MaritalStatus  \\\n",
       "0         18.15      12.0      0.42          3               0              0   \n",
       "1         21.13      60.0      0.87          1               2              1   \n",
       "2         12.81      48.0      0.17          3               3              0   \n",
       "3         19.91      12.0      0.70          1               3              0   \n",
       "4         19.86      48.0      0.74          2               1              1   \n",
       "\n",
       "   HasMortgage  HasDependents  LoanPurpose  HasCoSigner  Default  \n",
       "0            1              0            3            1      0.0  \n",
       "1            1              1            1            1      0.0  \n",
       "2            1              1            3            0      0.0  \n",
       "3            0              0            2            1      0.0  \n",
       "4            1              1            1            0      0.0  "
      ]
     },
     "execution_count": 106,
     "metadata": {},
     "output_type": "execute_result"
    }
   ],
   "source": [
    "dataset.head()"
   ]
  },
  {
   "cell_type": "markdown",
   "id": "448612d2",
   "metadata": {},
   "source": [
    "---"
   ]
  }
 ],
 "metadata": {
  "kernelspec": {
   "display_name": "Python 3",
   "language": "python",
   "name": "python3"
  },
  "language_info": {
   "codemirror_mode": {
    "name": "ipython",
    "version": 3
   },
   "file_extension": ".py",
   "mimetype": "text/x-python",
   "name": "python",
   "nbconvert_exporter": "python",
   "pygments_lexer": "ipython3",
   "version": "3.11.9"
  }
 },
 "nbformat": 4,
 "nbformat_minor": 5
}
