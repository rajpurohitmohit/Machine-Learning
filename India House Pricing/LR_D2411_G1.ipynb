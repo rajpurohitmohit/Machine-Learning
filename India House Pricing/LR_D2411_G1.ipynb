{
 "cells": [
  {
   "cell_type": "markdown",
   "id": "a1d2b85c",
   "metadata": {},
   "source": [
    "# Price_in_lakhs is target variable "
   ]
  },
  {
   "cell_type": "code",
   "execution_count": 1,
   "id": "fce861de",
   "metadata": {},
   "outputs": [],
   "source": [
    "import pandas as pd\n",
    "import scipy.stats as stats\n",
    "import numpy as np\n",
    "import seaborn as sns\n",
    "pd.set_option(\"display.max_columns\",None)\n",
    "import matplotlib.pyplot as plt \n",
    "from sklearn.model_selection import train_test_split\n",
    "import statsmodels.api as sm\n",
    "import statsmodels.stats.api as sms\n",
    "from statsmodels.stats.outliers_influence import variance_inflation_factor as vif\n",
    "from sklearn.preprocessing import PolynomialFeatures,StandardScaler\n",
    "\n",
    "import warnings\n",
    "warnings.filterwarnings(\"ignore\")\n"
   ]
  },
  {
   "cell_type": "code",
   "execution_count": 2,
   "id": "d803c4a4",
   "metadata": {
    "scrolled": true
   },
   "outputs": [
    {
     "data": {
      "text/html": [
       "<div>\n",
       "<style scoped>\n",
       "    .dataframe tbody tr th:only-of-type {\n",
       "        vertical-align: middle;\n",
       "    }\n",
       "\n",
       "    .dataframe tbody tr th {\n",
       "        vertical-align: top;\n",
       "    }\n",
       "\n",
       "    .dataframe thead th {\n",
       "        text-align: right;\n",
       "    }\n",
       "</style>\n",
       "<table border=\"1\" class=\"dataframe\">\n",
       "  <thead>\n",
       "    <tr style=\"text-align: right;\">\n",
       "      <th></th>\n",
       "      <th>ID</th>\n",
       "      <th>State</th>\n",
       "      <th>City</th>\n",
       "      <th>Locality</th>\n",
       "      <th>Property_Type</th>\n",
       "      <th>BHK</th>\n",
       "      <th>Size_in_SqFt</th>\n",
       "      <th>Price_in_Lakhs</th>\n",
       "      <th>Price_per_SqFt</th>\n",
       "      <th>Year_Built</th>\n",
       "      <th>Furnished_Status</th>\n",
       "      <th>Floor_No</th>\n",
       "      <th>Total_Floors</th>\n",
       "      <th>Age_of_Property</th>\n",
       "      <th>Nearby_Schools</th>\n",
       "      <th>Nearby_Hospitals</th>\n",
       "      <th>Public_Transport_Accessibility</th>\n",
       "      <th>Parking_Space</th>\n",
       "      <th>Security</th>\n",
       "      <th>Amenities</th>\n",
       "      <th>Facing</th>\n",
       "      <th>Owner_Type</th>\n",
       "      <th>Availability_Status</th>\n",
       "    </tr>\n",
       "  </thead>\n",
       "  <tbody>\n",
       "    <tr>\n",
       "      <th>0</th>\n",
       "      <td>1.0</td>\n",
       "      <td>Tamil Nadu</td>\n",
       "      <td>Chennai</td>\n",
       "      <td>Locality_84</td>\n",
       "      <td>Apartment</td>\n",
       "      <td>1.0</td>\n",
       "      <td>4740.0</td>\n",
       "      <td>489.76</td>\n",
       "      <td>0.1</td>\n",
       "      <td>1990.0</td>\n",
       "      <td>Furnished</td>\n",
       "      <td>22.0</td>\n",
       "      <td>1.0</td>\n",
       "      <td>35.0</td>\n",
       "      <td>10.0</td>\n",
       "      <td>3.0</td>\n",
       "      <td>High</td>\n",
       "      <td>No</td>\n",
       "      <td>No</td>\n",
       "      <td>Playground, Gym, Garden, Pool, Clubhouse</td>\n",
       "      <td>West</td>\n",
       "      <td>Owner</td>\n",
       "      <td>Ready_to_Move</td>\n",
       "    </tr>\n",
       "  </tbody>\n",
       "</table>\n",
       "</div>"
      ],
      "text/plain": [
       "    ID       State     City     Locality Property_Type  BHK  Size_in_SqFt  \\\n",
       "0  1.0  Tamil Nadu  Chennai  Locality_84     Apartment  1.0        4740.0   \n",
       "\n",
       "   Price_in_Lakhs  Price_per_SqFt  Year_Built Furnished_Status  Floor_No  \\\n",
       "0          489.76             0.1      1990.0        Furnished      22.0   \n",
       "\n",
       "   Total_Floors  Age_of_Property  Nearby_Schools  Nearby_Hospitals  \\\n",
       "0           1.0             35.0            10.0               3.0   \n",
       "\n",
       "  Public_Transport_Accessibility Parking_Space Security  \\\n",
       "0                           High            No       No   \n",
       "\n",
       "                                  Amenities Facing Owner_Type  \\\n",
       "0  Playground, Gym, Garden, Pool, Clubhouse   West      Owner   \n",
       "\n",
       "  Availability_Status  \n",
       "0       Ready_to_Move  "
      ]
     },
     "execution_count": 2,
     "metadata": {},
     "output_type": "execute_result"
    }
   ],
   "source": [
    "ihp = pd.read_csv(\"india_housing_prices.csv\")\n",
    "ihp.head(1)"
   ]
  },
  {
   "cell_type": "code",
   "execution_count": 3,
   "id": "fbb17367",
   "metadata": {},
   "outputs": [
    {
     "data": {
      "text/html": [
       "<div>\n",
       "<style scoped>\n",
       "    .dataframe tbody tr th:only-of-type {\n",
       "        vertical-align: middle;\n",
       "    }\n",
       "\n",
       "    .dataframe tbody tr th {\n",
       "        vertical-align: top;\n",
       "    }\n",
       "\n",
       "    .dataframe thead th {\n",
       "        text-align: right;\n",
       "    }\n",
       "</style>\n",
       "<table border=\"1\" class=\"dataframe\">\n",
       "  <thead>\n",
       "    <tr style=\"text-align: right;\">\n",
       "      <th></th>\n",
       "      <th>ID</th>\n",
       "      <th>State</th>\n",
       "      <th>City</th>\n",
       "      <th>Locality</th>\n",
       "      <th>Property_Type</th>\n",
       "      <th>BHK</th>\n",
       "      <th>Size_in_SqFt</th>\n",
       "      <th>Price_in_Lakhs</th>\n",
       "      <th>Price_per_SqFt</th>\n",
       "      <th>Year_Built</th>\n",
       "      <th>Furnished_Status</th>\n",
       "      <th>Floor_No</th>\n",
       "      <th>Total_Floors</th>\n",
       "      <th>Age_of_Property</th>\n",
       "      <th>Nearby_Schools</th>\n",
       "      <th>Nearby_Hospitals</th>\n",
       "      <th>Public_Transport_Accessibility</th>\n",
       "      <th>Parking_Space</th>\n",
       "      <th>Security</th>\n",
       "      <th>Amenities</th>\n",
       "      <th>Facing</th>\n",
       "      <th>Owner_Type</th>\n",
       "      <th>Availability_Status</th>\n",
       "    </tr>\n",
       "  </thead>\n",
       "  <tbody>\n",
       "    <tr>\n",
       "      <th>0</th>\n",
       "      <td>1.0</td>\n",
       "      <td>Tamil Nadu</td>\n",
       "      <td>Chennai</td>\n",
       "      <td>Locality_84</td>\n",
       "      <td>Apartment</td>\n",
       "      <td>1.0</td>\n",
       "      <td>4740.0</td>\n",
       "      <td>489.76</td>\n",
       "      <td>0.1</td>\n",
       "      <td>1990.0</td>\n",
       "      <td>Furnished</td>\n",
       "      <td>22.0</td>\n",
       "      <td>1.0</td>\n",
       "      <td>35.0</td>\n",
       "      <td>10.0</td>\n",
       "      <td>3.0</td>\n",
       "      <td>High</td>\n",
       "      <td>No</td>\n",
       "      <td>No</td>\n",
       "      <td>Playground, Gym, Garden, Pool, Clubhouse</td>\n",
       "      <td>West</td>\n",
       "      <td>Owner</td>\n",
       "      <td>Ready_to_Move</td>\n",
       "    </tr>\n",
       "  </tbody>\n",
       "</table>\n",
       "</div>"
      ],
      "text/plain": [
       "    ID       State     City     Locality Property_Type  BHK  Size_in_SqFt  \\\n",
       "0  1.0  Tamil Nadu  Chennai  Locality_84     Apartment  1.0        4740.0   \n",
       "\n",
       "   Price_in_Lakhs  Price_per_SqFt  Year_Built Furnished_Status  Floor_No  \\\n",
       "0          489.76             0.1      1990.0        Furnished      22.0   \n",
       "\n",
       "   Total_Floors  Age_of_Property  Nearby_Schools  Nearby_Hospitals  \\\n",
       "0           1.0             35.0            10.0               3.0   \n",
       "\n",
       "  Public_Transport_Accessibility Parking_Space Security  \\\n",
       "0                           High            No       No   \n",
       "\n",
       "                                  Amenities Facing Owner_Type  \\\n",
       "0  Playground, Gym, Garden, Pool, Clubhouse   West      Owner   \n",
       "\n",
       "  Availability_Status  \n",
       "0       Ready_to_Move  "
      ]
     },
     "execution_count": 3,
     "metadata": {},
     "output_type": "execute_result"
    }
   ],
   "source": [
    "ihp[ihp.Property_Type==\"Apartment\"].head(1)"
   ]
  },
  {
   "cell_type": "code",
   "execution_count": 4,
   "id": "9d0fb825",
   "metadata": {},
   "outputs": [
    {
     "data": {
      "text/html": [
       "<div>\n",
       "<style scoped>\n",
       "    .dataframe tbody tr th:only-of-type {\n",
       "        vertical-align: middle;\n",
       "    }\n",
       "\n",
       "    .dataframe tbody tr th {\n",
       "        vertical-align: top;\n",
       "    }\n",
       "\n",
       "    .dataframe thead th {\n",
       "        text-align: right;\n",
       "    }\n",
       "</style>\n",
       "<table border=\"1\" class=\"dataframe\">\n",
       "  <thead>\n",
       "    <tr style=\"text-align: right;\">\n",
       "      <th></th>\n",
       "      <th>ID</th>\n",
       "      <th>State</th>\n",
       "      <th>City</th>\n",
       "      <th>Locality</th>\n",
       "      <th>Property_Type</th>\n",
       "      <th>BHK</th>\n",
       "      <th>Size_in_SqFt</th>\n",
       "      <th>Price_in_Lakhs</th>\n",
       "      <th>Price_per_SqFt</th>\n",
       "      <th>Year_Built</th>\n",
       "      <th>Furnished_Status</th>\n",
       "      <th>Floor_No</th>\n",
       "      <th>Total_Floors</th>\n",
       "      <th>Age_of_Property</th>\n",
       "      <th>Nearby_Schools</th>\n",
       "      <th>Nearby_Hospitals</th>\n",
       "      <th>Public_Transport_Accessibility</th>\n",
       "      <th>Parking_Space</th>\n",
       "      <th>Security</th>\n",
       "      <th>Amenities</th>\n",
       "      <th>Facing</th>\n",
       "      <th>Owner_Type</th>\n",
       "      <th>Availability_Status</th>\n",
       "    </tr>\n",
       "  </thead>\n",
       "  <tbody>\n",
       "  </tbody>\n",
       "</table>\n",
       "</div>"
      ],
      "text/plain": [
       "Empty DataFrame\n",
       "Columns: [ID, State, City, Locality, Property_Type, BHK, Size_in_SqFt, Price_in_Lakhs, Price_per_SqFt, Year_Built, Furnished_Status, Floor_No, Total_Floors, Age_of_Property, Nearby_Schools, Nearby_Hospitals, Public_Transport_Accessibility, Parking_Space, Security, Amenities, Facing, Owner_Type, Availability_Status]\n",
       "Index: []"
      ]
     },
     "execution_count": 4,
     "metadata": {},
     "output_type": "execute_result"
    }
   ],
   "source": [
    "ihp[ihp.duplicated()] #Duplicates"
   ]
  },
  {
   "cell_type": "code",
   "execution_count": 5,
   "id": "ab25dd51",
   "metadata": {},
   "outputs": [
    {
     "data": {
      "text/plain": [
       "(250000, 23)"
      ]
     },
     "execution_count": 5,
     "metadata": {},
     "output_type": "execute_result"
    }
   ],
   "source": [
    "ihp.shape"
   ]
  },
  {
   "cell_type": "code",
   "execution_count": 6,
   "id": "2f8a46af",
   "metadata": {},
   "outputs": [],
   "source": [
    "ihp.Price_in_Lakhs.dropna(inplace=True)"
   ]
  },
  {
   "cell_type": "code",
   "execution_count": 7,
   "id": "1dfed5b0",
   "metadata": {},
   "outputs": [
    {
     "data": {
      "text/plain": [
       "np.int64(1535)"
      ]
     },
     "execution_count": 7,
     "metadata": {},
     "output_type": "execute_result"
    }
   ],
   "source": [
    "ihp.Price_in_Lakhs.isnull().sum()"
   ]
  },
  {
   "cell_type": "code",
   "execution_count": 8,
   "id": "45c5b86d",
   "metadata": {},
   "outputs": [
    {
     "name": "stdout",
     "output_type": "stream",
     "text": [
      "<class 'pandas.core.frame.DataFrame'>\n",
      "RangeIndex: 250000 entries, 0 to 249999\n",
      "Data columns (total 23 columns):\n",
      " #   Column                          Non-Null Count   Dtype  \n",
      "---  ------                          --------------   -----  \n",
      " 0   ID                              249993 non-null  float64\n",
      " 1   State                           249477 non-null  object \n",
      " 2   City                            249439 non-null  object \n",
      " 3   Locality                        249067 non-null  object \n",
      " 4   Property_Type                   248926 non-null  object \n",
      " 5   BHK                             248975 non-null  float64\n",
      " 6   Size_in_SqFt                    248399 non-null  float64\n",
      " 7   Price_in_Lakhs                  248465 non-null  float64\n",
      " 8   Price_per_SqFt                  248679 non-null  float64\n",
      " 9   Year_Built                      248641 non-null  float64\n",
      " 10  Furnished_Status                248141 non-null  object \n",
      " 11  Floor_No                        248649 non-null  float64\n",
      " 12  Total_Floors                    248664 non-null  float64\n",
      " 13  Age_of_Property                 248666 non-null  float64\n",
      " 14  Nearby_Schools                  248692 non-null  float64\n",
      " 15  Nearby_Hospitals                248703 non-null  float64\n",
      " 16  Public_Transport_Accessibility  248882 non-null  object \n",
      " 17  Parking_Space                   249345 non-null  object \n",
      " 18  Security                        249467 non-null  object \n",
      " 19  Amenities                       249606 non-null  object \n",
      " 20  Facing                          249693 non-null  object \n",
      " 21  Owner_Type                      249702 non-null  object \n",
      " 22  Availability_Status             249773 non-null  object \n",
      "dtypes: float64(11), object(12)\n",
      "memory usage: 43.9+ MB\n"
     ]
    }
   ],
   "source": [
    "ihp.info()"
   ]
  },
  {
   "cell_type": "code",
   "execution_count": 9,
   "id": "be0261aa",
   "metadata": {},
   "outputs": [
    {
     "data": {
      "text/plain": [
       "250000"
      ]
     },
     "execution_count": 9,
     "metadata": {},
     "output_type": "execute_result"
    }
   ],
   "source": [
    "ihp.shape[0]"
   ]
  },
  {
   "cell_type": "markdown",
   "id": "7df435aa",
   "metadata": {},
   "source": [
    "# Null values "
   ]
  },
  {
   "cell_type": "code",
   "execution_count": 10,
   "id": "f05c0480",
   "metadata": {},
   "outputs": [
    {
     "data": {
      "text/plain": [
       "ID                                0.0028\n",
       "State                             0.2092\n",
       "City                              0.2244\n",
       "Locality                          0.3732\n",
       "Property_Type                     0.4296\n",
       "BHK                               0.4100\n",
       "Size_in_SqFt                      0.6404\n",
       "Price_in_Lakhs                    0.6140\n",
       "Price_per_SqFt                    0.5284\n",
       "Year_Built                        0.5436\n",
       "Furnished_Status                  0.7436\n",
       "Floor_No                          0.5404\n",
       "Total_Floors                      0.5344\n",
       "Age_of_Property                   0.5336\n",
       "Nearby_Schools                    0.5232\n",
       "Nearby_Hospitals                  0.5188\n",
       "Public_Transport_Accessibility    0.4472\n",
       "Parking_Space                     0.2620\n",
       "Security                          0.2132\n",
       "Amenities                         0.1576\n",
       "Facing                            0.1228\n",
       "Owner_Type                        0.1192\n",
       "Availability_Status               0.0908\n",
       "dtype: float64"
      ]
     },
     "execution_count": 10,
     "metadata": {},
     "output_type": "execute_result"
    }
   ],
   "source": [
    "ihp.isnull().sum()/ihp.shape[0]*100"
   ]
  },
  {
   "cell_type": "markdown",
   "id": "8b73dcb0",
   "metadata": {},
   "source": [
    "# Dropping ID"
   ]
  },
  {
   "cell_type": "code",
   "execution_count": 11,
   "id": "87802754",
   "metadata": {},
   "outputs": [],
   "source": [
    "ihp.drop(\"ID\",axis=1,inplace=True)"
   ]
  },
  {
   "cell_type": "code",
   "execution_count": 12,
   "id": "7ca933c5",
   "metadata": {},
   "outputs": [
    {
     "data": {
      "text/html": [
       "<div>\n",
       "<style scoped>\n",
       "    .dataframe tbody tr th:only-of-type {\n",
       "        vertical-align: middle;\n",
       "    }\n",
       "\n",
       "    .dataframe tbody tr th {\n",
       "        vertical-align: top;\n",
       "    }\n",
       "\n",
       "    .dataframe thead th {\n",
       "        text-align: right;\n",
       "    }\n",
       "</style>\n",
       "<table border=\"1\" class=\"dataframe\">\n",
       "  <thead>\n",
       "    <tr style=\"text-align: right;\">\n",
       "      <th></th>\n",
       "      <th>State</th>\n",
       "      <th>City</th>\n",
       "      <th>Locality</th>\n",
       "      <th>Property_Type</th>\n",
       "      <th>BHK</th>\n",
       "      <th>Size_in_SqFt</th>\n",
       "      <th>Price_in_Lakhs</th>\n",
       "      <th>Price_per_SqFt</th>\n",
       "      <th>Year_Built</th>\n",
       "      <th>Furnished_Status</th>\n",
       "      <th>Floor_No</th>\n",
       "      <th>Total_Floors</th>\n",
       "      <th>Age_of_Property</th>\n",
       "      <th>Nearby_Schools</th>\n",
       "      <th>Nearby_Hospitals</th>\n",
       "      <th>Public_Transport_Accessibility</th>\n",
       "      <th>Parking_Space</th>\n",
       "      <th>Security</th>\n",
       "      <th>Amenities</th>\n",
       "      <th>Facing</th>\n",
       "      <th>Owner_Type</th>\n",
       "      <th>Availability_Status</th>\n",
       "    </tr>\n",
       "  </thead>\n",
       "  <tbody>\n",
       "    <tr>\n",
       "      <th>0</th>\n",
       "      <td>Tamil Nadu</td>\n",
       "      <td>Chennai</td>\n",
       "      <td>Locality_84</td>\n",
       "      <td>Apartment</td>\n",
       "      <td>1.0</td>\n",
       "      <td>4740.0</td>\n",
       "      <td>489.76</td>\n",
       "      <td>0.1</td>\n",
       "      <td>1990.0</td>\n",
       "      <td>Furnished</td>\n",
       "      <td>22.0</td>\n",
       "      <td>1.0</td>\n",
       "      <td>35.0</td>\n",
       "      <td>10.0</td>\n",
       "      <td>3.0</td>\n",
       "      <td>High</td>\n",
       "      <td>No</td>\n",
       "      <td>No</td>\n",
       "      <td>Playground, Gym, Garden, Pool, Clubhouse</td>\n",
       "      <td>West</td>\n",
       "      <td>Owner</td>\n",
       "      <td>Ready_to_Move</td>\n",
       "    </tr>\n",
       "  </tbody>\n",
       "</table>\n",
       "</div>"
      ],
      "text/plain": [
       "        State     City     Locality Property_Type  BHK  Size_in_SqFt  \\\n",
       "0  Tamil Nadu  Chennai  Locality_84     Apartment  1.0        4740.0   \n",
       "\n",
       "   Price_in_Lakhs  Price_per_SqFt  Year_Built Furnished_Status  Floor_No  \\\n",
       "0          489.76             0.1      1990.0        Furnished      22.0   \n",
       "\n",
       "   Total_Floors  Age_of_Property  Nearby_Schools  Nearby_Hospitals  \\\n",
       "0           1.0             35.0            10.0               3.0   \n",
       "\n",
       "  Public_Transport_Accessibility Parking_Space Security  \\\n",
       "0                           High            No       No   \n",
       "\n",
       "                                  Amenities Facing Owner_Type  \\\n",
       "0  Playground, Gym, Garden, Pool, Clubhouse   West      Owner   \n",
       "\n",
       "  Availability_Status  \n",
       "0       Ready_to_Move  "
      ]
     },
     "execution_count": 12,
     "metadata": {},
     "output_type": "execute_result"
    }
   ],
   "source": [
    "ihp.head(1)"
   ]
  },
  {
   "cell_type": "code",
   "execution_count": 13,
   "id": "11c43632",
   "metadata": {},
   "outputs": [
    {
     "data": {
      "text/html": [
       "<div>\n",
       "<style scoped>\n",
       "    .dataframe tbody tr th:only-of-type {\n",
       "        vertical-align: middle;\n",
       "    }\n",
       "\n",
       "    .dataframe tbody tr th {\n",
       "        vertical-align: top;\n",
       "    }\n",
       "\n",
       "    .dataframe thead th {\n",
       "        text-align: right;\n",
       "    }\n",
       "</style>\n",
       "<table border=\"1\" class=\"dataframe\">\n",
       "  <thead>\n",
       "    <tr style=\"text-align: right;\">\n",
       "      <th></th>\n",
       "      <th>BHK</th>\n",
       "      <th>Size_in_SqFt</th>\n",
       "      <th>Price_in_Lakhs</th>\n",
       "      <th>Price_per_SqFt</th>\n",
       "      <th>Year_Built</th>\n",
       "      <th>Floor_No</th>\n",
       "      <th>Total_Floors</th>\n",
       "      <th>Age_of_Property</th>\n",
       "      <th>Nearby_Schools</th>\n",
       "      <th>Nearby_Hospitals</th>\n",
       "    </tr>\n",
       "  </thead>\n",
       "  <tbody>\n",
       "    <tr>\n",
       "      <th>count</th>\n",
       "      <td>248975.000000</td>\n",
       "      <td>248399.000000</td>\n",
       "      <td>248465.000000</td>\n",
       "      <td>248679.000000</td>\n",
       "      <td>248641.000000</td>\n",
       "      <td>248649.000000</td>\n",
       "      <td>248664.000000</td>\n",
       "      <td>248666.000000</td>\n",
       "      <td>248692.000000</td>\n",
       "      <td>248703.000000</td>\n",
       "    </tr>\n",
       "    <tr>\n",
       "      <th>mean</th>\n",
       "      <td>2.999755</td>\n",
       "      <td>2749.956960</td>\n",
       "      <td>254.585097</td>\n",
       "      <td>0.130589</td>\n",
       "      <td>2006.523437</td>\n",
       "      <td>14.965449</td>\n",
       "      <td>15.505111</td>\n",
       "      <td>18.476708</td>\n",
       "      <td>5.499244</td>\n",
       "      <td>5.498546</td>\n",
       "    </tr>\n",
       "    <tr>\n",
       "      <th>std</th>\n",
       "      <td>1.415538</td>\n",
       "      <td>1300.651337</td>\n",
       "      <td>141.349250</td>\n",
       "      <td>0.130737</td>\n",
       "      <td>9.807668</td>\n",
       "      <td>8.948514</td>\n",
       "      <td>8.670781</td>\n",
       "      <td>9.807776</td>\n",
       "      <td>2.878231</td>\n",
       "      <td>2.871952</td>\n",
       "    </tr>\n",
       "    <tr>\n",
       "      <th>min</th>\n",
       "      <td>1.000000</td>\n",
       "      <td>500.000000</td>\n",
       "      <td>10.000000</td>\n",
       "      <td>0.000000</td>\n",
       "      <td>1990.000000</td>\n",
       "      <td>0.000000</td>\n",
       "      <td>1.000000</td>\n",
       "      <td>2.000000</td>\n",
       "      <td>1.000000</td>\n",
       "      <td>1.000000</td>\n",
       "    </tr>\n",
       "    <tr>\n",
       "      <th>25%</th>\n",
       "      <td>2.000000</td>\n",
       "      <td>1623.000000</td>\n",
       "      <td>132.540000</td>\n",
       "      <td>0.050000</td>\n",
       "      <td>1998.000000</td>\n",
       "      <td>7.000000</td>\n",
       "      <td>8.000000</td>\n",
       "      <td>10.000000</td>\n",
       "      <td>3.000000</td>\n",
       "      <td>3.000000</td>\n",
       "    </tr>\n",
       "    <tr>\n",
       "      <th>50%</th>\n",
       "      <td>3.000000</td>\n",
       "      <td>2747.000000</td>\n",
       "      <td>253.830000</td>\n",
       "      <td>0.090000</td>\n",
       "      <td>2007.000000</td>\n",
       "      <td>15.000000</td>\n",
       "      <td>15.000000</td>\n",
       "      <td>18.000000</td>\n",
       "      <td>5.000000</td>\n",
       "      <td>5.000000</td>\n",
       "    </tr>\n",
       "    <tr>\n",
       "      <th>75%</th>\n",
       "      <td>4.000000</td>\n",
       "      <td>3874.000000</td>\n",
       "      <td>376.890000</td>\n",
       "      <td>0.160000</td>\n",
       "      <td>2015.000000</td>\n",
       "      <td>23.000000</td>\n",
       "      <td>23.000000</td>\n",
       "      <td>27.000000</td>\n",
       "      <td>8.000000</td>\n",
       "      <td>8.000000</td>\n",
       "    </tr>\n",
       "    <tr>\n",
       "      <th>max</th>\n",
       "      <td>5.000000</td>\n",
       "      <td>5000.000000</td>\n",
       "      <td>500.000000</td>\n",
       "      <td>0.990000</td>\n",
       "      <td>2023.000000</td>\n",
       "      <td>30.000000</td>\n",
       "      <td>30.000000</td>\n",
       "      <td>35.000000</td>\n",
       "      <td>10.000000</td>\n",
       "      <td>10.000000</td>\n",
       "    </tr>\n",
       "  </tbody>\n",
       "</table>\n",
       "</div>"
      ],
      "text/plain": [
       "                 BHK   Size_in_SqFt  Price_in_Lakhs  Price_per_SqFt  \\\n",
       "count  248975.000000  248399.000000   248465.000000   248679.000000   \n",
       "mean        2.999755    2749.956960      254.585097        0.130589   \n",
       "std         1.415538    1300.651337      141.349250        0.130737   \n",
       "min         1.000000     500.000000       10.000000        0.000000   \n",
       "25%         2.000000    1623.000000      132.540000        0.050000   \n",
       "50%         3.000000    2747.000000      253.830000        0.090000   \n",
       "75%         4.000000    3874.000000      376.890000        0.160000   \n",
       "max         5.000000    5000.000000      500.000000        0.990000   \n",
       "\n",
       "          Year_Built       Floor_No   Total_Floors  Age_of_Property  \\\n",
       "count  248641.000000  248649.000000  248664.000000    248666.000000   \n",
       "mean     2006.523437      14.965449      15.505111        18.476708   \n",
       "std         9.807668       8.948514       8.670781         9.807776   \n",
       "min      1990.000000       0.000000       1.000000         2.000000   \n",
       "25%      1998.000000       7.000000       8.000000        10.000000   \n",
       "50%      2007.000000      15.000000      15.000000        18.000000   \n",
       "75%      2015.000000      23.000000      23.000000        27.000000   \n",
       "max      2023.000000      30.000000      30.000000        35.000000   \n",
       "\n",
       "       Nearby_Schools  Nearby_Hospitals  \n",
       "count   248692.000000     248703.000000  \n",
       "mean         5.499244          5.498546  \n",
       "std          2.878231          2.871952  \n",
       "min          1.000000          1.000000  \n",
       "25%          3.000000          3.000000  \n",
       "50%          5.000000          5.000000  \n",
       "75%          8.000000          8.000000  \n",
       "max         10.000000         10.000000  "
      ]
     },
     "execution_count": 13,
     "metadata": {},
     "output_type": "execute_result"
    }
   ],
   "source": [
    "ihp.describe()"
   ]
  },
  {
   "cell_type": "markdown",
   "id": "7fde5028",
   "metadata": {},
   "source": [
    "# Dropping rows with null value of target varibales "
   ]
  },
  {
   "cell_type": "code",
   "execution_count": 14,
   "id": "4b1fc313",
   "metadata": {},
   "outputs": [],
   "source": [
    "drop=ihp[ihp.Price_in_Lakhs.isnull()==True].index"
   ]
  },
  {
   "cell_type": "code",
   "execution_count": 15,
   "id": "83aca65a",
   "metadata": {},
   "outputs": [
    {
     "data": {
      "text/plain": [
       "Index([     3,      4,      5,      6,      7,      8,      9,     10,     11,\n",
       "           12,\n",
       "       ...\n",
       "       125956, 125957, 125958, 125959, 125960, 125961, 125962, 125963, 125964,\n",
       "       125965],\n",
       "      dtype='int64', length=1535)"
      ]
     },
     "execution_count": 15,
     "metadata": {},
     "output_type": "execute_result"
    }
   ],
   "source": [
    "drop"
   ]
  },
  {
   "cell_type": "code",
   "execution_count": 16,
   "id": "c9e68a3b",
   "metadata": {},
   "outputs": [],
   "source": [
    "ihp.drop(drop,inplace=True)"
   ]
  },
  {
   "cell_type": "code",
   "execution_count": 17,
   "id": "b84a107a",
   "metadata": {},
   "outputs": [
    {
     "data": {
      "text/plain": [
       "(248465, 22)"
      ]
     },
     "execution_count": 17,
     "metadata": {},
     "output_type": "execute_result"
    }
   ],
   "source": [
    "ihp.shape"
   ]
  },
  {
   "cell_type": "code",
   "execution_count": 18,
   "id": "5cf0bb6e",
   "metadata": {},
   "outputs": [],
   "source": [
    "ihp.reset_index(inplace=True)"
   ]
  },
  {
   "cell_type": "markdown",
   "id": "87d0efbe",
   "metadata": {},
   "source": [
    "# boxplot and distribution"
   ]
  },
  {
   "cell_type": "code",
   "execution_count": 19,
   "id": "a1b13b2d",
   "metadata": {},
   "outputs": [],
   "source": [
    "ihp.drop(\"index\",axis=1,inplace=True)"
   ]
  },
  {
   "cell_type": "code",
   "execution_count": 20,
   "id": "88e33602",
   "metadata": {},
   "outputs": [
    {
     "name": "stdout",
     "output_type": "stream",
     "text": [
      "BHK\n"
     ]
    },
    {
     "data": {
      "image/png": "[encoded data removed]",
      "text/plain": [
       "<Figure size 640x480 with 1 Axes>"
      ]
     },
     "metadata": {},
     "output_type": "display_data"
    },
    {
     "name": "stdout",
     "output_type": "stream",
     "text": [
      "Size_in_SqFt\n"
     ]
    },
    {
     "data": {
      "image/png": "[encoded data removed]",
      "text/plain": [
       "<Figure size 640x480 with 1 Axes>"
      ]
     },
     "metadata": {},
     "output_type": "display_data"
    },
    {
     "name": "stdout",
     "output_type": "stream",
     "text": [
      "Price_in_Lakhs\n"
     ]
    },
    {
     "data": {
      "image/png": "[encoded data removed]",
      "text/plain": [
       "<Figure size 640x480 with 1 Axes>"
      ]
     },
     "metadata": {},
     "output_type": "display_data"
    },
    {
     "name": "stdout",
     "output_type": "stream",
     "text": [
      "Price_per_SqFt\n"
     ]
    },
    {
     "data": {
      "image/png": "[encoded data removed]",
      "text/plain": [
       "<Figure size 640x480 with 1 Axes>"
      ]
     },
     "metadata": {},
     "output_type": "display_data"
    },
    {
     "name": "stdout",
     "output_type": "stream",
     "text": [
      "Year_Built\n"
     ]
    },
    {
     "data": {
      "image/png": "[encoded data removed]",
      "text/plain": [
       "<Figure size 640x480 with 1 Axes>"
      ]
     },
     "metadata": {},
     "output_type": "display_data"
    },
    {
     "name": "stdout",
     "output_type": "stream",
     "text": [
      "Floor_No\n"
     ]
    },
    {
     "data": {
      "image/png": "[encoded data removed]",
      "text/plain": [
       "<Figure size 640x480 with 1 Axes>"
      ]
     },
     "metadata": {},
     "output_type": "display_data"
    },
    {
     "name": "stdout",
     "output_type": "stream",
     "text": [
      "Total_Floors\n"
     ]
    },
    {
     "data": {
      "image/png": "[encoded data removed]",
      "text/plain": [
       "<Figure size 640x480 with 1 Axes>"
      ]
     },
     "metadata": {},
     "output_type": "display_data"
    },
    {
     "name": "stdout",
     "output_type": "stream",
     "text": [
      "Age_of_Property\n"
     ]
    },
    {
     "data": {
      "image/png": "[encoded data removed]",
      "text/plain": [
       "<Figure size 640x480 with 1 Axes>"
      ]
     },
     "metadata": {},
     "output_type": "display_data"
    },
    {
     "name": "stdout",
     "output_type": "stream",
     "text": [
      "Nearby_Schools\n"
     ]
    },
    {
     "data": {
      "image/png": "[encoded data removed]",
      "text/plain": [
       "<Figure size 640x480 with 1 Axes>"
      ]
     },
     "metadata": {},
     "output_type": "display_data"
    },
    {
     "name": "stdout",
     "output_type": "stream",
     "text": [
      "Nearby_Hospitals\n"
     ]
    },
    {
     "data": {
      "image/png": "[encoded data removed]",
      "text/plain": [
       "<Figure size 640x480 with 1 Axes>"
      ]
     },
     "metadata": {},
     "output_type": "display_data"
    },
    {
     "name": "stdout",
     "output_type": "stream",
     "text": [
      "CPU times: total: 5.39 s\n",
      "Wall time: 6.28 s\n"
     ]
    }
   ],
   "source": [
    "%%time\n",
    "for i in ihp.select_dtypes(exclude=\"object\"):\n",
    "    print(i)\n",
    "    sns.boxplot(ihp[i])\n",
    "    plt.show()"
   ]
  },
  {
   "cell_type": "markdown",
   "id": "95c1910b",
   "metadata": {},
   "source": []
  },
  {
   "cell_type": "markdown",
   "id": "c7756aa0",
   "metadata": {},
   "source": [
    "# Checking Duplicates "
   ]
  },
  {
   "cell_type": "code",
   "execution_count": 21,
   "id": "2aabdc95",
   "metadata": {},
   "outputs": [
    {
     "data": {
      "text/html": [
       "<div>\n",
       "<style scoped>\n",
       "    .dataframe tbody tr th:only-of-type {\n",
       "        vertical-align: middle;\n",
       "    }\n",
       "\n",
       "    .dataframe tbody tr th {\n",
       "        vertical-align: top;\n",
       "    }\n",
       "\n",
       "    .dataframe thead th {\n",
       "        text-align: right;\n",
       "    }\n",
       "</style>\n",
       "<table border=\"1\" class=\"dataframe\">\n",
       "  <thead>\n",
       "    <tr style=\"text-align: right;\">\n",
       "      <th></th>\n",
       "      <th>State</th>\n",
       "      <th>City</th>\n",
       "      <th>Locality</th>\n",
       "      <th>Property_Type</th>\n",
       "      <th>BHK</th>\n",
       "      <th>Size_in_SqFt</th>\n",
       "      <th>Price_in_Lakhs</th>\n",
       "      <th>Price_per_SqFt</th>\n",
       "      <th>Year_Built</th>\n",
       "      <th>Furnished_Status</th>\n",
       "      <th>Floor_No</th>\n",
       "      <th>Total_Floors</th>\n",
       "      <th>Age_of_Property</th>\n",
       "      <th>Nearby_Schools</th>\n",
       "      <th>Nearby_Hospitals</th>\n",
       "      <th>Public_Transport_Accessibility</th>\n",
       "      <th>Parking_Space</th>\n",
       "      <th>Security</th>\n",
       "      <th>Amenities</th>\n",
       "      <th>Facing</th>\n",
       "      <th>Owner_Type</th>\n",
       "      <th>Availability_Status</th>\n",
       "    </tr>\n",
       "  </thead>\n",
       "  <tbody>\n",
       "  </tbody>\n",
       "</table>\n",
       "</div>"
      ],
      "text/plain": [
       "Empty DataFrame\n",
       "Columns: [State, City, Locality, Property_Type, BHK, Size_in_SqFt, Price_in_Lakhs, Price_per_SqFt, Year_Built, Furnished_Status, Floor_No, Total_Floors, Age_of_Property, Nearby_Schools, Nearby_Hospitals, Public_Transport_Accessibility, Parking_Space, Security, Amenities, Facing, Owner_Type, Availability_Status]\n",
       "Index: []"
      ]
     },
     "execution_count": 21,
     "metadata": {},
     "output_type": "execute_result"
    }
   ],
   "source": [
    "ihp[ihp.duplicated()]"
   ]
  },
  {
   "cell_type": "markdown",
   "id": "3220b573",
   "metadata": {},
   "source": [
    "# Distribution of categorical data "
   ]
  },
  {
   "cell_type": "code",
   "execution_count": 22,
   "id": "1e6eaa88",
   "metadata": {},
   "outputs": [
    {
     "data": {
      "text/plain": [
       "Owner_Type\n",
       "Broker     33.387014\n",
       "Builder    33.310519\n",
       "Owner      33.302467\n",
       "Name: proportion, dtype: float64"
      ]
     },
     "execution_count": 22,
     "metadata": {},
     "output_type": "execute_result"
    }
   ],
   "source": [
    "ihp.Owner_Type.value_counts(normalize=True)*100"
   ]
  },
  {
   "cell_type": "code",
   "execution_count": 23,
   "id": "92063b1c",
   "metadata": {},
   "outputs": [
    {
     "data": {
      "text/plain": [
       "<Axes: xlabel='count', ylabel='State'>"
      ]
     },
     "execution_count": 23,
     "metadata": {},
     "output_type": "execute_result"
    },
    {
     "data": {
      "image/png": "[encoded data removed]",
      "text/plain": [
       "<Figure size 640x480 with 1 Axes>"
      ]
     },
     "metadata": {},
     "output_type": "display_data"
    }
   ],
   "source": [
    "sns.countplot(y=ihp.State)"
   ]
  },
  {
   "cell_type": "code",
   "execution_count": 24,
   "id": "3a7bb095",
   "metadata": {},
   "outputs": [
    {
     "data": {
      "text/plain": [
       "<Axes: xlabel='Floor_No', ylabel='Age_of_Property'>"
      ]
     },
     "execution_count": 24,
     "metadata": {},
     "output_type": "execute_result"
    },
    {
     "data": {
      "image/png": "[encoded data removed]",
      "text/plain": [
       "<Figure size 640x480 with 1 Axes>"
      ]
     },
     "metadata": {},
     "output_type": "display_data"
    }
   ],
   "source": [
    "sns.scatterplot(x=ihp.Floor_No,y=ihp.Age_of_Property)"
   ]
  },
  {
   "cell_type": "code",
   "execution_count": 25,
   "id": "b0700997",
   "metadata": {},
   "outputs": [
    {
     "data": {
      "text/plain": [
       "<Axes: >"
      ]
     },
     "execution_count": 25,
     "metadata": {},
     "output_type": "execute_result"
    },
    {
     "data": {
      "image/png": "[encoded data removed]",
      "text/plain": [
       "<Figure size 1000x800 with 2 Axes>"
      ]
     },
     "metadata": {},
     "output_type": "display_data"
    }
   ],
   "source": [
    "plt.figure(figsize=[10,8])\n",
    "sns.heatmap(ihp.select_dtypes(exclude=\"object\").corr(),annot=True)"
   ]
  },
  {
   "cell_type": "code",
   "execution_count": 26,
   "id": "6843e84b",
   "metadata": {},
   "outputs": [
    {
     "data": {
      "text/plain": [
       "<Axes: xlabel='Floor_No', ylabel='Price_in_Lakhs'>"
      ]
     },
     "execution_count": 26,
     "metadata": {},
     "output_type": "execute_result"
    },
    {
     "data": {
      "image/png": "[encoded data removed]",
      "text/plain": [
       "<Figure size 640x480 with 1 Axes>"
      ]
     },
     "metadata": {},
     "output_type": "display_data"
    }
   ],
   "source": [
    "sns.scatterplot(y=ihp.Price_in_Lakhs,x = ihp.Floor_No)"
   ]
  },
  {
   "cell_type": "markdown",
   "id": "5b83720a",
   "metadata": {},
   "source": [
    "# Data cleaning "
   ]
  },
  {
   "cell_type": "code",
   "execution_count": 27,
   "id": "bd8012e1",
   "metadata": {},
   "outputs": [
    {
     "data": {
      "text/html": [
       "<div>\n",
       "<style scoped>\n",
       "    .dataframe tbody tr th:only-of-type {\n",
       "        vertical-align: middle;\n",
       "    }\n",
       "\n",
       "    .dataframe tbody tr th {\n",
       "        vertical-align: top;\n",
       "    }\n",
       "\n",
       "    .dataframe thead th {\n",
       "        text-align: right;\n",
       "    }\n",
       "</style>\n",
       "<table border=\"1\" class=\"dataframe\">\n",
       "  <thead>\n",
       "    <tr style=\"text-align: right;\">\n",
       "      <th></th>\n",
       "      <th>State</th>\n",
       "      <th>City</th>\n",
       "      <th>Locality</th>\n",
       "      <th>Property_Type</th>\n",
       "      <th>BHK</th>\n",
       "      <th>Size_in_SqFt</th>\n",
       "      <th>Price_in_Lakhs</th>\n",
       "      <th>Price_per_SqFt</th>\n",
       "      <th>Year_Built</th>\n",
       "      <th>Furnished_Status</th>\n",
       "      <th>Floor_No</th>\n",
       "      <th>Total_Floors</th>\n",
       "      <th>Age_of_Property</th>\n",
       "      <th>Nearby_Schools</th>\n",
       "      <th>Nearby_Hospitals</th>\n",
       "      <th>Public_Transport_Accessibility</th>\n",
       "      <th>Parking_Space</th>\n",
       "      <th>Security</th>\n",
       "      <th>Amenities</th>\n",
       "      <th>Facing</th>\n",
       "      <th>Owner_Type</th>\n",
       "      <th>Availability_Status</th>\n",
       "    </tr>\n",
       "  </thead>\n",
       "  <tbody>\n",
       "    <tr>\n",
       "      <th>0</th>\n",
       "      <td>Tamil Nadu</td>\n",
       "      <td>Chennai</td>\n",
       "      <td>Locality_84</td>\n",
       "      <td>Apartment</td>\n",
       "      <td>1.0</td>\n",
       "      <td>4740.0</td>\n",
       "      <td>489.76</td>\n",
       "      <td>0.1</td>\n",
       "      <td>1990.0</td>\n",
       "      <td>Furnished</td>\n",
       "      <td>22.0</td>\n",
       "      <td>1.0</td>\n",
       "      <td>35.0</td>\n",
       "      <td>10.0</td>\n",
       "      <td>3.0</td>\n",
       "      <td>High</td>\n",
       "      <td>No</td>\n",
       "      <td>No</td>\n",
       "      <td>Playground, Gym, Garden, Pool, Clubhouse</td>\n",
       "      <td>West</td>\n",
       "      <td>Owner</td>\n",
       "      <td>Ready_to_Move</td>\n",
       "    </tr>\n",
       "  </tbody>\n",
       "</table>\n",
       "</div>"
      ],
      "text/plain": [
       "        State     City     Locality Property_Type  BHK  Size_in_SqFt  \\\n",
       "0  Tamil Nadu  Chennai  Locality_84     Apartment  1.0        4740.0   \n",
       "\n",
       "   Price_in_Lakhs  Price_per_SqFt  Year_Built Furnished_Status  Floor_No  \\\n",
       "0          489.76             0.1      1990.0        Furnished      22.0   \n",
       "\n",
       "   Total_Floors  Age_of_Property  Nearby_Schools  Nearby_Hospitals  \\\n",
       "0           1.0             35.0            10.0               3.0   \n",
       "\n",
       "  Public_Transport_Accessibility Parking_Space Security  \\\n",
       "0                           High            No       No   \n",
       "\n",
       "                                  Amenities Facing Owner_Type  \\\n",
       "0  Playground, Gym, Garden, Pool, Clubhouse   West      Owner   \n",
       "\n",
       "  Availability_Status  \n",
       "0       Ready_to_Move  "
      ]
     },
     "execution_count": 27,
     "metadata": {},
     "output_type": "execute_result"
    }
   ],
   "source": [
    "ihp.head(1)"
   ]
  },
  {
   "cell_type": "code",
   "execution_count": 28,
   "id": "82218692",
   "metadata": {},
   "outputs": [
    {
     "data": {
      "text/plain": [
       "State                               0\n",
       "City                                6\n",
       "Locality                            0\n",
       "Property_Type                       0\n",
       "BHK                                 0\n",
       "Size_in_SqFt                      306\n",
       "Price_in_Lakhs                      0\n",
       "Price_per_SqFt                     97\n",
       "Year_Built                        126\n",
       "Furnished_Status                  345\n",
       "Floor_No                          132\n",
       "Total_Floors                      126\n",
       "Age_of_Property                   128\n",
       "Nearby_Schools                    127\n",
       "Nearby_Hospitals                  128\n",
       "Public_Transport_Accessibility    111\n",
       "Parking_Space                     123\n",
       "Security                          109\n",
       "Amenities                         106\n",
       "Facing                             84\n",
       "Owner_Type                         81\n",
       "Availability_Status                74\n",
       "dtype: int64"
      ]
     },
     "execution_count": 28,
     "metadata": {},
     "output_type": "execute_result"
    }
   ],
   "source": [
    "ihp.isnull().sum()\n"
   ]
  },
  {
   "cell_type": "markdown",
   "id": "4985634f",
   "metadata": {},
   "source": [
    "# Fill null values in State "
   ]
  },
  {
   "cell_type": "code",
   "execution_count": 29,
   "id": "af5c6aa9",
   "metadata": {},
   "outputs": [],
   "source": [
    "ihp.State.fillna(ihp.State.mode()[0],inplace=True)"
   ]
  },
  {
   "cell_type": "markdown",
   "id": "9782ce54",
   "metadata": {},
   "source": [
    "# filling null values "
   ]
  },
  {
   "cell_type": "code",
   "execution_count": 30,
   "id": "c74c6d22",
   "metadata": {},
   "outputs": [],
   "source": [
    "ihp.City.fillna(ihp.City.mode()[0],inplace=True)"
   ]
  },
  {
   "cell_type": "code",
   "execution_count": 31,
   "id": "9d954911",
   "metadata": {},
   "outputs": [],
   "source": [
    "ihp[\"Size_in_SqFt\"].fillna(ihp[\"Size_in_SqFt\"].mean(),inplace=True)"
   ]
  },
  {
   "cell_type": "code",
   "execution_count": 32,
   "id": "5246ac60",
   "metadata": {},
   "outputs": [],
   "source": [
    "ihp[\"Age_of_Property\"].fillna(ihp[\"Age_of_Property\"].mean(),inplace=True)"
   ]
  },
  {
   "cell_type": "code",
   "execution_count": 33,
   "id": "fc3c0648",
   "metadata": {},
   "outputs": [
    {
     "data": {
      "text/plain": [
       "State                               0\n",
       "City                                0\n",
       "Locality                            0\n",
       "Property_Type                       0\n",
       "BHK                                 0\n",
       "Size_in_SqFt                        0\n",
       "Price_in_Lakhs                      0\n",
       "Price_per_SqFt                     97\n",
       "Year_Built                        126\n",
       "Furnished_Status                  345\n",
       "Floor_No                          132\n",
       "Total_Floors                      126\n",
       "Age_of_Property                     0\n",
       "Nearby_Schools                    127\n",
       "Nearby_Hospitals                  128\n",
       "Public_Transport_Accessibility    111\n",
       "Parking_Space                     123\n",
       "Security                          109\n",
       "Amenities                         106\n",
       "Facing                             84\n",
       "Owner_Type                         81\n",
       "Availability_Status                74\n",
       "dtype: int64"
      ]
     },
     "execution_count": 33,
     "metadata": {},
     "output_type": "execute_result"
    }
   ],
   "source": [
    "ihp.isnull().sum()"
   ]
  },
  {
   "cell_type": "code",
   "execution_count": 34,
   "id": "7ce9ad8e",
   "metadata": {},
   "outputs": [],
   "source": [
    "ihp[\"Furnished_Status\"].fillna(ihp[\"Furnished_Status\"].mode()[0],inplace=True)"
   ]
  },
  {
   "cell_type": "code",
   "execution_count": 35,
   "id": "5cb51ee2",
   "metadata": {},
   "outputs": [],
   "source": [
    "ihp[\"Floor_No\"].fillna(ihp[\"Floor_No\"].mean(),inplace=True)"
   ]
  },
  {
   "cell_type": "code",
   "execution_count": 36,
   "id": "60126264",
   "metadata": {},
   "outputs": [],
   "source": [
    "ihp[\"Owner_Type\"].fillna(ihp[\"Owner_Type\"].mode()[0],inplace=True)"
   ]
  },
  {
   "cell_type": "code",
   "execution_count": 37,
   "id": "088a36ae",
   "metadata": {},
   "outputs": [],
   "source": [
    "ihp[\"Availability_Status\"].fillna(ihp[\"Availability_Status\"].mode()[0],inplace=True)"
   ]
  },
  {
   "cell_type": "code",
   "execution_count": 38,
   "id": "83071aa2",
   "metadata": {},
   "outputs": [
    {
     "data": {
      "text/plain": [
       "State                               0\n",
       "City                                0\n",
       "Locality                            0\n",
       "Property_Type                       0\n",
       "BHK                                 0\n",
       "Size_in_SqFt                        0\n",
       "Price_in_Lakhs                      0\n",
       "Price_per_SqFt                     97\n",
       "Year_Built                        126\n",
       "Furnished_Status                    0\n",
       "Floor_No                            0\n",
       "Total_Floors                      126\n",
       "Age_of_Property                     0\n",
       "Nearby_Schools                    127\n",
       "Nearby_Hospitals                  128\n",
       "Public_Transport_Accessibility    111\n",
       "Parking_Space                     123\n",
       "Security                          109\n",
       "Amenities                         106\n",
       "Facing                             84\n",
       "Owner_Type                          0\n",
       "Availability_Status                 0\n",
       "dtype: int64"
      ]
     },
     "execution_count": 38,
     "metadata": {},
     "output_type": "execute_result"
    }
   ],
   "source": [
    "ihp.isnull().sum()"
   ]
  },
  {
   "cell_type": "code",
   "execution_count": 39,
   "id": "5e0f4d3d",
   "metadata": {},
   "outputs": [],
   "source": [
    "ihp.Locality=ihp[\"Locality\"].apply(lambda x:x.split('_')[1])"
   ]
  },
  {
   "cell_type": "code",
   "execution_count": 40,
   "id": "237e01eb",
   "metadata": {},
   "outputs": [],
   "source": [
    "data = ihp.copy()"
   ]
  },
  {
   "cell_type": "code",
   "execution_count": 41,
   "id": "ac4659d8",
   "metadata": {},
   "outputs": [],
   "source": [
    "X = data.drop(\"Price_in_Lakhs\",axis=1)\n",
    "y = data.Price_in_Lakhs"
   ]
  },
  {
   "cell_type": "code",
   "execution_count": 42,
   "id": "066fe8c0",
   "metadata": {},
   "outputs": [],
   "source": [
    "xtrain , xtest , ytrain , ytest = train_test_split(X,y,test_size=0.2,random_state=35)"
   ]
  },
  {
   "cell_type": "code",
   "execution_count": 43,
   "id": "5c19da8a",
   "metadata": {},
   "outputs": [
    {
     "data": {
      "text/plain": [
       "State\n",
       "Odisha            5.091763\n",
       "Tamil Nadu        5.078683\n",
       "Gujarat           5.045982\n",
       "Maharashtra       5.041958\n",
       "Punjab            5.018312\n",
       "Assam             5.018312\n",
       "Uttarakhand       5.004729\n",
       "Kerala            5.003220\n",
       "Uttar Pradesh     4.998189\n",
       "Andhra Pradesh    4.998189\n",
       "Chhattisgarh      4.996680\n",
       "Jharkhand         4.996177\n",
       "West Bengal       4.993661\n",
       "Karnataka         4.978065\n",
       "Telangana         4.972028\n",
       "Delhi             4.971022\n",
       "Madhya Pradesh    4.968507\n",
       "Bihar             4.950899\n",
       "Rajasthan         4.945365\n",
       "Haryana           4.928260\n",
       "Name: proportion, dtype: float64"
      ]
     },
     "execution_count": 43,
     "metadata": {},
     "output_type": "execute_result"
    }
   ],
   "source": [
    "xtrain.State.value_counts(normalize=True)*100"
   ]
  },
  {
   "cell_type": "code",
   "execution_count": 44,
   "id": "691d1c04",
   "metadata": {},
   "outputs": [
    {
     "data": {
      "text/plain": [
       "42"
      ]
     },
     "execution_count": 44,
     "metadata": {},
     "output_type": "execute_result"
    }
   ],
   "source": [
    "xtrain.City.nunique()"
   ]
  },
  {
   "cell_type": "markdown",
   "id": "81d82321",
   "metadata": {},
   "source": [
    "# outlier treatment in train data "
   ]
  },
  {
   "cell_type": "code",
   "execution_count": 45,
   "id": "b2174966",
   "metadata": {},
   "outputs": [],
   "source": [
    "for i in xtrain.select_dtypes(include=np.number):\n",
    "    q1=xtrain[i].quantile(0.25)\n",
    "    q3=xtrain[i].quantile(0.75)\n",
    "    iqr= q3-q1\n",
    "    u=q3+1.5*(iqr)\n",
    "    l=q1-1.5*(iqr)\n",
    "    xtrain[i]=xtrain[i].clip(lower=l,upper=u)"
   ]
  },
  {
   "cell_type": "markdown",
   "id": "161fdc7b",
   "metadata": {},
   "source": [
    "# Encoding "
   ]
  },
  {
   "cell_type": "code",
   "execution_count": 46,
   "id": "4ef0913a",
   "metadata": {},
   "outputs": [
    {
     "data": {
      "text/plain": [
       "array(['No', 'Yes', nan], dtype=object)"
      ]
     },
     "execution_count": 46,
     "metadata": {},
     "output_type": "execute_result"
    }
   ],
   "source": [
    "xtrain.Parking_Space.unique()"
   ]
  },
  {
   "cell_type": "code",
   "execution_count": 47,
   "id": "1092a29d",
   "metadata": {},
   "outputs": [],
   "source": [
    "xtest.Parking_Space=xtest.Parking_Space.apply(lambda x:1 if x==\"Yes\" else 0)\n",
    "xtrain.Parking_Space=xtrain.Parking_Space.apply(lambda x:1 if x==\"Yes\" else 0)\n",
    "\n",
    "\n",
    "\n"
   ]
  },
  {
   "cell_type": "code",
   "execution_count": 48,
   "id": "ea346b24",
   "metadata": {},
   "outputs": [],
   "source": [
    "xtest.Security=xtest.Security.apply(lambda x:1 if x==\"Yes\" else 0)\n",
    "xtrain.Security=xtrain.Security.apply(lambda x:1 if x==\"Yes\" else 0)\n"
   ]
  },
  {
   "cell_type": "markdown",
   "id": "7f16b778",
   "metadata": {},
   "source": [
    "# Convert locality into int "
   ]
  },
  {
   "cell_type": "code",
   "execution_count": 49,
   "id": "a1a8928c",
   "metadata": {},
   "outputs": [
    {
     "name": "stderr",
     "output_type": "stream",
     "text": [
      "d:\\Back End Development\\Machine Learning\\.venv\\Lib\\site-packages\\pandas\\core\\dtypes\\common.py:1645: DeprecationWarning: Converting `np.inexact` or `np.floating` to a dtype is deprecated. The current result is `float64` which is not strictly correct.\n",
      "  npdtype = np.dtype(dtype)\n"
     ]
    }
   ],
   "source": [
    "xtrain.Locality=xtrain.Locality.astype(np.number)"
   ]
  },
  {
   "cell_type": "code",
   "execution_count": 50,
   "id": "36b28eeb",
   "metadata": {},
   "outputs": [
    {
     "data": {
      "text/plain": [
       "array(['Under_Construction', 'Ready_to_Move'], dtype=object)"
      ]
     },
     "execution_count": 50,
     "metadata": {},
     "output_type": "execute_result"
    }
   ],
   "source": [
    "xtrain.Availability_Status.unique()"
   ]
  },
  {
   "cell_type": "code",
   "execution_count": 51,
   "id": "9685f066",
   "metadata": {},
   "outputs": [],
   "source": [
    "import warnings\n",
    "warnings.filterwarnings(\"ignore\")"
   ]
  },
  {
   "cell_type": "code",
   "execution_count": 52,
   "id": "4e17f55f",
   "metadata": {},
   "outputs": [],
   "source": [
    "xtrain.Availability_Status=xtrain.Availability_Status.apply(lambda x:1 if x== \"Ready_to_Move\" else 0  )\n",
    "xtest.Availability_Status=xtest.Availability_Status.apply(lambda x:1 if x==\"Ready_to_Move\" else 0  )"
   ]
  },
  {
   "cell_type": "code",
   "execution_count": 53,
   "id": "f06d469a",
   "metadata": {},
   "outputs": [],
   "source": [
    "xtrain.Public_Transport_Accessibility=xtrain.Public_Transport_Accessibility.apply(lambda x:3 if x==\"High\" else 2 if x==\"Medium\" else 1  )\n",
    "xtest.Public_Transport_Accessibility=xtest.Public_Transport_Accessibility.apply(lambda x:3 if x==\"High\" else 2 if x==\"Medium\" else 1 )"
   ]
  },
  {
   "cell_type": "code",
   "execution_count": 54,
   "id": "ed46adbd",
   "metadata": {},
   "outputs": [
    {
     "name": "stdout",
     "output_type": "stream",
     "text": [
      "<class 'pandas.core.frame.DataFrame'>\n",
      "Index: 198772 entries, 231003 to 202441\n",
      "Data columns (total 21 columns):\n",
      " #   Column                          Non-Null Count   Dtype  \n",
      "---  ------                          --------------   -----  \n",
      " 0   State                           198772 non-null  object \n",
      " 1   City                            198772 non-null  object \n",
      " 2   Locality                        198772 non-null  float64\n",
      " 3   Property_Type                   198772 non-null  object \n",
      " 4   BHK                             198772 non-null  float64\n",
      " 5   Size_in_SqFt                    198772 non-null  float64\n",
      " 6   Price_per_SqFt                  198696 non-null  float64\n",
      " 7   Year_Built                      198677 non-null  float64\n",
      " 8   Furnished_Status                198772 non-null  object \n",
      " 9   Floor_No                        198772 non-null  float64\n",
      " 10  Total_Floors                    198677 non-null  float64\n",
      " 11  Age_of_Property                 198772 non-null  float64\n",
      " 12  Nearby_Schools                  198676 non-null  float64\n",
      " 13  Nearby_Hospitals                198675 non-null  float64\n",
      " 14  Public_Transport_Accessibility  198772 non-null  int64  \n",
      " 15  Parking_Space                   198772 non-null  int64  \n",
      " 16  Security                        198772 non-null  int64  \n",
      " 17  Amenities                       198691 non-null  object \n",
      " 18  Facing                          198706 non-null  object \n",
      " 19  Owner_Type                      198772 non-null  object \n",
      " 20  Availability_Status             198772 non-null  int64  \n",
      "dtypes: float64(10), int64(4), object(7)\n",
      "memory usage: 33.4+ MB\n"
     ]
    }
   ],
   "source": [
    "xtrain.info()"
   ]
  },
  {
   "cell_type": "code",
   "execution_count": 55,
   "id": "9e0d26ad",
   "metadata": {},
   "outputs": [
    {
     "data": {
      "text/plain": [
       "array(['Unfurnished', 'Semi-furnished', 'Furnished'], dtype=object)"
      ]
     },
     "execution_count": 55,
     "metadata": {},
     "output_type": "execute_result"
    }
   ],
   "source": [
    "xtrain.Furnished_Status.unique() "
   ]
  },
  {
   "cell_type": "code",
   "execution_count": 56,
   "id": "8e1db26c",
   "metadata": {},
   "outputs": [],
   "source": [
    "xtrain.Furnished_Status=xtrain.Furnished_Status.apply(lambda x:3 if x==\"Furnished\" else 2 if x==\"Semi-furnished\" else 1)"
   ]
  },
  {
   "cell_type": "code",
   "execution_count": 57,
   "id": "d31f49af",
   "metadata": {},
   "outputs": [],
   "source": [
    "xtest.Furnished_Status=xtest.Furnished_Status.apply(lambda x:3 if x==\"Furnished\" else 2 if x==\"Semi-furnished\" else 1)"
   ]
  },
  {
   "cell_type": "code",
   "execution_count": 58,
   "id": "91bb40e3",
   "metadata": {},
   "outputs": [
    {
     "data": {
      "text/plain": [
       "array([2, 1, 3])"
      ]
     },
     "execution_count": 58,
     "metadata": {},
     "output_type": "execute_result"
    }
   ],
   "source": [
    "xtrain.Furnished_Status.unique() # cross checking categories are updated or not \n",
    "xtest.Furnished_Status.unique()"
   ]
  },
  {
   "cell_type": "code",
   "execution_count": 59,
   "id": "7a5bdf31",
   "metadata": {},
   "outputs": [
    {
     "data": {
      "text/plain": [
       "array(['East', 'North', 'West', 'South', nan], dtype=object)"
      ]
     },
     "execution_count": 59,
     "metadata": {},
     "output_type": "execute_result"
    }
   ],
   "source": [
    "xtrain.Facing.unique()"
   ]
  },
  {
   "cell_type": "code",
   "execution_count": 60,
   "id": "4f441f29",
   "metadata": {},
   "outputs": [],
   "source": [
    "g1=pd.concat([xtrain.Facing,ytrain],axis=1).groupby(\"Facing\")[\"Price_in_Lakhs\"].mean()"
   ]
  },
  {
   "cell_type": "code",
   "execution_count": 61,
   "id": "0f49818a",
   "metadata": {},
   "outputs": [],
   "source": [
    "xtrain.Facing=xtrain.Facing.map(g1)"
   ]
  },
  {
   "cell_type": "code",
   "execution_count": 62,
   "id": "040c3b54",
   "metadata": {},
   "outputs": [],
   "source": [
    "xtest.Facing=xtest.Facing.map(g1).fillna(np.mean(ytrain))"
   ]
  },
  {
   "cell_type": "code",
   "execution_count": 63,
   "id": "8c78a6f9",
   "metadata": {},
   "outputs": [
    {
     "data": {
      "text/plain": [
       "array(['Broker', 'Owner', 'Builder'], dtype=object)"
      ]
     },
     "execution_count": 63,
     "metadata": {},
     "output_type": "execute_result"
    }
   ],
   "source": [
    "xtrain.Owner_Type.unique()"
   ]
  },
  {
   "cell_type": "code",
   "execution_count": 64,
   "id": "2965b815",
   "metadata": {},
   "outputs": [
    {
     "name": "stderr",
     "output_type": "stream",
     "text": [
      "d:\\Back End Development\\Machine Learning\\.venv\\Lib\\site-packages\\pandas\\core\\dtypes\\common.py:1645: DeprecationWarning: Converting `np.inexact` or `np.floating` to a dtype is deprecated. The current result is `float64` which is not strictly correct.\n",
      "  npdtype = np.dtype(dtype)\n"
     ]
    }
   ],
   "source": [
    "v= pd.get_dummies(xtrain.Owner_Type)\n",
    "v=v.astype(np.number)"
   ]
  },
  {
   "cell_type": "markdown",
   "id": "f12eb7cd-63b3-410f-af6d-b85ae4d7633b",
   "metadata": {},
   "source": []
  },
  {
   "cell_type": "code",
   "execution_count": 65,
   "id": "1b576aca",
   "metadata": {},
   "outputs": [],
   "source": [
    "xtrain=pd.concat([xtrain,v],axis=1)"
   ]
  },
  {
   "cell_type": "code",
   "execution_count": 66,
   "id": "b79bc87a",
   "metadata": {},
   "outputs": [
    {
     "data": {
      "text/plain": [
       "(198772, 24)"
      ]
     },
     "execution_count": 66,
     "metadata": {},
     "output_type": "execute_result"
    }
   ],
   "source": [
    "xtrain.shape"
   ]
  },
  {
   "cell_type": "code",
   "execution_count": null,
   "id": "97f13c44",
   "metadata": {},
   "outputs": [],
   "source": []
  },
  {
   "cell_type": "code",
   "execution_count": 67,
   "id": "c60bfe4b",
   "metadata": {},
   "outputs": [
    {
     "name": "stderr",
     "output_type": "stream",
     "text": [
      "d:\\Back End Development\\Machine Learning\\.venv\\Lib\\site-packages\\pandas\\core\\dtypes\\common.py:1645: DeprecationWarning: Converting `np.inexact` or `np.floating` to a dtype is deprecated. The current result is `float64` which is not strictly correct.\n",
      "  npdtype = np.dtype(dtype)\n"
     ]
    }
   ],
   "source": [
    "b= pd.get_dummies(xtest.Owner_Type)\n",
    "b=b.astype(np.number)"
   ]
  },
  {
   "cell_type": "code",
   "execution_count": 68,
   "id": "ffd20192",
   "metadata": {},
   "outputs": [],
   "source": [
    "xtest=pd.concat([xtest,b],axis=1)"
   ]
  },
  {
   "cell_type": "code",
   "execution_count": 69,
   "id": "7bae1acc",
   "metadata": {},
   "outputs": [
    {
     "data": {
      "text/plain": [
       "(49693, 24)"
      ]
     },
     "execution_count": 69,
     "metadata": {},
     "output_type": "execute_result"
    }
   ],
   "source": [
    "xtest.shape"
   ]
  },
  {
   "cell_type": "code",
   "execution_count": 70,
   "id": "2ef50cba",
   "metadata": {},
   "outputs": [],
   "source": [
    "xtrain.drop(\"Owner_Type\",axis=1,inplace=True)"
   ]
  },
  {
   "cell_type": "code",
   "execution_count": 71,
   "id": "c4631cce",
   "metadata": {},
   "outputs": [],
   "source": [
    "xtest.drop(\"Owner_Type\",axis=1,inplace=True)"
   ]
  },
  {
   "cell_type": "code",
   "execution_count": 72,
   "id": "521ab37f",
   "metadata": {},
   "outputs": [
    {
     "name": "stdout",
     "output_type": "stream",
     "text": [
      "(198772, 23) (49693, 23)\n"
     ]
    }
   ],
   "source": [
    "print(xtrain.shape,xtest.shape)"
   ]
  },
  {
   "cell_type": "markdown",
   "id": "4874a9be",
   "metadata": {},
   "source": [
    "# Encoding for State"
   ]
  },
  {
   "cell_type": "code",
   "execution_count": 73,
   "id": "88c7bc74",
   "metadata": {},
   "outputs": [],
   "source": [
    "state=pd.concat([xtrain.State,ytrain],axis=1).groupby(\"State\")[\"Price_in_Lakhs\"].mean()"
   ]
  },
  {
   "cell_type": "code",
   "execution_count": 74,
   "id": "f3db84d8",
   "metadata": {},
   "outputs": [],
   "source": [
    "xtrain.State=xtrain.State.map(state)"
   ]
  },
  {
   "cell_type": "code",
   "execution_count": 75,
   "id": "d4a7d704",
   "metadata": {},
   "outputs": [],
   "source": [
    "xtest.State=xtest.State.map(state).fillna(np.mean(ytrain))"
   ]
  },
  {
   "cell_type": "code",
   "execution_count": 76,
   "id": "9cc8ccb0",
   "metadata": {},
   "outputs": [
    {
     "data": {
      "text/html": [
       "<div>\n",
       "<style scoped>\n",
       "    .dataframe tbody tr th:only-of-type {\n",
       "        vertical-align: middle;\n",
       "    }\n",
       "\n",
       "    .dataframe tbody tr th {\n",
       "        vertical-align: top;\n",
       "    }\n",
       "\n",
       "    .dataframe thead th {\n",
       "        text-align: right;\n",
       "    }\n",
       "</style>\n",
       "<table border=\"1\" class=\"dataframe\">\n",
       "  <thead>\n",
       "    <tr style=\"text-align: right;\">\n",
       "      <th></th>\n",
       "      <th>State</th>\n",
       "      <th>City</th>\n",
       "      <th>Locality</th>\n",
       "      <th>Property_Type</th>\n",
       "      <th>BHK</th>\n",
       "      <th>Size_in_SqFt</th>\n",
       "      <th>Price_per_SqFt</th>\n",
       "      <th>Year_Built</th>\n",
       "      <th>Furnished_Status</th>\n",
       "      <th>Floor_No</th>\n",
       "      <th>Total_Floors</th>\n",
       "      <th>Age_of_Property</th>\n",
       "      <th>Nearby_Schools</th>\n",
       "      <th>Nearby_Hospitals</th>\n",
       "      <th>Public_Transport_Accessibility</th>\n",
       "      <th>Parking_Space</th>\n",
       "      <th>Security</th>\n",
       "      <th>Amenities</th>\n",
       "      <th>Facing</th>\n",
       "      <th>Availability_Status</th>\n",
       "      <th>Broker</th>\n",
       "      <th>Builder</th>\n",
       "      <th>Owner</th>\n",
       "    </tr>\n",
       "  </thead>\n",
       "  <tbody>\n",
       "    <tr>\n",
       "      <th>96470</th>\n",
       "      <td>252.496326</td>\n",
       "      <td>Raipur</td>\n",
       "      <td>156</td>\n",
       "      <td>Apartment</td>\n",
       "      <td>3.0</td>\n",
       "      <td>4177.0</td>\n",
       "      <td>0.02</td>\n",
       "      <td>1995.0</td>\n",
       "      <td>2</td>\n",
       "      <td>3.0</td>\n",
       "      <td>22.0</td>\n",
       "      <td>30.0</td>\n",
       "      <td>5.0</td>\n",
       "      <td>1.0</td>\n",
       "      <td>2</td>\n",
       "      <td>1</td>\n",
       "      <td>0</td>\n",
       "      <td>Gym, Garden, Pool, Playground</td>\n",
       "      <td>255.04072</td>\n",
       "      <td>0</td>\n",
       "      <td>1.0</td>\n",
       "      <td>0.0</td>\n",
       "      <td>0.0</td>\n",
       "    </tr>\n",
       "  </tbody>\n",
       "</table>\n",
       "</div>"
      ],
      "text/plain": [
       "            State    City Locality Property_Type  BHK  Size_in_SqFt  \\\n",
       "96470  252.496326  Raipur      156     Apartment  3.0        4177.0   \n",
       "\n",
       "       Price_per_SqFt  Year_Built  Furnished_Status  Floor_No  Total_Floors  \\\n",
       "96470            0.02      1995.0                 2       3.0          22.0   \n",
       "\n",
       "       Age_of_Property  Nearby_Schools  Nearby_Hospitals  \\\n",
       "96470             30.0             5.0               1.0   \n",
       "\n",
       "       Public_Transport_Accessibility  Parking_Space  Security  \\\n",
       "96470                               2              1         0   \n",
       "\n",
       "                           Amenities     Facing  Availability_Status  Broker  \\\n",
       "96470  Gym, Garden, Pool, Playground  255.04072                    0     1.0   \n",
       "\n",
       "       Builder  Owner  \n",
       "96470      0.0    0.0  "
      ]
     },
     "execution_count": 76,
     "metadata": {},
     "output_type": "execute_result"
    }
   ],
   "source": [
    "xtrain.head(1)\n",
    "xtest.head(1)\n"
   ]
  },
  {
   "cell_type": "markdown",
   "id": "1c278f96",
   "metadata": {},
   "source": [
    "# encoding for city "
   ]
  },
  {
   "cell_type": "code",
   "execution_count": 77,
   "id": "521a43e8",
   "metadata": {},
   "outputs": [],
   "source": [
    "train_tar_city2=pd.concat([xtrain.City,ytrain],axis=1).groupby(\"City\")[\"Price_in_Lakhs\"].mean()\n",
    "\n",
    "xtrain.City=xtrain.City.map(train_tar_city2)\n",
    "\n",
    "xtest.City=xtest.City.map(train_tar_city2).fillna(np.mean(ytrain))"
   ]
  },
  {
   "cell_type": "markdown",
   "id": "aa8eb3e4",
   "metadata": {},
   "source": [
    "# encoding property type "
   ]
  },
  {
   "cell_type": "code",
   "execution_count": 78,
   "id": "0855c547",
   "metadata": {},
   "outputs": [],
   "source": [
    "property_type=pd.concat([xtrain.Property_Type,ytrain],axis=1).groupby(\"Property_Type\")[\"Price_in_Lakhs\"].mean()\n",
    "\n",
    "xtrain.Property_Type=xtrain.Property_Type.map(property_type)\n",
    "\n",
    "xtest.Property_Type=xtest.Property_Type.map(property_type).fillna(np.mean(ytrain))"
   ]
  },
  {
   "cell_type": "markdown",
   "id": "c0e38bf1",
   "metadata": {},
   "source": [
    "# Encoding for amineties "
   ]
  },
  {
   "cell_type": "code",
   "execution_count": 79,
   "id": "2e3f5701",
   "metadata": {},
   "outputs": [],
   "source": [
    "train_tar_Amenities=pd.concat([xtrain.Amenities,ytrain],axis=1).groupby(\"Amenities\")[\"Price_in_Lakhs\"].mean()\n",
    "\n",
    "xtrain.Amenities=xtrain.Amenities.map(train_tar_Amenities)\n",
    "\n",
    "xtest.Amenities=xtest.Amenities.map(train_tar_Amenities).fillna(np.mean(ytrain))"
   ]
  },
  {
   "cell_type": "code",
   "execution_count": 80,
   "id": "1e30d1df",
   "metadata": {},
   "outputs": [
    {
     "name": "stdout",
     "output_type": "stream",
     "text": [
      "<class 'pandas.core.frame.DataFrame'>\n",
      "Index: 198772 entries, 231003 to 202441\n",
      "Data columns (total 23 columns):\n",
      " #   Column                          Non-Null Count   Dtype  \n",
      "---  ------                          --------------   -----  \n",
      " 0   State                           198772 non-null  float64\n",
      " 1   City                            198772 non-null  float64\n",
      " 2   Locality                        198772 non-null  float64\n",
      " 3   Property_Type                   198772 non-null  float64\n",
      " 4   BHK                             198772 non-null  float64\n",
      " 5   Size_in_SqFt                    198772 non-null  float64\n",
      " 6   Price_per_SqFt                  198696 non-null  float64\n",
      " 7   Year_Built                      198677 non-null  float64\n",
      " 8   Furnished_Status                198772 non-null  int64  \n",
      " 9   Floor_No                        198772 non-null  float64\n",
      " 10  Total_Floors                    198677 non-null  float64\n",
      " 11  Age_of_Property                 198772 non-null  float64\n",
      " 12  Nearby_Schools                  198676 non-null  float64\n",
      " 13  Nearby_Hospitals                198675 non-null  float64\n",
      " 14  Public_Transport_Accessibility  198772 non-null  int64  \n",
      " 15  Parking_Space                   198772 non-null  int64  \n",
      " 16  Security                        198772 non-null  int64  \n",
      " 17  Amenities                       198691 non-null  float64\n",
      " 18  Facing                          198706 non-null  float64\n",
      " 19  Availability_Status             198772 non-null  int64  \n",
      " 20  Broker                          198772 non-null  float64\n",
      " 21  Builder                         198772 non-null  float64\n",
      " 22  Owner                           198772 non-null  float64\n",
      "dtypes: float64(18), int64(5)\n",
      "memory usage: 36.4 MB\n"
     ]
    }
   ],
   "source": [
    "xtrain.info()"
   ]
  },
  {
   "cell_type": "code",
   "execution_count": 81,
   "id": "40542f5f",
   "metadata": {},
   "outputs": [
    {
     "name": "stdout",
     "output_type": "stream",
     "text": [
      "<class 'pandas.core.frame.DataFrame'>\n",
      "Index: 49693 entries, 96470 to 18327\n",
      "Data columns (total 23 columns):\n",
      " #   Column                          Non-Null Count  Dtype  \n",
      "---  ------                          --------------  -----  \n",
      " 0   State                           49693 non-null  float64\n",
      " 1   City                            49693 non-null  float64\n",
      " 2   Locality                        49693 non-null  object \n",
      " 3   Property_Type                   49693 non-null  float64\n",
      " 4   BHK                             49693 non-null  float64\n",
      " 5   Size_in_SqFt                    49693 non-null  float64\n",
      " 6   Price_per_SqFt                  49672 non-null  float64\n",
      " 7   Year_Built                      49662 non-null  float64\n",
      " 8   Furnished_Status                49693 non-null  int64  \n",
      " 9   Floor_No                        49693 non-null  float64\n",
      " 10  Total_Floors                    49662 non-null  float64\n",
      " 11  Age_of_Property                 49693 non-null  float64\n",
      " 12  Nearby_Schools                  49662 non-null  float64\n",
      " 13  Nearby_Hospitals                49662 non-null  float64\n",
      " 14  Public_Transport_Accessibility  49693 non-null  int64  \n",
      " 15  Parking_Space                   49693 non-null  int64  \n",
      " 16  Security                        49693 non-null  int64  \n",
      " 17  Amenities                       49693 non-null  float64\n",
      " 18  Facing                          49693 non-null  float64\n",
      " 19  Availability_Status             49693 non-null  int64  \n",
      " 20  Broker                          49693 non-null  float64\n",
      " 21  Builder                         49693 non-null  float64\n",
      " 22  Owner                           49693 non-null  float64\n",
      "dtypes: float64(17), int64(5), object(1)\n",
      "memory usage: 9.1+ MB\n"
     ]
    }
   ],
   "source": [
    "xtest.info()"
   ]
  },
  {
   "cell_type": "code",
   "execution_count": 82,
   "id": "3692aa22",
   "metadata": {},
   "outputs": [
    {
     "name": "stderr",
     "output_type": "stream",
     "text": [
      "d:\\Back End Development\\Machine Learning\\.venv\\Lib\\site-packages\\pandas\\core\\dtypes\\common.py:1645: DeprecationWarning: Converting `np.inexact` or `np.floating` to a dtype is deprecated. The current result is `float64` which is not strictly correct.\n",
      "  npdtype = np.dtype(dtype)\n"
     ]
    }
   ],
   "source": [
    "xtest.Locality=xtest.Locality.astype(np.number)\n",
    "\n"
   ]
  },
  {
   "cell_type": "code",
   "execution_count": 83,
   "id": "ae6bf735",
   "metadata": {},
   "outputs": [
    {
     "name": "stdout",
     "output_type": "stream",
     "text": [
      "<class 'pandas.core.frame.DataFrame'>\n",
      "Index: 49693 entries, 96470 to 18327\n",
      "Data columns (total 23 columns):\n",
      " #   Column                          Non-Null Count  Dtype  \n",
      "---  ------                          --------------  -----  \n",
      " 0   State                           49693 non-null  float64\n",
      " 1   City                            49693 non-null  float64\n",
      " 2   Locality                        49693 non-null  float64\n",
      " 3   Property_Type                   49693 non-null  float64\n",
      " 4   BHK                             49693 non-null  float64\n",
      " 5   Size_in_SqFt                    49693 non-null  float64\n",
      " 6   Price_per_SqFt                  49672 non-null  float64\n",
      " 7   Year_Built                      49662 non-null  float64\n",
      " 8   Furnished_Status                49693 non-null  int64  \n",
      " 9   Floor_No                        49693 non-null  float64\n",
      " 10  Total_Floors                    49662 non-null  float64\n",
      " 11  Age_of_Property                 49693 non-null  float64\n",
      " 12  Nearby_Schools                  49662 non-null  float64\n",
      " 13  Nearby_Hospitals                49662 non-null  float64\n",
      " 14  Public_Transport_Accessibility  49693 non-null  int64  \n",
      " 15  Parking_Space                   49693 non-null  int64  \n",
      " 16  Security                        49693 non-null  int64  \n",
      " 17  Amenities                       49693 non-null  float64\n",
      " 18  Facing                          49693 non-null  float64\n",
      " 19  Availability_Status             49693 non-null  int64  \n",
      " 20  Broker                          49693 non-null  float64\n",
      " 21  Builder                         49693 non-null  float64\n",
      " 22  Owner                           49693 non-null  float64\n",
      "dtypes: float64(18), int64(5)\n",
      "memory usage: 9.1 MB\n"
     ]
    }
   ],
   "source": [
    "xtest.info()"
   ]
  },
  {
   "cell_type": "code",
   "execution_count": 84,
   "id": "86d59858",
   "metadata": {},
   "outputs": [
    {
     "data": {
      "text/html": [
       "<div>\n",
       "<style scoped>\n",
       "    .dataframe tbody tr th:only-of-type {\n",
       "        vertical-align: middle;\n",
       "    }\n",
       "\n",
       "    .dataframe tbody tr th {\n",
       "        vertical-align: top;\n",
       "    }\n",
       "\n",
       "    .dataframe thead th {\n",
       "        text-align: right;\n",
       "    }\n",
       "</style>\n",
       "<table border=\"1\" class=\"dataframe\">\n",
       "  <thead>\n",
       "    <tr style=\"text-align: right;\">\n",
       "      <th></th>\n",
       "      <th>State</th>\n",
       "      <th>City</th>\n",
       "      <th>Locality</th>\n",
       "      <th>Property_Type</th>\n",
       "      <th>BHK</th>\n",
       "      <th>Size_in_SqFt</th>\n",
       "      <th>Price_per_SqFt</th>\n",
       "      <th>Year_Built</th>\n",
       "      <th>Furnished_Status</th>\n",
       "      <th>Floor_No</th>\n",
       "      <th>Total_Floors</th>\n",
       "      <th>Age_of_Property</th>\n",
       "      <th>Nearby_Schools</th>\n",
       "      <th>Nearby_Hospitals</th>\n",
       "      <th>Public_Transport_Accessibility</th>\n",
       "      <th>Parking_Space</th>\n",
       "      <th>Security</th>\n",
       "      <th>Amenities</th>\n",
       "      <th>Facing</th>\n",
       "      <th>Availability_Status</th>\n",
       "      <th>Broker</th>\n",
       "      <th>Builder</th>\n",
       "      <th>Owner</th>\n",
       "    </tr>\n",
       "  </thead>\n",
       "  <tbody>\n",
       "    <tr>\n",
       "      <th>231003</th>\n",
       "      <td>255.921702</td>\n",
       "      <td>255.86086</td>\n",
       "      <td>94.0</td>\n",
       "      <td>253.881195</td>\n",
       "      <td>5.0</td>\n",
       "      <td>1254.0</td>\n",
       "      <td>0.325</td>\n",
       "      <td>1994.0</td>\n",
       "      <td>1</td>\n",
       "      <td>20.0</td>\n",
       "      <td>18.0</td>\n",
       "      <td>31.0</td>\n",
       "      <td>6.0</td>\n",
       "      <td>1.0</td>\n",
       "      <td>1</td>\n",
       "      <td>0</td>\n",
       "      <td>1</td>\n",
       "      <td>281.35617</td>\n",
       "      <td>254.069543</td>\n",
       "      <td>0</td>\n",
       "      <td>1.0</td>\n",
       "      <td>0.0</td>\n",
       "      <td>0.0</td>\n",
       "    </tr>\n",
       "  </tbody>\n",
       "</table>\n",
       "</div>"
      ],
      "text/plain": [
       "             State       City  Locality  Property_Type  BHK  Size_in_SqFt  \\\n",
       "231003  255.921702  255.86086      94.0     253.881195  5.0        1254.0   \n",
       "\n",
       "        Price_per_SqFt  Year_Built  Furnished_Status  Floor_No  Total_Floors  \\\n",
       "231003           0.325      1994.0                 1      20.0          18.0   \n",
       "\n",
       "        Age_of_Property  Nearby_Schools  Nearby_Hospitals  \\\n",
       "231003             31.0             6.0               1.0   \n",
       "\n",
       "        Public_Transport_Accessibility  Parking_Space  Security  Amenities  \\\n",
       "231003                               1              0         1  281.35617   \n",
       "\n",
       "            Facing  Availability_Status  Broker  Builder  Owner  \n",
       "231003  254.069543                    0     1.0      0.0    0.0  "
      ]
     },
     "execution_count": 84,
     "metadata": {},
     "output_type": "execute_result"
    }
   ],
   "source": [
    "xtrain.head(1)"
   ]
  },
  {
   "cell_type": "markdown",
   "id": "5690cc27",
   "metadata": {},
   "source": [
    "l=[\"Broker\" ,\"Builder\",\"Owner\"]"
   ]
  },
  {
   "cell_type": "markdown",
   "id": "f9d50437",
   "metadata": {},
   "source": [
    "for i in l:\n",
    "    xtrain[i]=xtrain[i].astype(np.number)\n",
    "    xtest[i]=xtest[i].astype(np.number)\n",
    "    "
   ]
  },
  {
   "cell_type": "code",
   "execution_count": 85,
   "id": "30e37f0e",
   "metadata": {},
   "outputs": [],
   "source": [
    "import statsmodels.api as sm\n",
    "import statsmodels.stats.api as sms\n",
    "from statsmodels.stats.outliers_influence import variance_inflation_factor as vif\n"
   ]
  },
  {
   "cell_type": "code",
   "execution_count": 86,
   "id": "4f5d0837",
   "metadata": {},
   "outputs": [],
   "source": [
    "xtrain_c=sm.add_constant(xtrain)"
   ]
  },
  {
   "cell_type": "code",
   "execution_count": 87,
   "id": "08099515",
   "metadata": {},
   "outputs": [],
   "source": [
    "xtest_c=sm.add_constant(xtest)"
   ]
  },
  {
   "cell_type": "code",
   "execution_count": 88,
   "id": "f9ee0e94",
   "metadata": {},
   "outputs": [
    {
     "data": {
      "text/plain": [
       "231003    1.0\n",
       "101840    0.0\n",
       "140533    1.0\n",
       "34899     0.0\n",
       "198211    1.0\n",
       "         ... \n",
       "56300     0.0\n",
       "179233    0.0\n",
       "41911     1.0\n",
       "115983    1.0\n",
       "202441    0.0\n",
       "Name: Broker, Length: 198772, dtype: float64"
      ]
     },
     "execution_count": 88,
     "metadata": {},
     "output_type": "execute_result"
    }
   ],
   "source": [
    "xtrain_c.Broker"
   ]
  },
  {
   "cell_type": "code",
   "execution_count": 89,
   "id": "fa894baa-e37f-43c8-9b86-76c459061a32",
   "metadata": {},
   "outputs": [
    {
     "ename": "MissingDataError",
     "evalue": "exog contains inf or nans",
     "output_type": "error",
     "traceback": [
      "\u001b[31m---------------------------------------------------------------------------\u001b[39m",
      "\u001b[31mMissingDataError\u001b[39m                          Traceback (most recent call last)",
      "\u001b[36mCell\u001b[39m\u001b[36m \u001b[39m\u001b[32mIn[89]\u001b[39m\u001b[32m, line 1\u001b[39m\n\u001b[32m----> \u001b[39m\u001b[32m1\u001b[39m model1=\u001b[43msm\u001b[49m\u001b[43m.\u001b[49m\u001b[43mOLS\u001b[49m\u001b[43m(\u001b[49m\u001b[43mytrain\u001b[49m\u001b[43m,\u001b[49m\u001b[43mxtrain_c\u001b[49m\u001b[43m)\u001b[49m.fit()\n",
      "\u001b[36mFile \u001b[39m\u001b[32md:\\Back End Development\\Machine Learning\\.venv\\Lib\\site-packages\\statsmodels\\regression\\linear_model.py:921\u001b[39m, in \u001b[36mOLS.__init__\u001b[39m\u001b[34m(self, endog, exog, missing, hasconst, **kwargs)\u001b[39m\n\u001b[32m    918\u001b[39m     msg = (\u001b[33m\"\u001b[39m\u001b[33mWeights are not supported in OLS and will be ignored\u001b[39m\u001b[33m\"\u001b[39m\n\u001b[32m    919\u001b[39m            \u001b[33m\"\u001b[39m\u001b[33mAn exception will be raised in the next version.\u001b[39m\u001b[33m\"\u001b[39m)\n\u001b[32m    920\u001b[39m     warnings.warn(msg, ValueWarning)\n\u001b[32m--> \u001b[39m\u001b[32m921\u001b[39m \u001b[38;5;28;43msuper\u001b[39;49m\u001b[43m(\u001b[49m\u001b[43m)\u001b[49m\u001b[43m.\u001b[49m\u001b[34;43m__init__\u001b[39;49m\u001b[43m(\u001b[49m\u001b[43mendog\u001b[49m\u001b[43m,\u001b[49m\u001b[43m \u001b[49m\u001b[43mexog\u001b[49m\u001b[43m,\u001b[49m\u001b[43m \u001b[49m\u001b[43mmissing\u001b[49m\u001b[43m=\u001b[49m\u001b[43mmissing\u001b[49m\u001b[43m,\u001b[49m\n\u001b[32m    922\u001b[39m \u001b[43m                          \u001b[49m\u001b[43mhasconst\u001b[49m\u001b[43m=\u001b[49m\u001b[43mhasconst\u001b[49m\u001b[43m,\u001b[49m\u001b[43m \u001b[49m\u001b[43m*\u001b[49m\u001b[43m*\u001b[49m\u001b[43mkwargs\u001b[49m\u001b[43m)\u001b[49m\n\u001b[32m    923\u001b[39m \u001b[38;5;28;01mif\u001b[39;00m \u001b[33m\"\u001b[39m\u001b[33mweights\u001b[39m\u001b[33m\"\u001b[39m \u001b[38;5;129;01min\u001b[39;00m \u001b[38;5;28mself\u001b[39m._init_keys:\n\u001b[32m    924\u001b[39m     \u001b[38;5;28mself\u001b[39m._init_keys.remove(\u001b[33m\"\u001b[39m\u001b[33mweights\u001b[39m\u001b[33m\"\u001b[39m)\n",
      "\u001b[36mFile \u001b[39m\u001b[32md:\\Back End Development\\Machine Learning\\.venv\\Lib\\site-packages\\statsmodels\\regression\\linear_model.py:746\u001b[39m, in \u001b[36mWLS.__init__\u001b[39m\u001b[34m(self, endog, exog, weights, missing, hasconst, **kwargs)\u001b[39m\n\u001b[32m    744\u001b[39m \u001b[38;5;28;01melse\u001b[39;00m:\n\u001b[32m    745\u001b[39m     weights = weights.squeeze()\n\u001b[32m--> \u001b[39m\u001b[32m746\u001b[39m \u001b[38;5;28;43msuper\u001b[39;49m\u001b[43m(\u001b[49m\u001b[43m)\u001b[49m\u001b[43m.\u001b[49m\u001b[34;43m__init__\u001b[39;49m\u001b[43m(\u001b[49m\u001b[43mendog\u001b[49m\u001b[43m,\u001b[49m\u001b[43m \u001b[49m\u001b[43mexog\u001b[49m\u001b[43m,\u001b[49m\u001b[43m \u001b[49m\u001b[43mmissing\u001b[49m\u001b[43m=\u001b[49m\u001b[43mmissing\u001b[49m\u001b[43m,\u001b[49m\n\u001b[32m    747\u001b[39m \u001b[43m                          \u001b[49m\u001b[43mweights\u001b[49m\u001b[43m=\u001b[49m\u001b[43mweights\u001b[49m\u001b[43m,\u001b[49m\u001b[43m \u001b[49m\u001b[43mhasconst\u001b[49m\u001b[43m=\u001b[49m\u001b[43mhasconst\u001b[49m\u001b[43m,\u001b[49m\u001b[43m \u001b[49m\u001b[43m*\u001b[49m\u001b[43m*\u001b[49m\u001b[43mkwargs\u001b[49m\u001b[43m)\u001b[49m\n\u001b[32m    748\u001b[39m nobs = \u001b[38;5;28mself\u001b[39m.exog.shape[\u001b[32m0\u001b[39m]\n\u001b[32m    749\u001b[39m weights = \u001b[38;5;28mself\u001b[39m.weights\n",
      "\u001b[36mFile \u001b[39m\u001b[32md:\\Back End Development\\Machine Learning\\.venv\\Lib\\site-packages\\statsmodels\\regression\\linear_model.py:200\u001b[39m, in \u001b[36mRegressionModel.__init__\u001b[39m\u001b[34m(self, endog, exog, **kwargs)\u001b[39m\n\u001b[32m    199\u001b[39m \u001b[38;5;28;01mdef\u001b[39;00m\u001b[38;5;250m \u001b[39m\u001b[34m__init__\u001b[39m(\u001b[38;5;28mself\u001b[39m, endog, exog, **kwargs):\n\u001b[32m--> \u001b[39m\u001b[32m200\u001b[39m     \u001b[38;5;28;43msuper\u001b[39;49m\u001b[43m(\u001b[49m\u001b[43m)\u001b[49m\u001b[43m.\u001b[49m\u001b[34;43m__init__\u001b[39;49m\u001b[43m(\u001b[49m\u001b[43mendog\u001b[49m\u001b[43m,\u001b[49m\u001b[43m \u001b[49m\u001b[43mexog\u001b[49m\u001b[43m,\u001b[49m\u001b[43m \u001b[49m\u001b[43m*\u001b[49m\u001b[43m*\u001b[49m\u001b[43mkwargs\u001b[49m\u001b[43m)\u001b[49m\n\u001b[32m    201\u001b[39m     \u001b[38;5;28mself\u001b[39m.pinv_wexog: Float64Array | \u001b[38;5;28;01mNone\u001b[39;00m = \u001b[38;5;28;01mNone\u001b[39;00m\n\u001b[32m    202\u001b[39m     \u001b[38;5;28mself\u001b[39m._data_attr.extend([\u001b[33m'\u001b[39m\u001b[33mpinv_wexog\u001b[39m\u001b[33m'\u001b[39m, \u001b[33m'\u001b[39m\u001b[33mwendog\u001b[39m\u001b[33m'\u001b[39m, \u001b[33m'\u001b[39m\u001b[33mwexog\u001b[39m\u001b[33m'\u001b[39m, \u001b[33m'\u001b[39m\u001b[33mweights\u001b[39m\u001b[33m'\u001b[39m])\n",
      "\u001b[36mFile \u001b[39m\u001b[32md:\\Back End Development\\Machine Learning\\.venv\\Lib\\site-packages\\statsmodels\\base\\model.py:270\u001b[39m, in \u001b[36mLikelihoodModel.__init__\u001b[39m\u001b[34m(self, endog, exog, **kwargs)\u001b[39m\n\u001b[32m    269\u001b[39m \u001b[38;5;28;01mdef\u001b[39;00m\u001b[38;5;250m \u001b[39m\u001b[34m__init__\u001b[39m(\u001b[38;5;28mself\u001b[39m, endog, exog=\u001b[38;5;28;01mNone\u001b[39;00m, **kwargs):\n\u001b[32m--> \u001b[39m\u001b[32m270\u001b[39m     \u001b[38;5;28;43msuper\u001b[39;49m\u001b[43m(\u001b[49m\u001b[43m)\u001b[49m\u001b[43m.\u001b[49m\u001b[34;43m__init__\u001b[39;49m\u001b[43m(\u001b[49m\u001b[43mendog\u001b[49m\u001b[43m,\u001b[49m\u001b[43m \u001b[49m\u001b[43mexog\u001b[49m\u001b[43m,\u001b[49m\u001b[43m \u001b[49m\u001b[43m*\u001b[49m\u001b[43m*\u001b[49m\u001b[43mkwargs\u001b[49m\u001b[43m)\u001b[49m\n\u001b[32m    271\u001b[39m     \u001b[38;5;28mself\u001b[39m.initialize()\n",
      "\u001b[36mFile \u001b[39m\u001b[32md:\\Back End Development\\Machine Learning\\.venv\\Lib\\site-packages\\statsmodels\\base\\model.py:95\u001b[39m, in \u001b[36mModel.__init__\u001b[39m\u001b[34m(self, endog, exog, **kwargs)\u001b[39m\n\u001b[32m     93\u001b[39m missing = kwargs.pop(\u001b[33m'\u001b[39m\u001b[33mmissing\u001b[39m\u001b[33m'\u001b[39m, \u001b[33m'\u001b[39m\u001b[33mnone\u001b[39m\u001b[33m'\u001b[39m)\n\u001b[32m     94\u001b[39m hasconst = kwargs.pop(\u001b[33m'\u001b[39m\u001b[33mhasconst\u001b[39m\u001b[33m'\u001b[39m, \u001b[38;5;28;01mNone\u001b[39;00m)\n\u001b[32m---> \u001b[39m\u001b[32m95\u001b[39m \u001b[38;5;28mself\u001b[39m.data = \u001b[38;5;28;43mself\u001b[39;49m\u001b[43m.\u001b[49m\u001b[43m_handle_data\u001b[49m\u001b[43m(\u001b[49m\u001b[43mendog\u001b[49m\u001b[43m,\u001b[49m\u001b[43m \u001b[49m\u001b[43mexog\u001b[49m\u001b[43m,\u001b[49m\u001b[43m \u001b[49m\u001b[43mmissing\u001b[49m\u001b[43m,\u001b[49m\u001b[43m \u001b[49m\u001b[43mhasconst\u001b[49m\u001b[43m,\u001b[49m\n\u001b[32m     96\u001b[39m \u001b[43m                              \u001b[49m\u001b[43m*\u001b[49m\u001b[43m*\u001b[49m\u001b[43mkwargs\u001b[49m\u001b[43m)\u001b[49m\n\u001b[32m     97\u001b[39m \u001b[38;5;28mself\u001b[39m.k_constant = \u001b[38;5;28mself\u001b[39m.data.k_constant\n\u001b[32m     98\u001b[39m \u001b[38;5;28mself\u001b[39m.exog = \u001b[38;5;28mself\u001b[39m.data.exog\n",
      "\u001b[36mFile \u001b[39m\u001b[32md:\\Back End Development\\Machine Learning\\.venv\\Lib\\site-packages\\statsmodels\\base\\model.py:135\u001b[39m, in \u001b[36mModel._handle_data\u001b[39m\u001b[34m(self, endog, exog, missing, hasconst, **kwargs)\u001b[39m\n\u001b[32m    134\u001b[39m \u001b[38;5;28;01mdef\u001b[39;00m\u001b[38;5;250m \u001b[39m\u001b[34m_handle_data\u001b[39m(\u001b[38;5;28mself\u001b[39m, endog, exog, missing, hasconst, **kwargs):\n\u001b[32m--> \u001b[39m\u001b[32m135\u001b[39m     data = \u001b[43mhandle_data\u001b[49m\u001b[43m(\u001b[49m\u001b[43mendog\u001b[49m\u001b[43m,\u001b[49m\u001b[43m \u001b[49m\u001b[43mexog\u001b[49m\u001b[43m,\u001b[49m\u001b[43m \u001b[49m\u001b[43mmissing\u001b[49m\u001b[43m,\u001b[49m\u001b[43m \u001b[49m\u001b[43mhasconst\u001b[49m\u001b[43m,\u001b[49m\u001b[43m \u001b[49m\u001b[43m*\u001b[49m\u001b[43m*\u001b[49m\u001b[43mkwargs\u001b[49m\u001b[43m)\u001b[49m\n\u001b[32m    136\u001b[39m     \u001b[38;5;66;03m# kwargs arrays could have changed, easier to just attach here\u001b[39;00m\n\u001b[32m    137\u001b[39m     \u001b[38;5;28;01mfor\u001b[39;00m key \u001b[38;5;129;01min\u001b[39;00m kwargs:\n",
      "\u001b[36mFile \u001b[39m\u001b[32md:\\Back End Development\\Machine Learning\\.venv\\Lib\\site-packages\\statsmodels\\base\\data.py:675\u001b[39m, in \u001b[36mhandle_data\u001b[39m\u001b[34m(endog, exog, missing, hasconst, **kwargs)\u001b[39m\n\u001b[32m    672\u001b[39m     exog = np.asarray(exog)\n\u001b[32m    674\u001b[39m klass = handle_data_class_factory(endog, exog)\n\u001b[32m--> \u001b[39m\u001b[32m675\u001b[39m \u001b[38;5;28;01mreturn\u001b[39;00m \u001b[43mklass\u001b[49m\u001b[43m(\u001b[49m\u001b[43mendog\u001b[49m\u001b[43m,\u001b[49m\u001b[43m \u001b[49m\u001b[43mexog\u001b[49m\u001b[43m=\u001b[49m\u001b[43mexog\u001b[49m\u001b[43m,\u001b[49m\u001b[43m \u001b[49m\u001b[43mmissing\u001b[49m\u001b[43m=\u001b[49m\u001b[43mmissing\u001b[49m\u001b[43m,\u001b[49m\u001b[43m \u001b[49m\u001b[43mhasconst\u001b[49m\u001b[43m=\u001b[49m\u001b[43mhasconst\u001b[49m\u001b[43m,\u001b[49m\n\u001b[32m    676\u001b[39m \u001b[43m             \u001b[49m\u001b[43m*\u001b[49m\u001b[43m*\u001b[49m\u001b[43mkwargs\u001b[49m\u001b[43m)\u001b[49m\n",
      "\u001b[36mFile \u001b[39m\u001b[32md:\\Back End Development\\Machine Learning\\.venv\\Lib\\site-packages\\statsmodels\\base\\data.py:88\u001b[39m, in \u001b[36mModelData.__init__\u001b[39m\u001b[34m(self, endog, exog, missing, hasconst, **kwargs)\u001b[39m\n\u001b[32m     86\u001b[39m \u001b[38;5;28mself\u001b[39m.const_idx = \u001b[38;5;28;01mNone\u001b[39;00m\n\u001b[32m     87\u001b[39m \u001b[38;5;28mself\u001b[39m.k_constant = \u001b[32m0\u001b[39m\n\u001b[32m---> \u001b[39m\u001b[32m88\u001b[39m \u001b[38;5;28;43mself\u001b[39;49m\u001b[43m.\u001b[49m\u001b[43m_handle_constant\u001b[49m\u001b[43m(\u001b[49m\u001b[43mhasconst\u001b[49m\u001b[43m)\u001b[49m\n\u001b[32m     89\u001b[39m \u001b[38;5;28mself\u001b[39m._check_integrity()\n\u001b[32m     90\u001b[39m \u001b[38;5;28mself\u001b[39m._cache = {}\n",
      "\u001b[36mFile \u001b[39m\u001b[32md:\\Back End Development\\Machine Learning\\.venv\\Lib\\site-packages\\statsmodels\\base\\data.py:134\u001b[39m, in \u001b[36mModelData._handle_constant\u001b[39m\u001b[34m(self, hasconst)\u001b[39m\n\u001b[32m    132\u001b[39m exog_max = np.max(\u001b[38;5;28mself\u001b[39m.exog, axis=\u001b[32m0\u001b[39m)\n\u001b[32m    133\u001b[39m \u001b[38;5;28;01mif\u001b[39;00m \u001b[38;5;129;01mnot\u001b[39;00m np.isfinite(exog_max).all():\n\u001b[32m--> \u001b[39m\u001b[32m134\u001b[39m     \u001b[38;5;28;01mraise\u001b[39;00m MissingDataError(\u001b[33m'\u001b[39m\u001b[33mexog contains inf or nans\u001b[39m\u001b[33m'\u001b[39m)\n\u001b[32m    135\u001b[39m exog_min = np.min(\u001b[38;5;28mself\u001b[39m.exog, axis=\u001b[32m0\u001b[39m)\n\u001b[32m    136\u001b[39m const_idx = np.where(exog_max == exog_min)[\u001b[32m0\u001b[39m].squeeze()\n",
      "\u001b[31mMissingDataError\u001b[39m: exog contains inf or nans"
     ]
    }
   ],
   "source": [
    "model1=sm.OLS(ytrain,xtrain_c).fit()"
   ]
  },
  {
   "cell_type": "code",
   "execution_count": null,
   "id": "6c4cbdc0-7b2a-4caa-8287-bd1464f27c74",
   "metadata": {},
   "outputs": [
    {
     "data": {
      "text/html": [
       "<table class=\"simpletable\">\n",
       "<caption>OLS Regression Results</caption>\n",
       "<tr>\n",
       "  <th>Dep. Variable:</th>     <td>Price_in_Lakhs</td>  <th>  R-squared:         </th>  <td>   0.706</td>  \n",
       "</tr>\n",
       "<tr>\n",
       "  <th>Model:</th>                   <td>OLS</td>       <th>  Adj. R-squared:    </th>  <td>   0.705</td>  \n",
       "</tr>\n",
       "<tr>\n",
       "  <th>Method:</th>             <td>Least Squares</td>  <th>  F-statistic:       </th>  <td>2.175e+04</td> \n",
       "</tr>\n",
       "<tr>\n",
       "  <th>Date:</th>             <td>Tue, 18 Feb 2025</td> <th>  Prob (F-statistic):</th>   <td>  0.00</td>   \n",
       "</tr>\n",
       "<tr>\n",
       "  <th>Time:</th>                 <td>13:17:26</td>     <th>  Log-Likelihood:    </th> <td>-1.1500e+06</td>\n",
       "</tr>\n",
       "<tr>\n",
       "  <th>No. Observations:</th>      <td>199725</td>      <th>  AIC:               </th>  <td>2.300e+06</td> \n",
       "</tr>\n",
       "<tr>\n",
       "  <th>Df Residuals:</th>          <td>199702</td>      <th>  BIC:               </th>  <td>2.300e+06</td> \n",
       "</tr>\n",
       "<tr>\n",
       "  <th>Df Model:</th>              <td>    22</td>      <th>                     </th>      <td> </td>     \n",
       "</tr>\n",
       "<tr>\n",
       "  <th>Covariance Type:</th>      <td>nonrobust</td>    <th>                     </th>      <td> </td>     \n",
       "</tr>\n",
       "</table>\n",
       "<table class=\"simpletable\">\n",
       "<tr>\n",
       "                 <td></td>                   <th>coef</th>     <th>std err</th>      <th>t</th>      <th>P>|t|</th>  <th>[0.025</th>    <th>0.975]</th>  \n",
       "</tr>\n",
       "<tr>\n",
       "  <th>const</th>                          <td>  419.7529</td> <td> 1278.998</td> <td>    0.328</td> <td> 0.743</td> <td>-2087.052</td> <td> 2926.558</td>\n",
       "</tr>\n",
       "<tr>\n",
       "  <th>State</th>                          <td>    0.0895</td> <td>    0.189</td> <td>    0.475</td> <td> 0.635</td> <td>   -0.280</td> <td>    0.459</td>\n",
       "</tr>\n",
       "<tr>\n",
       "  <th>City</th>                           <td>    0.2545</td> <td>    0.131</td> <td>    1.939</td> <td> 0.053</td> <td>   -0.003</td> <td>    0.512</td>\n",
       "</tr>\n",
       "<tr>\n",
       "  <th>Locality</th>                       <td>    0.0018</td> <td>    0.001</td> <td>    1.522</td> <td> 0.128</td> <td>   -0.001</td> <td>    0.004</td>\n",
       "</tr>\n",
       "<tr>\n",
       "  <th>Property_Type</th>                  <td>    0.8787</td> <td>    0.311</td> <td>    2.829</td> <td> 0.005</td> <td>    0.270</td> <td>    1.487</td>\n",
       "</tr>\n",
       "<tr>\n",
       "  <th>BHK</th>                            <td>   -0.1157</td> <td>    0.121</td> <td>   -0.955</td> <td> 0.339</td> <td>   -0.353</td> <td>    0.122</td>\n",
       "</tr>\n",
       "<tr>\n",
       "  <th>Size_in_SqFt</th>                   <td>    0.0788</td> <td>    0.000</td> <td>  451.378</td> <td> 0.000</td> <td>    0.078</td> <td>    0.079</td>\n",
       "</tr>\n",
       "<tr>\n",
       "  <th>Price_per_SqFt</th>                 <td> 1700.9283</td> <td>    2.462</td> <td>  690.813</td> <td> 0.000</td> <td> 1696.102</td> <td> 1705.754</td>\n",
       "</tr>\n",
       "<tr>\n",
       "  <th>Year_Built</th>                     <td>   -0.5776</td> <td>    0.840</td> <td>   -0.687</td> <td> 0.492</td> <td>   -2.225</td> <td>    1.070</td>\n",
       "</tr>\n",
       "<tr>\n",
       "  <th>Furnished_Status</th>               <td>   -0.0206</td> <td>    0.210</td> <td>   -0.098</td> <td> 0.922</td> <td>   -0.432</td> <td>    0.391</td>\n",
       "</tr>\n",
       "<tr>\n",
       "  <th>Floor_No</th>                       <td>    0.0132</td> <td>    0.019</td> <td>    0.691</td> <td> 0.490</td> <td>   -0.024</td> <td>    0.051</td>\n",
       "</tr>\n",
       "<tr>\n",
       "  <th>Total_Floors</th>                   <td>   -0.0204</td> <td>    0.020</td> <td>   -1.033</td> <td> 0.302</td> <td>   -0.059</td> <td>    0.018</td>\n",
       "</tr>\n",
       "<tr>\n",
       "  <th>Age_of_Property</th>                <td>   -0.5933</td> <td>    0.841</td> <td>   -0.706</td> <td> 0.480</td> <td>   -2.241</td> <td>    1.054</td>\n",
       "</tr>\n",
       "<tr>\n",
       "  <th>Nearby_Schools</th>                 <td>    0.0521</td> <td>    0.060</td> <td>    0.875</td> <td> 0.382</td> <td>   -0.065</td> <td>    0.169</td>\n",
       "</tr>\n",
       "<tr>\n",
       "  <th>Nearby_Hospitals</th>               <td>   -0.0536</td> <td>    0.060</td> <td>   -0.897</td> <td> 0.370</td> <td>   -0.171</td> <td>    0.063</td>\n",
       "</tr>\n",
       "<tr>\n",
       "  <th>Public_Transport_Accessibility</th> <td>    0.2639</td> <td>    0.210</td> <td>    1.258</td> <td> 0.209</td> <td>   -0.147</td> <td>    0.675</td>\n",
       "</tr>\n",
       "<tr>\n",
       "  <th>Parking_Space</th>                  <td>    0.5370</td> <td>    0.343</td> <td>    1.566</td> <td> 0.117</td> <td>   -0.135</td> <td>    1.209</td>\n",
       "</tr>\n",
       "<tr>\n",
       "  <th>Security</th>                       <td>    0.5756</td> <td>    0.343</td> <td>    1.679</td> <td> 0.093</td> <td>   -0.097</td> <td>    1.248</td>\n",
       "</tr>\n",
       "<tr>\n",
       "  <th>Amenities</th>                      <td>    0.3140</td> <td>    0.032</td> <td>    9.915</td> <td> 0.000</td> <td>    0.252</td> <td>    0.376</td>\n",
       "</tr>\n",
       "<tr>\n",
       "  <th>Facing</th>                         <td>    0.2177</td> <td>    0.259</td> <td>    0.841</td> <td> 0.400</td> <td>   -0.290</td> <td>    0.725</td>\n",
       "</tr>\n",
       "<tr>\n",
       "  <th>Availability_Status</th>            <td>    0.4238</td> <td>    0.343</td> <td>    1.236</td> <td> 0.216</td> <td>   -0.248</td> <td>    1.096</td>\n",
       "</tr>\n",
       "<tr>\n",
       "  <th>Broker</th>                         <td>  139.7826</td> <td>  426.332</td> <td>    0.328</td> <td> 0.743</td> <td> -695.818</td> <td>  975.383</td>\n",
       "</tr>\n",
       "<tr>\n",
       "  <th>Builder</th>                        <td>  140.2446</td> <td>  426.333</td> <td>    0.329</td> <td> 0.742</td> <td> -695.358</td> <td>  975.848</td>\n",
       "</tr>\n",
       "<tr>\n",
       "  <th>Owner</th>                          <td>  139.7258</td> <td>  426.333</td> <td>    0.328</td> <td> 0.743</td> <td> -695.876</td> <td>  975.328</td>\n",
       "</tr>\n",
       "</table>\n",
       "<table class=\"simpletable\">\n",
       "<tr>\n",
       "  <th>Omnibus:</th>       <td>10206.353</td> <th>  Durbin-Watson:     </th> <td>   1.999</td> \n",
       "</tr>\n",
       "<tr>\n",
       "  <th>Prob(Omnibus):</th>  <td> 0.000</td>   <th>  Jarque-Bera (JB):  </th> <td>11861.834</td>\n",
       "</tr>\n",
       "<tr>\n",
       "  <th>Skew:</th>           <td>-0.596</td>   <th>  Prob(JB):          </th> <td>    0.00</td> \n",
       "</tr>\n",
       "<tr>\n",
       "  <th>Kurtosis:</th>       <td> 2.953</td>   <th>  Cond. No.          </th> <td>2.45e+18</td> \n",
       "</tr>\n",
       "</table><br/><br/>Notes:<br/>[1] Standard Errors assume that the covariance matrix of the errors is correctly specified.<br/>[2] The smallest eigenvalue is 4.36e-25. This might indicate that there are<br/>strong multicollinearity problems or that the design matrix is singular."
      ],
      "text/latex": [
       "\\begin{center}\n",
       "\\begin{tabular}{lclc}\n",
       "\\toprule\n",
       "\\textbf{Dep. Variable:}                   & Price\\_in\\_Lakhs & \\textbf{  R-squared:         } &      0.706   \\\\\n",
       "\\textbf{Model:}                           &       OLS        & \\textbf{  Adj. R-squared:    } &      0.705   \\\\\n",
       "\\textbf{Method:}                          &  Least Squares   & \\textbf{  F-statistic:       } &  2.175e+04   \\\\\n",
       "\\textbf{Date:}                            & Tue, 18 Feb 2025 & \\textbf{  Prob (F-statistic):} &      0.00    \\\\\n",
       "\\textbf{Time:}                            &     13:17:26     & \\textbf{  Log-Likelihood:    } & -1.1500e+06  \\\\\n",
       "\\textbf{No. Observations:}                &      199725      & \\textbf{  AIC:               } &  2.300e+06   \\\\\n",
       "\\textbf{Df Residuals:}                    &      199702      & \\textbf{  BIC:               } &  2.300e+06   \\\\\n",
       "\\textbf{Df Model:}                        &          22      & \\textbf{                     } &              \\\\\n",
       "\\textbf{Covariance Type:}                 &    nonrobust     & \\textbf{                     } &              \\\\\n",
       "\\bottomrule\n",
       "\\end{tabular}\n",
       "\\begin{tabular}{lcccccc}\n",
       "                                          & \\textbf{coef} & \\textbf{std err} & \\textbf{t} & \\textbf{P$> |$t$|$} & \\textbf{[0.025} & \\textbf{0.975]}  \\\\\n",
       "\\midrule\n",
       "\\textbf{const}                            &     419.7529  &     1278.998     &     0.328  &         0.743        &    -2087.052    &     2926.558     \\\\\n",
       "\\textbf{State}                            &       0.0895  &        0.189     &     0.475  &         0.635        &       -0.280    &        0.459     \\\\\n",
       "\\textbf{City}                             &       0.2545  &        0.131     &     1.939  &         0.053        &       -0.003    &        0.512     \\\\\n",
       "\\textbf{Locality}                         &       0.0018  &        0.001     &     1.522  &         0.128        &       -0.001    &        0.004     \\\\\n",
       "\\textbf{Property\\_Type}                   &       0.8787  &        0.311     &     2.829  &         0.005        &        0.270    &        1.487     \\\\\n",
       "\\textbf{BHK}                              &      -0.1157  &        0.121     &    -0.955  &         0.339        &       -0.353    &        0.122     \\\\\n",
       "\\textbf{Size\\_in\\_SqFt}                   &       0.0788  &        0.000     &   451.378  &         0.000        &        0.078    &        0.079     \\\\\n",
       "\\textbf{Price\\_per\\_SqFt}                 &    1700.9283  &        2.462     &   690.813  &         0.000        &     1696.102    &     1705.754     \\\\\n",
       "\\textbf{Year\\_Built}                      &      -0.5776  &        0.840     &    -0.687  &         0.492        &       -2.225    &        1.070     \\\\\n",
       "\\textbf{Furnished\\_Status}                &      -0.0206  &        0.210     &    -0.098  &         0.922        &       -0.432    &        0.391     \\\\\n",
       "\\textbf{Floor\\_No}                        &       0.0132  &        0.019     &     0.691  &         0.490        &       -0.024    &        0.051     \\\\\n",
       "\\textbf{Total\\_Floors}                    &      -0.0204  &        0.020     &    -1.033  &         0.302        &       -0.059    &        0.018     \\\\\n",
       "\\textbf{Age\\_of\\_Property}                &      -0.5933  &        0.841     &    -0.706  &         0.480        &       -2.241    &        1.054     \\\\\n",
       "\\textbf{Nearby\\_Schools}                  &       0.0521  &        0.060     &     0.875  &         0.382        &       -0.065    &        0.169     \\\\\n",
       "\\textbf{Nearby\\_Hospitals}                &      -0.0536  &        0.060     &    -0.897  &         0.370        &       -0.171    &        0.063     \\\\\n",
       "\\textbf{Public\\_Transport\\_Accessibility} &       0.2639  &        0.210     &     1.258  &         0.209        &       -0.147    &        0.675     \\\\\n",
       "\\textbf{Parking\\_Space}                   &       0.5370  &        0.343     &     1.566  &         0.117        &       -0.135    &        1.209     \\\\\n",
       "\\textbf{Security}                         &       0.5756  &        0.343     &     1.679  &         0.093        &       -0.097    &        1.248     \\\\\n",
       "\\textbf{Amenities}                        &       0.3140  &        0.032     &     9.915  &         0.000        &        0.252    &        0.376     \\\\\n",
       "\\textbf{Facing}                           &       0.2177  &        0.259     &     0.841  &         0.400        &       -0.290    &        0.725     \\\\\n",
       "\\textbf{Availability\\_Status}             &       0.4238  &        0.343     &     1.236  &         0.216        &       -0.248    &        1.096     \\\\\n",
       "\\textbf{Broker}                           &     139.7826  &      426.332     &     0.328  &         0.743        &     -695.818    &      975.383     \\\\\n",
       "\\textbf{Builder}                          &     140.2446  &      426.333     &     0.329  &         0.742        &     -695.358    &      975.848     \\\\\n",
       "\\textbf{Owner}                            &     139.7258  &      426.333     &     0.328  &         0.743        &     -695.876    &      975.328     \\\\\n",
       "\\bottomrule\n",
       "\\end{tabular}\n",
       "\\begin{tabular}{lclc}\n",
       "\\textbf{Omnibus:}       & 10206.353 & \\textbf{  Durbin-Watson:     } &     1.999  \\\\\n",
       "\\textbf{Prob(Omnibus):} &    0.000  & \\textbf{  Jarque-Bera (JB):  } & 11861.834  \\\\\n",
       "\\textbf{Skew:}          &   -0.596  & \\textbf{  Prob(JB):          } &      0.00  \\\\\n",
       "\\textbf{Kurtosis:}      &    2.953  & \\textbf{  Cond. No.          } &  2.45e+18  \\\\\n",
       "\\bottomrule\n",
       "\\end{tabular}\n",
       "%\\caption{OLS Regression Results}\n",
       "\\end{center}\n",
       "\n",
       "Notes: \\newline\n",
       " [1] Standard Errors assume that the covariance matrix of the errors is correctly specified. \\newline\n",
       " [2] The smallest eigenvalue is 4.36e-25. This might indicate that there are \\newline\n",
       " strong multicollinearity problems or that the design matrix is singular."
      ],
      "text/plain": [
       "<class 'statsmodels.iolib.summary.Summary'>\n",
       "\"\"\"\n",
       "                            OLS Regression Results                            \n",
       "==============================================================================\n",
       "Dep. Variable:         Price_in_Lakhs   R-squared:                       0.706\n",
       "Model:                            OLS   Adj. R-squared:                  0.705\n",
       "Method:                 Least Squares   F-statistic:                 2.175e+04\n",
       "Date:                Tue, 18 Feb 2025   Prob (F-statistic):               0.00\n",
       "Time:                        13:17:26   Log-Likelihood:            -1.1500e+06\n",
       "No. Observations:              199725   AIC:                         2.300e+06\n",
       "Df Residuals:                  199702   BIC:                         2.300e+06\n",
       "Df Model:                          22                                         \n",
       "Covariance Type:            nonrobust                                         \n",
       "==================================================================================================\n",
       "                                     coef    std err          t      P>|t|      [0.025      0.975]\n",
       "--------------------------------------------------------------------------------------------------\n",
       "const                            419.7529   1278.998      0.328      0.743   -2087.052    2926.558\n",
       "State                              0.0895      0.189      0.475      0.635      -0.280       0.459\n",
       "City                               0.2545      0.131      1.939      0.053      -0.003       0.512\n",
       "Locality                           0.0018      0.001      1.522      0.128      -0.001       0.004\n",
       "Property_Type                      0.8787      0.311      2.829      0.005       0.270       1.487\n",
       "BHK                               -0.1157      0.121     -0.955      0.339      -0.353       0.122\n",
       "Size_in_SqFt                       0.0788      0.000    451.378      0.000       0.078       0.079\n",
       "Price_per_SqFt                  1700.9283      2.462    690.813      0.000    1696.102    1705.754\n",
       "Year_Built                        -0.5776      0.840     -0.687      0.492      -2.225       1.070\n",
       "Furnished_Status                  -0.0206      0.210     -0.098      0.922      -0.432       0.391\n",
       "Floor_No                           0.0132      0.019      0.691      0.490      -0.024       0.051\n",
       "Total_Floors                      -0.0204      0.020     -1.033      0.302      -0.059       0.018\n",
       "Age_of_Property                   -0.5933      0.841     -0.706      0.480      -2.241       1.054\n",
       "Nearby_Schools                     0.0521      0.060      0.875      0.382      -0.065       0.169\n",
       "Nearby_Hospitals                  -0.0536      0.060     -0.897      0.370      -0.171       0.063\n",
       "Public_Transport_Accessibility     0.2639      0.210      1.258      0.209      -0.147       0.675\n",
       "Parking_Space                      0.5370      0.343      1.566      0.117      -0.135       1.209\n",
       "Security                           0.5756      0.343      1.679      0.093      -0.097       1.248\n",
       "Amenities                          0.3140      0.032      9.915      0.000       0.252       0.376\n",
       "Facing                             0.2177      0.259      0.841      0.400      -0.290       0.725\n",
       "Availability_Status                0.4238      0.343      1.236      0.216      -0.248       1.096\n",
       "Broker                           139.7826    426.332      0.328      0.743    -695.818     975.383\n",
       "Builder                          140.2446    426.333      0.329      0.742    -695.358     975.848\n",
       "Owner                            139.7258    426.333      0.328      0.743    -695.876     975.328\n",
       "==============================================================================\n",
       "Omnibus:                    10206.353   Durbin-Watson:                   1.999\n",
       "Prob(Omnibus):                  0.000   Jarque-Bera (JB):            11861.834\n",
       "Skew:                          -0.596   Prob(JB):                         0.00\n",
       "Kurtosis:                       2.953   Cond. No.                     2.45e+18\n",
       "==============================================================================\n",
       "\n",
       "Notes:\n",
       "[1] Standard Errors assume that the covariance matrix of the errors is correctly specified.\n",
       "[2] The smallest eigenvalue is 4.36e-25. This might indicate that there are\n",
       "strong multicollinearity problems or that the design matrix is singular.\n",
       "\"\"\""
      ]
     },
     "execution_count": 90,
     "metadata": {},
     "output_type": "execute_result"
    }
   ],
   "source": [
    "model1.summary()"
   ]
  },
  {
   "cell_type": "code",
   "execution_count": null,
   "id": "3effa041",
   "metadata": {},
   "outputs": [],
   "source": [
    "from sklearn.metrics import r2_score,mean_absolute_error,mean_squared_error"
   ]
  },
  {
   "cell_type": "code",
   "execution_count": null,
   "id": "aabe151c",
   "metadata": {},
   "outputs": [
    {
     "data": {
      "text/plain": [
       "0.10802500231638024"
      ]
     },
     "execution_count": 92,
     "metadata": {},
     "output_type": "execute_result"
    }
   ],
   "source": [
    "r2_score(ytest,model1.predict(xtest_c)) #test data"
   ]
  },
  {
   "cell_type": "code",
   "execution_count": null,
   "id": "e8ab8f17",
   "metadata": {},
   "outputs": [
    {
     "data": {
      "text/plain": [
       "82.9182928217204"
      ]
     },
     "execution_count": 93,
     "metadata": {},
     "output_type": "execute_result"
    }
   ],
   "source": [
    "mean_absolute_error(ytest,model1.predict(xtest_c))"
   ]
  },
  {
   "cell_type": "code",
   "execution_count": null,
   "id": "38f1874f",
   "metadata": {},
   "outputs": [
    {
     "data": {
      "text/plain": [
       "61.168086926955745"
      ]
     },
     "execution_count": 94,
     "metadata": {},
     "output_type": "execute_result"
    }
   ],
   "source": [
    "mean_absolute_error(ytrain,model1.predict(xtrain_c))"
   ]
  },
  {
   "cell_type": "code",
   "execution_count": null,
   "id": "22ef57c9",
   "metadata": {},
   "outputs": [
    {
     "data": {
      "text/html": [
       "<div>\n",
       "<style scoped>\n",
       "    .dataframe tbody tr th:only-of-type {\n",
       "        vertical-align: middle;\n",
       "    }\n",
       "\n",
       "    .dataframe tbody tr th {\n",
       "        vertical-align: top;\n",
       "    }\n",
       "\n",
       "    .dataframe thead th {\n",
       "        text-align: right;\n",
       "    }\n",
       "</style>\n",
       "<table border=\"1\" class=\"dataframe\">\n",
       "  <thead>\n",
       "    <tr style=\"text-align: right;\">\n",
       "      <th></th>\n",
       "      <th>VIF</th>\n",
       "    </tr>\n",
       "  </thead>\n",
       "  <tbody>\n",
       "    <tr>\n",
       "      <th>Owner</th>\n",
       "      <td>inf</td>\n",
       "    </tr>\n",
       "    <tr>\n",
       "      <th>Broker</th>\n",
       "      <td>inf</td>\n",
       "    </tr>\n",
       "    <tr>\n",
       "      <th>Builder</th>\n",
       "      <td>inf</td>\n",
       "    </tr>\n",
       "    <tr>\n",
       "      <th>Age_of_Property</th>\n",
       "      <td>2313.780100</td>\n",
       "    </tr>\n",
       "    <tr>\n",
       "      <th>Year_Built</th>\n",
       "      <td>2313.779641</td>\n",
       "    </tr>\n",
       "    <tr>\n",
       "      <th>City</th>\n",
       "      <td>1.930962</td>\n",
       "    </tr>\n",
       "    <tr>\n",
       "      <th>State</th>\n",
       "      <td>1.930869</td>\n",
       "    </tr>\n",
       "    <tr>\n",
       "      <th>Price_per_SqFt</th>\n",
       "      <td>1.753125</td>\n",
       "    </tr>\n",
       "    <tr>\n",
       "      <th>Size_in_SqFt</th>\n",
       "      <td>1.752146</td>\n",
       "    </tr>\n",
       "    <tr>\n",
       "      <th>Amenities</th>\n",
       "      <td>1.001100</td>\n",
       "    </tr>\n",
       "    <tr>\n",
       "      <th>Total_Floors</th>\n",
       "      <td>1.000150</td>\n",
       "    </tr>\n",
       "    <tr>\n",
       "      <th>Floor_No</th>\n",
       "      <td>1.000145</td>\n",
       "    </tr>\n",
       "    <tr>\n",
       "      <th>Nearby_Hospitals</th>\n",
       "      <td>1.000121</td>\n",
       "    </tr>\n",
       "    <tr>\n",
       "      <th>Availability_Status</th>\n",
       "      <td>1.000107</td>\n",
       "    </tr>\n",
       "    <tr>\n",
       "      <th>Property_Type</th>\n",
       "      <td>1.000105</td>\n",
       "    </tr>\n",
       "    <tr>\n",
       "      <th>Parking_Space</th>\n",
       "      <td>1.000096</td>\n",
       "    </tr>\n",
       "    <tr>\n",
       "      <th>Nearby_Schools</th>\n",
       "      <td>1.000091</td>\n",
       "    </tr>\n",
       "    <tr>\n",
       "      <th>Furnished_Status</th>\n",
       "      <td>1.000087</td>\n",
       "    </tr>\n",
       "    <tr>\n",
       "      <th>Public_Transport_Accessibility</th>\n",
       "      <td>1.000087</td>\n",
       "    </tr>\n",
       "    <tr>\n",
       "      <th>BHK</th>\n",
       "      <td>1.000085</td>\n",
       "    </tr>\n",
       "    <tr>\n",
       "      <th>Facing</th>\n",
       "      <td>1.000077</td>\n",
       "    </tr>\n",
       "    <tr>\n",
       "      <th>Locality</th>\n",
       "      <td>1.000073</td>\n",
       "    </tr>\n",
       "    <tr>\n",
       "      <th>Security</th>\n",
       "      <td>1.000056</td>\n",
       "    </tr>\n",
       "    <tr>\n",
       "      <th>const</th>\n",
       "      <td>0.000000</td>\n",
       "    </tr>\n",
       "  </tbody>\n",
       "</table>\n",
       "</div>"
      ],
      "text/plain": [
       "                                        VIF\n",
       "Owner                                   inf\n",
       "Broker                                  inf\n",
       "Builder                                 inf\n",
       "Age_of_Property                 2313.780100\n",
       "Year_Built                      2313.779641\n",
       "City                               1.930962\n",
       "State                              1.930869\n",
       "Price_per_SqFt                     1.753125\n",
       "Size_in_SqFt                       1.752146\n",
       "Amenities                          1.001100\n",
       "Total_Floors                       1.000150\n",
       "Floor_No                           1.000145\n",
       "Nearby_Hospitals                   1.000121\n",
       "Availability_Status                1.000107\n",
       "Property_Type                      1.000105\n",
       "Parking_Space                      1.000096\n",
       "Nearby_Schools                     1.000091\n",
       "Furnished_Status                   1.000087\n",
       "Public_Transport_Accessibility     1.000087\n",
       "BHK                                1.000085\n",
       "Facing                             1.000077\n",
       "Locality                           1.000073\n",
       "Security                           1.000056\n",
       "const                              0.000000"
      ]
     },
     "execution_count": 95,
     "metadata": {},
     "output_type": "execute_result"
    }
   ],
   "source": [
    "l = [vif(xtrain_c,i) for i in range(xtrain_c.shape[1])]\n",
    "pd.DataFrame(l,index=xtrain_c.columns,columns=[\"VIF\"]).sort_values(by=\"VIF\",ascending=False)"
   ]
  },
  {
   "cell_type": "code",
   "execution_count": null,
   "id": "8f27ef2a-1782-4234-8ecb-3e9022688c19",
   "metadata": {},
   "outputs": [],
   "source": [
    "xtrain_c.drop(\"Owner\",axis=1,inplace=True)"
   ]
  },
  {
   "cell_type": "code",
   "execution_count": null,
   "id": "c7dd8dec-814c-43c2-b1bd-0d4df29bea16",
   "metadata": {},
   "outputs": [
    {
     "data": {
      "text/html": [
       "<div>\n",
       "<style scoped>\n",
       "    .dataframe tbody tr th:only-of-type {\n",
       "        vertical-align: middle;\n",
       "    }\n",
       "\n",
       "    .dataframe tbody tr th {\n",
       "        vertical-align: top;\n",
       "    }\n",
       "\n",
       "    .dataframe thead th {\n",
       "        text-align: right;\n",
       "    }\n",
       "</style>\n",
       "<table border=\"1\" class=\"dataframe\">\n",
       "  <thead>\n",
       "    <tr style=\"text-align: right;\">\n",
       "      <th></th>\n",
       "      <th>VIF</th>\n",
       "    </tr>\n",
       "  </thead>\n",
       "  <tbody>\n",
       "    <tr>\n",
       "      <th>const</th>\n",
       "      <td>9.893581e+07</td>\n",
       "    </tr>\n",
       "    <tr>\n",
       "      <th>Age_of_Property</th>\n",
       "      <td>2.313780e+03</td>\n",
       "    </tr>\n",
       "    <tr>\n",
       "      <th>Year_Built</th>\n",
       "      <td>2.313780e+03</td>\n",
       "    </tr>\n",
       "    <tr>\n",
       "      <th>City</th>\n",
       "      <td>1.930962e+00</td>\n",
       "    </tr>\n",
       "    <tr>\n",
       "      <th>State</th>\n",
       "      <td>1.930869e+00</td>\n",
       "    </tr>\n",
       "    <tr>\n",
       "      <th>Price_per_SqFt</th>\n",
       "      <td>1.753125e+00</td>\n",
       "    </tr>\n",
       "    <tr>\n",
       "      <th>Size_in_SqFt</th>\n",
       "      <td>1.752146e+00</td>\n",
       "    </tr>\n",
       "    <tr>\n",
       "      <th>Broker</th>\n",
       "      <td>1.333570e+00</td>\n",
       "    </tr>\n",
       "    <tr>\n",
       "      <th>Builder</th>\n",
       "      <td>1.333517e+00</td>\n",
       "    </tr>\n",
       "    <tr>\n",
       "      <th>Amenities</th>\n",
       "      <td>1.001100e+00</td>\n",
       "    </tr>\n",
       "    <tr>\n",
       "      <th>Total_Floors</th>\n",
       "      <td>1.000150e+00</td>\n",
       "    </tr>\n",
       "    <tr>\n",
       "      <th>Floor_No</th>\n",
       "      <td>1.000145e+00</td>\n",
       "    </tr>\n",
       "    <tr>\n",
       "      <th>Nearby_Hospitals</th>\n",
       "      <td>1.000121e+00</td>\n",
       "    </tr>\n",
       "    <tr>\n",
       "      <th>Availability_Status</th>\n",
       "      <td>1.000107e+00</td>\n",
       "    </tr>\n",
       "    <tr>\n",
       "      <th>Property_Type</th>\n",
       "      <td>1.000105e+00</td>\n",
       "    </tr>\n",
       "    <tr>\n",
       "      <th>Parking_Space</th>\n",
       "      <td>1.000096e+00</td>\n",
       "    </tr>\n",
       "    <tr>\n",
       "      <th>Nearby_Schools</th>\n",
       "      <td>1.000091e+00</td>\n",
       "    </tr>\n",
       "    <tr>\n",
       "      <th>Furnished_Status</th>\n",
       "      <td>1.000087e+00</td>\n",
       "    </tr>\n",
       "    <tr>\n",
       "      <th>Public_Transport_Accessibility</th>\n",
       "      <td>1.000087e+00</td>\n",
       "    </tr>\n",
       "    <tr>\n",
       "      <th>BHK</th>\n",
       "      <td>1.000085e+00</td>\n",
       "    </tr>\n",
       "    <tr>\n",
       "      <th>Facing</th>\n",
       "      <td>1.000077e+00</td>\n",
       "    </tr>\n",
       "    <tr>\n",
       "      <th>Locality</th>\n",
       "      <td>1.000073e+00</td>\n",
       "    </tr>\n",
       "    <tr>\n",
       "      <th>Security</th>\n",
       "      <td>1.000056e+00</td>\n",
       "    </tr>\n",
       "  </tbody>\n",
       "</table>\n",
       "</div>"
      ],
      "text/plain": [
       "                                         VIF\n",
       "const                           9.893581e+07\n",
       "Age_of_Property                 2.313780e+03\n",
       "Year_Built                      2.313780e+03\n",
       "City                            1.930962e+00\n",
       "State                           1.930869e+00\n",
       "Price_per_SqFt                  1.753125e+00\n",
       "Size_in_SqFt                    1.752146e+00\n",
       "Broker                          1.333570e+00\n",
       "Builder                         1.333517e+00\n",
       "Amenities                       1.001100e+00\n",
       "Total_Floors                    1.000150e+00\n",
       "Floor_No                        1.000145e+00\n",
       "Nearby_Hospitals                1.000121e+00\n",
       "Availability_Status             1.000107e+00\n",
       "Property_Type                   1.000105e+00\n",
       "Parking_Space                   1.000096e+00\n",
       "Nearby_Schools                  1.000091e+00\n",
       "Furnished_Status                1.000087e+00\n",
       "Public_Transport_Accessibility  1.000087e+00\n",
       "BHK                             1.000085e+00\n",
       "Facing                          1.000077e+00\n",
       "Locality                        1.000073e+00\n",
       "Security                        1.000056e+00"
      ]
     },
     "execution_count": 97,
     "metadata": {},
     "output_type": "execute_result"
    }
   ],
   "source": [
    "l = [vif(xtrain_c,i) for i in range(xtrain_c.shape[1])]\n",
    "pd.DataFrame(l,index=xtrain_c.columns,columns=[\"VIF\"]).sort_values(by=\"VIF\",ascending=False)"
   ]
  },
  {
   "cell_type": "code",
   "execution_count": null,
   "id": "32bf68c1-02ee-477a-9688-b1c8ed5eed39",
   "metadata": {},
   "outputs": [],
   "source": [
    "xtrain_c.drop(\"Year_Built\",axis=1,inplace=True)"
   ]
  },
  {
   "cell_type": "code",
   "execution_count": null,
   "id": "0bb2e1a2-b115-4962-8bc7-27694cc8f6fa",
   "metadata": {},
   "outputs": [
    {
     "data": {
      "text/html": [
       "<div>\n",
       "<style scoped>\n",
       "    .dataframe tbody tr th:only-of-type {\n",
       "        vertical-align: middle;\n",
       "    }\n",
       "\n",
       "    .dataframe tbody tr th {\n",
       "        vertical-align: top;\n",
       "    }\n",
       "\n",
       "    .dataframe thead th {\n",
       "        text-align: right;\n",
       "    }\n",
       "</style>\n",
       "<table border=\"1\" class=\"dataframe\">\n",
       "  <thead>\n",
       "    <tr style=\"text-align: right;\">\n",
       "      <th></th>\n",
       "      <th>VIF</th>\n",
       "    </tr>\n",
       "  </thead>\n",
       "  <tbody>\n",
       "    <tr>\n",
       "      <th>const</th>\n",
       "      <td>402095.532502</td>\n",
       "    </tr>\n",
       "    <tr>\n",
       "      <th>City</th>\n",
       "      <td>1.930952</td>\n",
       "    </tr>\n",
       "    <tr>\n",
       "      <th>State</th>\n",
       "      <td>1.930841</td>\n",
       "    </tr>\n",
       "    <tr>\n",
       "      <th>Price_per_SqFt</th>\n",
       "      <td>1.753050</td>\n",
       "    </tr>\n",
       "    <tr>\n",
       "      <th>Size_in_SqFt</th>\n",
       "      <td>1.752122</td>\n",
       "    </tr>\n",
       "    <tr>\n",
       "      <th>Broker</th>\n",
       "      <td>1.333568</td>\n",
       "    </tr>\n",
       "    <tr>\n",
       "      <th>Builder</th>\n",
       "      <td>1.333514</td>\n",
       "    </tr>\n",
       "    <tr>\n",
       "      <th>Amenities</th>\n",
       "      <td>1.001100</td>\n",
       "    </tr>\n",
       "    <tr>\n",
       "      <th>Total_Floors</th>\n",
       "      <td>1.000146</td>\n",
       "    </tr>\n",
       "    <tr>\n",
       "      <th>Floor_No</th>\n",
       "      <td>1.000142</td>\n",
       "    </tr>\n",
       "    <tr>\n",
       "      <th>Nearby_Hospitals</th>\n",
       "      <td>1.000118</td>\n",
       "    </tr>\n",
       "    <tr>\n",
       "      <th>Age_of_Property</th>\n",
       "      <td>1.000112</td>\n",
       "    </tr>\n",
       "    <tr>\n",
       "      <th>Availability_Status</th>\n",
       "      <td>1.000107</td>\n",
       "    </tr>\n",
       "    <tr>\n",
       "      <th>Property_Type</th>\n",
       "      <td>1.000104</td>\n",
       "    </tr>\n",
       "    <tr>\n",
       "      <th>Parking_Space</th>\n",
       "      <td>1.000096</td>\n",
       "    </tr>\n",
       "    <tr>\n",
       "      <th>Nearby_Schools</th>\n",
       "      <td>1.000091</td>\n",
       "    </tr>\n",
       "    <tr>\n",
       "      <th>Public_Transport_Accessibility</th>\n",
       "      <td>1.000086</td>\n",
       "    </tr>\n",
       "    <tr>\n",
       "      <th>Facing</th>\n",
       "      <td>1.000076</td>\n",
       "    </tr>\n",
       "    <tr>\n",
       "      <th>BHK</th>\n",
       "      <td>1.000075</td>\n",
       "    </tr>\n",
       "    <tr>\n",
       "      <th>Furnished_Status</th>\n",
       "      <td>1.000073</td>\n",
       "    </tr>\n",
       "    <tr>\n",
       "      <th>Locality</th>\n",
       "      <td>1.000071</td>\n",
       "    </tr>\n",
       "    <tr>\n",
       "      <th>Security</th>\n",
       "      <td>1.000056</td>\n",
       "    </tr>\n",
       "  </tbody>\n",
       "</table>\n",
       "</div>"
      ],
      "text/plain": [
       "                                          VIF\n",
       "const                           402095.532502\n",
       "City                                 1.930952\n",
       "State                                1.930841\n",
       "Price_per_SqFt                       1.753050\n",
       "Size_in_SqFt                         1.752122\n",
       "Broker                               1.333568\n",
       "Builder                              1.333514\n",
       "Amenities                            1.001100\n",
       "Total_Floors                         1.000146\n",
       "Floor_No                             1.000142\n",
       "Nearby_Hospitals                     1.000118\n",
       "Age_of_Property                      1.000112\n",
       "Availability_Status                  1.000107\n",
       "Property_Type                        1.000104\n",
       "Parking_Space                        1.000096\n",
       "Nearby_Schools                       1.000091\n",
       "Public_Transport_Accessibility       1.000086\n",
       "Facing                               1.000076\n",
       "BHK                                  1.000075\n",
       "Furnished_Status                     1.000073\n",
       "Locality                             1.000071\n",
       "Security                             1.000056"
      ]
     },
     "execution_count": 99,
     "metadata": {},
     "output_type": "execute_result"
    }
   ],
   "source": [
    "l = [vif(xtrain_c,i) for i in range(xtrain_c.shape[1])]\n",
    "pd.DataFrame(l,index=xtrain_c.columns,columns=[\"VIF\"]).sort_values(by=\"VIF\",ascending=False)"
   ]
  },
  {
   "cell_type": "code",
   "execution_count": null,
   "id": "82750570-1089-4a79-9808-a12de8c56bf3",
   "metadata": {},
   "outputs": [
    {
     "data": {
      "text/plain": [
       "Index(['const', 'State', 'City', 'Locality', 'Property_Type', 'BHK',\n",
       "       'Size_in_SqFt', 'Price_per_SqFt', 'Furnished_Status', 'Floor_No',\n",
       "       'Total_Floors', 'Age_of_Property', 'Nearby_Schools', 'Nearby_Hospitals',\n",
       "       'Public_Transport_Accessibility', 'Parking_Space', 'Security',\n",
       "       'Amenities', 'Facing', 'Availability_Status', 'Broker', 'Builder'],\n",
       "      dtype='object')"
      ]
     },
     "execution_count": 100,
     "metadata": {},
     "output_type": "execute_result"
    }
   ],
   "source": [
    "xtrain_c.columns"
   ]
  },
  {
   "cell_type": "code",
   "execution_count": null,
   "id": "85180bbd-026d-482c-95c0-3ca2fb6d22f1",
   "metadata": {},
   "outputs": [],
   "source": [
    "model2 = sm.OLS(ytrain,xtrain_c).fit()"
   ]
  },
  {
   "cell_type": "code",
   "execution_count": null,
   "id": "4f296b3c-93e7-4e20-a996-3d6601098580",
   "metadata": {},
   "outputs": [
    {
     "data": {
      "text/html": [
       "<table class=\"simpletable\">\n",
       "<caption>OLS Regression Results</caption>\n",
       "<tr>\n",
       "  <th>Dep. Variable:</th>     <td>Price_in_Lakhs</td>  <th>  R-squared:         </th>  <td>   0.706</td>  \n",
       "</tr>\n",
       "<tr>\n",
       "  <th>Model:</th>                   <td>OLS</td>       <th>  Adj. R-squared:    </th>  <td>   0.705</td>  \n",
       "</tr>\n",
       "<tr>\n",
       "  <th>Method:</th>             <td>Least Squares</td>  <th>  F-statistic:       </th>  <td>2.278e+04</td> \n",
       "</tr>\n",
       "<tr>\n",
       "  <th>Date:</th>             <td>Tue, 18 Feb 2025</td> <th>  Prob (F-statistic):</th>   <td>  0.00</td>   \n",
       "</tr>\n",
       "<tr>\n",
       "  <th>Time:</th>                 <td>13:17:42</td>     <th>  Log-Likelihood:    </th> <td>-1.1500e+06</td>\n",
       "</tr>\n",
       "<tr>\n",
       "  <th>No. Observations:</th>      <td>199725</td>      <th>  AIC:               </th>  <td>2.300e+06</td> \n",
       "</tr>\n",
       "<tr>\n",
       "  <th>Df Residuals:</th>          <td>199703</td>      <th>  BIC:               </th>  <td>2.300e+06</td> \n",
       "</tr>\n",
       "<tr>\n",
       "  <th>Df Model:</th>              <td>    21</td>      <th>                     </th>      <td> </td>     \n",
       "</tr>\n",
       "<tr>\n",
       "  <th>Covariance Type:</th>      <td>nonrobust</td>    <th>                     </th>      <td> </td>     \n",
       "</tr>\n",
       "</table>\n",
       "<table class=\"simpletable\">\n",
       "<tr>\n",
       "                 <td></td>                   <th>coef</th>     <th>std err</th>      <th>t</th>      <th>P>|t|</th>  <th>[0.025</th>    <th>0.975]</th>  \n",
       "</tr>\n",
       "<tr>\n",
       "  <th>const</th>                          <td> -610.0149</td> <td>  108.717</td> <td>   -5.611</td> <td> 0.000</td> <td> -823.097</td> <td> -396.933</td>\n",
       "</tr>\n",
       "<tr>\n",
       "  <th>State</th>                          <td>    0.0890</td> <td>    0.189</td> <td>    0.472</td> <td> 0.637</td> <td>   -0.281</td> <td>    0.458</td>\n",
       "</tr>\n",
       "<tr>\n",
       "  <th>City</th>                           <td>    0.2547</td> <td>    0.131</td> <td>    1.941</td> <td> 0.052</td> <td>   -0.003</td> <td>    0.512</td>\n",
       "</tr>\n",
       "<tr>\n",
       "  <th>Locality</th>                       <td>    0.0018</td> <td>    0.001</td> <td>    1.522</td> <td> 0.128</td> <td>   -0.001</td> <td>    0.004</td>\n",
       "</tr>\n",
       "<tr>\n",
       "  <th>Property_Type</th>                  <td>    0.8784</td> <td>    0.311</td> <td>    2.828</td> <td> 0.005</td> <td>    0.270</td> <td>    1.487</td>\n",
       "</tr>\n",
       "<tr>\n",
       "  <th>BHK</th>                            <td>   -0.1155</td> <td>    0.121</td> <td>   -0.953</td> <td> 0.340</td> <td>   -0.353</td> <td>    0.122</td>\n",
       "</tr>\n",
       "<tr>\n",
       "  <th>Size_in_SqFt</th>                   <td>    0.0788</td> <td>    0.000</td> <td>  451.379</td> <td> 0.000</td> <td>    0.078</td> <td>    0.079</td>\n",
       "</tr>\n",
       "<tr>\n",
       "  <th>Price_per_SqFt</th>                 <td> 1700.9172</td> <td>    2.462</td> <td>  690.824</td> <td> 0.000</td> <td> 1696.091</td> <td> 1705.743</td>\n",
       "</tr>\n",
       "<tr>\n",
       "  <th>Furnished_Status</th>               <td>   -0.0201</td> <td>    0.210</td> <td>   -0.096</td> <td> 0.924</td> <td>   -0.431</td> <td>    0.391</td>\n",
       "</tr>\n",
       "<tr>\n",
       "  <th>Floor_No</th>                       <td>    0.0132</td> <td>    0.019</td> <td>    0.690</td> <td> 0.490</td> <td>   -0.024</td> <td>    0.051</td>\n",
       "</tr>\n",
       "<tr>\n",
       "  <th>Total_Floors</th>                   <td>   -0.0205</td> <td>    0.020</td> <td>   -1.034</td> <td> 0.301</td> <td>   -0.059</td> <td>    0.018</td>\n",
       "</tr>\n",
       "<tr>\n",
       "  <th>Age_of_Property</th>                <td>   -0.0157</td> <td>    0.017</td> <td>   -0.899</td> <td> 0.368</td> <td>   -0.050</td> <td>    0.019</td>\n",
       "</tr>\n",
       "<tr>\n",
       "  <th>Nearby_Schools</th>                 <td>    0.0521</td> <td>    0.060</td> <td>    0.875</td> <td> 0.381</td> <td>   -0.065</td> <td>    0.169</td>\n",
       "</tr>\n",
       "<tr>\n",
       "  <th>Nearby_Hospitals</th>               <td>   -0.0537</td> <td>    0.060</td> <td>   -0.898</td> <td> 0.369</td> <td>   -0.171</td> <td>    0.063</td>\n",
       "</tr>\n",
       "<tr>\n",
       "  <th>Public_Transport_Accessibility</th> <td>    0.2639</td> <td>    0.210</td> <td>    1.257</td> <td> 0.209</td> <td>   -0.147</td> <td>    0.675</td>\n",
       "</tr>\n",
       "<tr>\n",
       "  <th>Parking_Space</th>                  <td>    0.5369</td> <td>    0.343</td> <td>    1.566</td> <td> 0.117</td> <td>   -0.135</td> <td>    1.209</td>\n",
       "</tr>\n",
       "<tr>\n",
       "  <th>Security</th>                       <td>    0.5757</td> <td>    0.343</td> <td>    1.679</td> <td> 0.093</td> <td>   -0.096</td> <td>    1.248</td>\n",
       "</tr>\n",
       "<tr>\n",
       "  <th>Amenities</th>                      <td>    0.3140</td> <td>    0.032</td> <td>    9.915</td> <td> 0.000</td> <td>    0.252</td> <td>    0.376</td>\n",
       "</tr>\n",
       "<tr>\n",
       "  <th>Facing</th>                         <td>    0.2179</td> <td>    0.259</td> <td>    0.842</td> <td> 0.400</td> <td>   -0.290</td> <td>    0.725</td>\n",
       "</tr>\n",
       "<tr>\n",
       "  <th>Availability_Status</th>            <td>    0.4239</td> <td>    0.343</td> <td>    1.236</td> <td> 0.216</td> <td>   -0.248</td> <td>    1.096</td>\n",
       "</tr>\n",
       "<tr>\n",
       "  <th>Broker</th>                         <td>    0.0572</td> <td>    0.420</td> <td>    0.136</td> <td> 0.892</td> <td>   -0.766</td> <td>    0.880</td>\n",
       "</tr>\n",
       "<tr>\n",
       "  <th>Builder</th>                        <td>    0.5184</td> <td>    0.420</td> <td>    1.234</td> <td> 0.217</td> <td>   -0.305</td> <td>    1.342</td>\n",
       "</tr>\n",
       "</table>\n",
       "<table class=\"simpletable\">\n",
       "<tr>\n",
       "  <th>Omnibus:</th>       <td>10206.713</td> <th>  Durbin-Watson:     </th> <td>   1.999</td> \n",
       "</tr>\n",
       "<tr>\n",
       "  <th>Prob(Omnibus):</th>  <td> 0.000</td>   <th>  Jarque-Bera (JB):  </th> <td>11862.303</td>\n",
       "</tr>\n",
       "<tr>\n",
       "  <th>Skew:</th>           <td>-0.597</td>   <th>  Prob(JB):          </th> <td>    0.00</td> \n",
       "</tr>\n",
       "<tr>\n",
       "  <th>Kurtosis:</th>       <td> 2.953</td>   <th>  Cond. No.          </th> <td>1.96e+06</td> \n",
       "</tr>\n",
       "</table><br/><br/>Notes:<br/>[1] Standard Errors assume that the covariance matrix of the errors is correctly specified.<br/>[2] The condition number is large, 1.96e+06. This might indicate that there are<br/>strong multicollinearity or other numerical problems."
      ],
      "text/latex": [
       "\\begin{center}\n",
       "\\begin{tabular}{lclc}\n",
       "\\toprule\n",
       "\\textbf{Dep. Variable:}                   & Price\\_in\\_Lakhs & \\textbf{  R-squared:         } &      0.706   \\\\\n",
       "\\textbf{Model:}                           &       OLS        & \\textbf{  Adj. R-squared:    } &      0.705   \\\\\n",
       "\\textbf{Method:}                          &  Least Squares   & \\textbf{  F-statistic:       } &  2.278e+04   \\\\\n",
       "\\textbf{Date:}                            & Tue, 18 Feb 2025 & \\textbf{  Prob (F-statistic):} &      0.00    \\\\\n",
       "\\textbf{Time:}                            &     13:17:42     & \\textbf{  Log-Likelihood:    } & -1.1500e+06  \\\\\n",
       "\\textbf{No. Observations:}                &      199725      & \\textbf{  AIC:               } &  2.300e+06   \\\\\n",
       "\\textbf{Df Residuals:}                    &      199703      & \\textbf{  BIC:               } &  2.300e+06   \\\\\n",
       "\\textbf{Df Model:}                        &          21      & \\textbf{                     } &              \\\\\n",
       "\\textbf{Covariance Type:}                 &    nonrobust     & \\textbf{                     } &              \\\\\n",
       "\\bottomrule\n",
       "\\end{tabular}\n",
       "\\begin{tabular}{lcccccc}\n",
       "                                          & \\textbf{coef} & \\textbf{std err} & \\textbf{t} & \\textbf{P$> |$t$|$} & \\textbf{[0.025} & \\textbf{0.975]}  \\\\\n",
       "\\midrule\n",
       "\\textbf{const}                            &    -610.0149  &      108.717     &    -5.611  &         0.000        &     -823.097    &     -396.933     \\\\\n",
       "\\textbf{State}                            &       0.0890  &        0.189     &     0.472  &         0.637        &       -0.281    &        0.458     \\\\\n",
       "\\textbf{City}                             &       0.2547  &        0.131     &     1.941  &         0.052        &       -0.003    &        0.512     \\\\\n",
       "\\textbf{Locality}                         &       0.0018  &        0.001     &     1.522  &         0.128        &       -0.001    &        0.004     \\\\\n",
       "\\textbf{Property\\_Type}                   &       0.8784  &        0.311     &     2.828  &         0.005        &        0.270    &        1.487     \\\\\n",
       "\\textbf{BHK}                              &      -0.1155  &        0.121     &    -0.953  &         0.340        &       -0.353    &        0.122     \\\\\n",
       "\\textbf{Size\\_in\\_SqFt}                   &       0.0788  &        0.000     &   451.379  &         0.000        &        0.078    &        0.079     \\\\\n",
       "\\textbf{Price\\_per\\_SqFt}                 &    1700.9172  &        2.462     &   690.824  &         0.000        &     1696.091    &     1705.743     \\\\\n",
       "\\textbf{Furnished\\_Status}                &      -0.0201  &        0.210     &    -0.096  &         0.924        &       -0.431    &        0.391     \\\\\n",
       "\\textbf{Floor\\_No}                        &       0.0132  &        0.019     &     0.690  &         0.490        &       -0.024    &        0.051     \\\\\n",
       "\\textbf{Total\\_Floors}                    &      -0.0205  &        0.020     &    -1.034  &         0.301        &       -0.059    &        0.018     \\\\\n",
       "\\textbf{Age\\_of\\_Property}                &      -0.0157  &        0.017     &    -0.899  &         0.368        &       -0.050    &        0.019     \\\\\n",
       "\\textbf{Nearby\\_Schools}                  &       0.0521  &        0.060     &     0.875  &         0.381        &       -0.065    &        0.169     \\\\\n",
       "\\textbf{Nearby\\_Hospitals}                &      -0.0537  &        0.060     &    -0.898  &         0.369        &       -0.171    &        0.063     \\\\\n",
       "\\textbf{Public\\_Transport\\_Accessibility} &       0.2639  &        0.210     &     1.257  &         0.209        &       -0.147    &        0.675     \\\\\n",
       "\\textbf{Parking\\_Space}                   &       0.5369  &        0.343     &     1.566  &         0.117        &       -0.135    &        1.209     \\\\\n",
       "\\textbf{Security}                         &       0.5757  &        0.343     &     1.679  &         0.093        &       -0.096    &        1.248     \\\\\n",
       "\\textbf{Amenities}                        &       0.3140  &        0.032     &     9.915  &         0.000        &        0.252    &        0.376     \\\\\n",
       "\\textbf{Facing}                           &       0.2179  &        0.259     &     0.842  &         0.400        &       -0.290    &        0.725     \\\\\n",
       "\\textbf{Availability\\_Status}             &       0.4239  &        0.343     &     1.236  &         0.216        &       -0.248    &        1.096     \\\\\n",
       "\\textbf{Broker}                           &       0.0572  &        0.420     &     0.136  &         0.892        &       -0.766    &        0.880     \\\\\n",
       "\\textbf{Builder}                          &       0.5184  &        0.420     &     1.234  &         0.217        &       -0.305    &        1.342     \\\\\n",
       "\\bottomrule\n",
       "\\end{tabular}\n",
       "\\begin{tabular}{lclc}\n",
       "\\textbf{Omnibus:}       & 10206.713 & \\textbf{  Durbin-Watson:     } &     1.999  \\\\\n",
       "\\textbf{Prob(Omnibus):} &    0.000  & \\textbf{  Jarque-Bera (JB):  } & 11862.303  \\\\\n",
       "\\textbf{Skew:}          &   -0.597  & \\textbf{  Prob(JB):          } &      0.00  \\\\\n",
       "\\textbf{Kurtosis:}      &    2.953  & \\textbf{  Cond. No.          } &  1.96e+06  \\\\\n",
       "\\bottomrule\n",
       "\\end{tabular}\n",
       "%\\caption{OLS Regression Results}\n",
       "\\end{center}\n",
       "\n",
       "Notes: \\newline\n",
       " [1] Standard Errors assume that the covariance matrix of the errors is correctly specified. \\newline\n",
       " [2] The condition number is large, 1.96e+06. This might indicate that there are \\newline\n",
       " strong multicollinearity or other numerical problems."
      ],
      "text/plain": [
       "<class 'statsmodels.iolib.summary.Summary'>\n",
       "\"\"\"\n",
       "                            OLS Regression Results                            \n",
       "==============================================================================\n",
       "Dep. Variable:         Price_in_Lakhs   R-squared:                       0.706\n",
       "Model:                            OLS   Adj. R-squared:                  0.705\n",
       "Method:                 Least Squares   F-statistic:                 2.278e+04\n",
       "Date:                Tue, 18 Feb 2025   Prob (F-statistic):               0.00\n",
       "Time:                        13:17:42   Log-Likelihood:            -1.1500e+06\n",
       "No. Observations:              199725   AIC:                         2.300e+06\n",
       "Df Residuals:                  199703   BIC:                         2.300e+06\n",
       "Df Model:                          21                                         \n",
       "Covariance Type:            nonrobust                                         \n",
       "==================================================================================================\n",
       "                                     coef    std err          t      P>|t|      [0.025      0.975]\n",
       "--------------------------------------------------------------------------------------------------\n",
       "const                           -610.0149    108.717     -5.611      0.000    -823.097    -396.933\n",
       "State                              0.0890      0.189      0.472      0.637      -0.281       0.458\n",
       "City                               0.2547      0.131      1.941      0.052      -0.003       0.512\n",
       "Locality                           0.0018      0.001      1.522      0.128      -0.001       0.004\n",
       "Property_Type                      0.8784      0.311      2.828      0.005       0.270       1.487\n",
       "BHK                               -0.1155      0.121     -0.953      0.340      -0.353       0.122\n",
       "Size_in_SqFt                       0.0788      0.000    451.379      0.000       0.078       0.079\n",
       "Price_per_SqFt                  1700.9172      2.462    690.824      0.000    1696.091    1705.743\n",
       "Furnished_Status                  -0.0201      0.210     -0.096      0.924      -0.431       0.391\n",
       "Floor_No                           0.0132      0.019      0.690      0.490      -0.024       0.051\n",
       "Total_Floors                      -0.0205      0.020     -1.034      0.301      -0.059       0.018\n",
       "Age_of_Property                   -0.0157      0.017     -0.899      0.368      -0.050       0.019\n",
       "Nearby_Schools                     0.0521      0.060      0.875      0.381      -0.065       0.169\n",
       "Nearby_Hospitals                  -0.0537      0.060     -0.898      0.369      -0.171       0.063\n",
       "Public_Transport_Accessibility     0.2639      0.210      1.257      0.209      -0.147       0.675\n",
       "Parking_Space                      0.5369      0.343      1.566      0.117      -0.135       1.209\n",
       "Security                           0.5757      0.343      1.679      0.093      -0.096       1.248\n",
       "Amenities                          0.3140      0.032      9.915      0.000       0.252       0.376\n",
       "Facing                             0.2179      0.259      0.842      0.400      -0.290       0.725\n",
       "Availability_Status                0.4239      0.343      1.236      0.216      -0.248       1.096\n",
       "Broker                             0.0572      0.420      0.136      0.892      -0.766       0.880\n",
       "Builder                            0.5184      0.420      1.234      0.217      -0.305       1.342\n",
       "==============================================================================\n",
       "Omnibus:                    10206.713   Durbin-Watson:                   1.999\n",
       "Prob(Omnibus):                  0.000   Jarque-Bera (JB):            11862.303\n",
       "Skew:                          -0.597   Prob(JB):                         0.00\n",
       "Kurtosis:                       2.953   Cond. No.                     1.96e+06\n",
       "==============================================================================\n",
       "\n",
       "Notes:\n",
       "[1] Standard Errors assume that the covariance matrix of the errors is correctly specified.\n",
       "[2] The condition number is large, 1.96e+06. This might indicate that there are\n",
       "strong multicollinearity or other numerical problems.\n",
       "\"\"\""
      ]
     },
     "execution_count": 102,
     "metadata": {},
     "output_type": "execute_result"
    }
   ],
   "source": [
    "model2.summary()"
   ]
  },
  {
   "cell_type": "code",
   "execution_count": null,
   "id": "d071220d-2ed8-49ad-9c6b-b1f9c3226e65",
   "metadata": {},
   "outputs": [
    {
     "data": {
      "text/plain": [
       "119941    216.288743\n",
       "144142    174.109141\n",
       "114766    342.411361\n",
       "9596      239.748186\n",
       "34605      61.943357\n",
       "             ...    \n",
       "56300     470.347040\n",
       "179233    254.416641\n",
       "41911     201.430049\n",
       "115983    263.639120\n",
       "202441     80.824963\n",
       "Length: 199725, dtype: float64"
      ]
     },
     "execution_count": 103,
     "metadata": {},
     "output_type": "execute_result"
    }
   ],
   "source": [
    "model2.predict(xtrain_c)"
   ]
  },
  {
   "cell_type": "code",
   "execution_count": null,
   "id": "69a7fac0-9b59-4646-af3d-283218f846cb",
   "metadata": {},
   "outputs": [
    {
     "data": {
      "text/plain": [
       "Text(0, 0.5, 'Error terms')"
      ]
     },
     "execution_count": 104,
     "metadata": {},
     "output_type": "execute_result"
    },
    {
     "data": {
      "image/png": "[encoded data removed]",
      "text/plain": [
       "<Figure size 640x480 with 1 Axes>"
      ]
     },
     "metadata": {},
     "output_type": "display_data"
    }
   ],
   "source": [
    "sns.scatterplot(x=model2.predict(xtrain_c),y=model2.resid)\n",
    "plt.xlabel(\"Fitted values\")\n",
    "plt.ylabel(\"Error terms\")"
   ]
  },
  {
   "cell_type": "code",
   "execution_count": null,
   "id": "d079c335-481c-4e04-8eb8-c523e46848e4",
   "metadata": {},
   "outputs": [],
   "source": [
    "import statsmodels.stats.api as ssa"
   ]
  },
  {
   "cell_type": "code",
   "execution_count": null,
   "id": "e2df32a5-391c-46fd-a457-2843dbd5d2c9",
   "metadata": {},
   "outputs": [
    {
     "data": {
      "text/plain": [
       "(969.3284430454607, 0.0)"
      ]
     },
     "execution_count": 106,
     "metadata": {},
     "output_type": "execute_result"
    }
   ],
   "source": [
    "ssa.het_breuschpagan(model2.resid,model2.model.exog)[2::]"
   ]
  },
  {
   "cell_type": "code",
   "execution_count": null,
   "id": "90d2d3c6-72e3-49ce-9edc-ee52be8d604e",
   "metadata": {},
   "outputs": [],
   "source": [
    "# IF the 2 value is greater than 0.05 it is homosekcadtic \n",
    "# else heteroskadastic "
   ]
  },
  {
   "cell_type": "code",
   "execution_count": null,
   "id": "cd5e4b57-9538-463c-8f54-80c2727256f3",
   "metadata": {},
   "outputs": [],
   "source": [
    "from sklearn.preprocessing import StandardScaler # for scaling "
   ]
  },
  {
   "cell_type": "code",
   "execution_count": null,
   "id": "b144d954-2cae-4f12-9927-6eb8e8719263",
   "metadata": {},
   "outputs": [],
   "source": [
    "s=StandardScaler()"
   ]
  },
  {
   "cell_type": "code",
   "execution_count": null,
   "id": "4ba978cf-6c73-4d00-9cb7-15196e87bd5c",
   "metadata": {},
   "outputs": [],
   "source": [
    "for i in xtrain.columns:\n",
    "    xtrain[i]=s.fit_transform(xtrain[[i]])\n",
    "    xtest[i]=s.transform(xtest[[i]])\n",
    "    "
   ]
  },
  {
   "cell_type": "code",
   "execution_count": null,
   "id": "402d9069-16de-4e98-a327-c0f4105b908f",
   "metadata": {},
   "outputs": [
    {
     "data": {
      "image/png": "[encoded data removed]",
      "text/plain": [
       "<Figure size 1200x500 with 2 Axes>"
      ]
     },
     "metadata": {},
     "output_type": "display_data"
    }
   ],
   "source": [
    "\n",
    "from sklearn.linear_model import LinearRegression\n",
    "\n",
    "train_mse = []\n",
    "test_mse = []\n",
    "bias = []\n",
    "variance = []\n",
    "\n",
    "\n",
    "train_sizes = np.linspace(10, len(xtrain), 10, dtype=int)\n",
    "\n",
    "for size in train_sizes:\n",
    "    mse_list = []  \n",
    "    y_pred_list = []  \n",
    "    \n",
    "    for _ in range(20):  \n",
    "        X_sub, y_sub = xtrain[:size], ytrain[:size]\n",
    "        model = LinearRegression()\n",
    "        model.fit(X_sub, y_sub)\n",
    "        \n",
    "        y_pred = model.predict(xtest)\n",
    "        mse = mean_squared_error(ytest, y_pred)\n",
    "        \n",
    "        mse_list.append(mse)\n",
    "        y_pred_list.append(y_pred)\n",
    "    \n",
    "    \n",
    "    y_pred_avg = np.mean(y_pred_list, axis=0)\n",
    "    bias.append(np.mean((ytest - y_pred_avg) ** 2))\n",
    "    variance.append(np.mean(np.var(y_pred_list, axis=0)))\n",
    "\n",
    "\n",
    "    model.fit(xtrain[:size], ytrain[:size])\n",
    "    train_mse.append(mean_squared_error(ytrain[:size], model.predict(xtrain[:size])))\n",
    "    test_mse.append(mean_squared_error(ytest, model.predict(xtest)))\n",
    "\n",
    "\n",
    "plt.figure(figsize=(12, 5))\n",
    "plt.subplot(1, 2, 1)\n",
    "plt.plot(train_sizes, train_mse, label='Train MSE', marker='o')\n",
    "plt.plot(train_sizes, test_mse, label='Test MSE', marker='s')\n",
    "plt.xlabel(\"Training Set Size\")\n",
    "plt.ylabel(\"Mean Squared Error\")\n",
    "plt.title(\"Train vs Test MSE\")\n",
    "plt.legend()\n",
    "\n",
    "\n",
    "plt.subplot(1, 2, 2)\n",
    "plt.plot(train_sizes, bias, label='Bias', marker='o')\n",
    "plt.plot(train_sizes, variance, label='Variance', marker='s')\n",
    "plt.xlabel(\"Training Set Size\")\n",
    "plt.ylabel(\"Error\")\n",
    "plt.title(\"Bias-Variance Tradeoff\")\n",
    "plt.legend()\n",
    "\n",
    "plt.tight_layout()\n",
    "plt.show()\n"
   ]
  },
  {
   "cell_type": "code",
   "execution_count": null,
   "id": "91d953e3-5293-41d8-a592-3c1124b165b3",
   "metadata": {},
   "outputs": [],
   "source": [
    "from sklearn.preprocessing import PolynomialFeatures"
   ]
  },
  {
   "cell_type": "code",
   "execution_count": null,
   "id": "1fe49e04-f4fa-4cdd-a69b-d4f05a332d08",
   "metadata": {},
   "outputs": [],
   "source": [
    "xtrain2 = xtrain.copy()"
   ]
  },
  {
   "cell_type": "code",
   "execution_count": null,
   "id": "9cb5bfaa-cb62-46b6-a44a-32cf1763dd13",
   "metadata": {},
   "outputs": [],
   "source": [
    "xtest2 = xtest.copy()"
   ]
  },
  {
   "cell_type": "code",
   "execution_count": null,
   "id": "2ce93a39-a513-461a-acdc-f5cf5f8c574b",
   "metadata": {},
   "outputs": [],
   "source": [
    "p = PolynomialFeatures(degree=3)"
   ]
  },
  {
   "cell_type": "code",
   "execution_count": null,
   "id": "2101634d-0276-4169-824e-d023586fac73",
   "metadata": {},
   "outputs": [],
   "source": [
    "xtrain = p.fit_transform(xtrain)\n",
    "xtest = p.transform(xtest)"
   ]
  },
  {
   "cell_type": "code",
   "execution_count": null,
   "id": "4ec95cf8-dbf2-466d-ab4d-9faf1a44bb05",
   "metadata": {},
   "outputs": [],
   "source": [
    "from sklearn.linear_model import LinearRegression"
   ]
  },
  {
   "cell_type": "code",
   "execution_count": null,
   "id": "4623bd4f-6afd-49a0-9be5-cc669dc48ea6",
   "metadata": {},
   "outputs": [],
   "source": [
    "lr = LinearRegression()"
   ]
  },
  {
   "cell_type": "code",
   "execution_count": null,
   "id": "d9581014-0b90-461c-a935-8633008b881f",
   "metadata": {},
   "outputs": [
    {
     "data": {
      "text/html": [
       "<style>#sk-container-id-1 {\n",
       "  /* Definition of color scheme common for light and dark mode */\n",
       "  --sklearn-color-text: black;\n",
       "  --sklearn-color-line: gray;\n",
       "  /* Definition of color scheme for unfitted estimators */\n",
       "  --sklearn-color-unfitted-level-0: #fff5e6;\n",
       "  --sklearn-color-unfitted-level-1: #f6e4d2;\n",
       "  --sklearn-color-unfitted-level-2: #ffe0b3;\n",
       "  --sklearn-color-unfitted-level-3: chocolate;\n",
       "  /* Definition of color scheme for fitted estimators */\n",
       "  --sklearn-color-fitted-level-0: #f0f8ff;\n",
       "  --sklearn-color-fitted-level-1: #d4ebff;\n",
       "  --sklearn-color-fitted-level-2: #b3dbfd;\n",
       "  --sklearn-color-fitted-level-3: cornflowerblue;\n",
       "\n",
       "  /* Specific color for light theme */\n",
       "  --sklearn-color-text-on-default-background: var(--sg-text-color, var(--theme-code-foreground, var(--jp-content-font-color1, black)));\n",
       "  --sklearn-color-background: var(--sg-background-color, var(--theme-background, var(--jp-layout-color0, white)));\n",
       "  --sklearn-color-border-box: var(--sg-text-color, var(--theme-code-foreground, var(--jp-content-font-color1, black)));\n",
       "  --sklearn-color-icon: #696969;\n",
       "\n",
       "  @media (prefers-color-scheme: dark) {\n",
       "    /* Redefinition of color scheme for dark theme */\n",
       "    --sklearn-color-text-on-default-background: var(--sg-text-color, var(--theme-code-foreground, var(--jp-content-font-color1, white)));\n",
       "    --sklearn-color-background: var(--sg-background-color, var(--theme-background, var(--jp-layout-color0, #111)));\n",
       "    --sklearn-color-border-box: var(--sg-text-color, var(--theme-code-foreground, var(--jp-content-font-color1, white)));\n",
       "    --sklearn-color-icon: #878787;\n",
       "  }\n",
       "}\n",
       "\n",
       "#sk-container-id-1 {\n",
       "  color: var(--sklearn-color-text);\n",
       "}\n",
       "\n",
       "#sk-container-id-1 pre {\n",
       "  padding: 0;\n",
       "}\n",
       "\n",
       "#sk-container-id-1 input.sk-hidden--visually {\n",
       "  border: 0;\n",
       "  clip: rect(1px 1px 1px 1px);\n",
       "  clip: rect(1px, 1px, 1px, 1px);\n",
       "  height: 1px;\n",
       "  margin: -1px;\n",
       "  overflow: hidden;\n",
       "  padding: 0;\n",
       "  position: absolute;\n",
       "  width: 1px;\n",
       "}\n",
       "\n",
       "#sk-container-id-1 div.sk-dashed-wrapped {\n",
       "  border: 1px dashed var(--sklearn-color-line);\n",
       "  margin: 0 0.4em 0.5em 0.4em;\n",
       "  box-sizing: border-box;\n",
       "  padding-bottom: 0.4em;\n",
       "  background-color: var(--sklearn-color-background);\n",
       "}\n",
       "\n",
       "#sk-container-id-1 div.sk-container {\n",
       "  /* jupyter's `normalize.less` sets `[hidden] { display: none; }`\n",
       "     but bootstrap.min.css set `[hidden] { display: none !important; }`\n",
       "     so we also need the `!important` here to be able to override the\n",
       "     default hidden behavior on the sphinx rendered scikit-learn.org.\n",
       "     See: https://github.com/scikit-learn/scikit-learn/issues/21755 */\n",
       "  display: inline-block !important;\n",
       "  position: relative;\n",
       "}\n",
       "\n",
       "#sk-container-id-1 div.sk-text-repr-fallback {\n",
       "  display: none;\n",
       "}\n",
       "\n",
       "div.sk-parallel-item,\n",
       "div.sk-serial,\n",
       "div.sk-item {\n",
       "  /* draw centered vertical line to link estimators */\n",
       "  background-image: linear-gradient(var(--sklearn-color-text-on-default-background), var(--sklearn-color-text-on-default-background));\n",
       "  background-size: 2px 100%;\n",
       "  background-repeat: no-repeat;\n",
       "  background-position: center center;\n",
       "}\n",
       "\n",
       "/* Parallel-specific style estimator block */\n",
       "\n",
       "#sk-container-id-1 div.sk-parallel-item::after {\n",
       "  content: \"\";\n",
       "  width: 100%;\n",
       "  border-bottom: 2px solid var(--sklearn-color-text-on-default-background);\n",
       "  flex-grow: 1;\n",
       "}\n",
       "\n",
       "#sk-container-id-1 div.sk-parallel {\n",
       "  display: flex;\n",
       "  align-items: stretch;\n",
       "  justify-content: center;\n",
       "  background-color: var(--sklearn-color-background);\n",
       "  position: relative;\n",
       "}\n",
       "\n",
       "#sk-container-id-1 div.sk-parallel-item {\n",
       "  display: flex;\n",
       "  flex-direction: column;\n",
       "}\n",
       "\n",
       "#sk-container-id-1 div.sk-parallel-item:first-child::after {\n",
       "  align-self: flex-end;\n",
       "  width: 50%;\n",
       "}\n",
       "\n",
       "#sk-container-id-1 div.sk-parallel-item:last-child::after {\n",
       "  align-self: flex-start;\n",
       "  width: 50%;\n",
       "}\n",
       "\n",
       "#sk-container-id-1 div.sk-parallel-item:only-child::after {\n",
       "  width: 0;\n",
       "}\n",
       "\n",
       "/* Serial-specific style estimator block */\n",
       "\n",
       "#sk-container-id-1 div.sk-serial {\n",
       "  display: flex;\n",
       "  flex-direction: column;\n",
       "  align-items: center;\n",
       "  background-color: var(--sklearn-color-background);\n",
       "  padding-right: 1em;\n",
       "  padding-left: 1em;\n",
       "}\n",
       "\n",
       "\n",
       "/* Toggleable style: style used for estimator/Pipeline/ColumnTransformer box that is\n",
       "clickable and can be expanded/collapsed.\n",
       "- Pipeline and ColumnTransformer use this feature and define the default style\n",
       "- Estimators will overwrite some part of the style using the `sk-estimator` class\n",
       "*/\n",
       "\n",
       "/* Pipeline and ColumnTransformer style (default) */\n",
       "\n",
       "#sk-container-id-1 div.sk-toggleable {\n",
       "  /* Default theme specific background. It is overwritten whether we have a\n",
       "  specific estimator or a Pipeline/ColumnTransformer */\n",
       "  background-color: var(--sklearn-color-background);\n",
       "}\n",
       "\n",
       "/* Toggleable label */\n",
       "#sk-container-id-1 label.sk-toggleable__label {\n",
       "  cursor: pointer;\n",
       "  display: block;\n",
       "  width: 100%;\n",
       "  margin-bottom: 0;\n",
       "  padding: 0.5em;\n",
       "  box-sizing: border-box;\n",
       "  text-align: center;\n",
       "}\n",
       "\n",
       "#sk-container-id-1 label.sk-toggleable__label-arrow:before {\n",
       "  /* Arrow on the left of the label */\n",
       "  content: \"▸\";\n",
       "  float: left;\n",
       "  margin-right: 0.25em;\n",
       "  color: var(--sklearn-color-icon);\n",
       "}\n",
       "\n",
       "#sk-container-id-1 label.sk-toggleable__label-arrow:hover:before {\n",
       "  color: var(--sklearn-color-text);\n",
       "}\n",
       "\n",
       "/* Toggleable content - dropdown */\n",
       "\n",
       "#sk-container-id-1 div.sk-toggleable__content {\n",
       "  max-height: 0;\n",
       "  max-width: 0;\n",
       "  overflow: hidden;\n",
       "  text-align: left;\n",
       "  /* unfitted */\n",
       "  background-color: var(--sklearn-color-unfitted-level-0);\n",
       "}\n",
       "\n",
       "#sk-container-id-1 div.sk-toggleable__content.fitted {\n",
       "  /* fitted */\n",
       "  background-color: var(--sklearn-color-fitted-level-0);\n",
       "}\n",
       "\n",
       "#sk-container-id-1 div.sk-toggleable__content pre {\n",
       "  margin: 0.2em;\n",
       "  border-radius: 0.25em;\n",
       "  color: var(--sklearn-color-text);\n",
       "  /* unfitted */\n",
       "  background-color: var(--sklearn-color-unfitted-level-0);\n",
       "}\n",
       "\n",
       "#sk-container-id-1 div.sk-toggleable__content.fitted pre {\n",
       "  /* unfitted */\n",
       "  background-color: var(--sklearn-color-fitted-level-0);\n",
       "}\n",
       "\n",
       "#sk-container-id-1 input.sk-toggleable__control:checked~div.sk-toggleable__content {\n",
       "  /* Expand drop-down */\n",
       "  max-height: 200px;\n",
       "  max-width: 100%;\n",
       "  overflow: auto;\n",
       "}\n",
       "\n",
       "#sk-container-id-1 input.sk-toggleable__control:checked~label.sk-toggleable__label-arrow:before {\n",
       "  content: \"▾\";\n",
       "}\n",
       "\n",
       "/* Pipeline/ColumnTransformer-specific style */\n",
       "\n",
       "#sk-container-id-1 div.sk-label input.sk-toggleable__control:checked~label.sk-toggleable__label {\n",
       "  color: var(--sklearn-color-text);\n",
       "  background-color: var(--sklearn-color-unfitted-level-2);\n",
       "}\n",
       "\n",
       "#sk-container-id-1 div.sk-label.fitted input.sk-toggleable__control:checked~label.sk-toggleable__label {\n",
       "  background-color: var(--sklearn-color-fitted-level-2);\n",
       "}\n",
       "\n",
       "/* Estimator-specific style */\n",
       "\n",
       "/* Colorize estimator box */\n",
       "#sk-container-id-1 div.sk-estimator input.sk-toggleable__control:checked~label.sk-toggleable__label {\n",
       "  /* unfitted */\n",
       "  background-color: var(--sklearn-color-unfitted-level-2);\n",
       "}\n",
       "\n",
       "#sk-container-id-1 div.sk-estimator.fitted input.sk-toggleable__control:checked~label.sk-toggleable__label {\n",
       "  /* fitted */\n",
       "  background-color: var(--sklearn-color-fitted-level-2);\n",
       "}\n",
       "\n",
       "#sk-container-id-1 div.sk-label label.sk-toggleable__label,\n",
       "#sk-container-id-1 div.sk-label label {\n",
       "  /* The background is the default theme color */\n",
       "  color: var(--sklearn-color-text-on-default-background);\n",
       "}\n",
       "\n",
       "/* On hover, darken the color of the background */\n",
       "#sk-container-id-1 div.sk-label:hover label.sk-toggleable__label {\n",
       "  color: var(--sklearn-color-text);\n",
       "  background-color: var(--sklearn-color-unfitted-level-2);\n",
       "}\n",
       "\n",
       "/* Label box, darken color on hover, fitted */\n",
       "#sk-container-id-1 div.sk-label.fitted:hover label.sk-toggleable__label.fitted {\n",
       "  color: var(--sklearn-color-text);\n",
       "  background-color: var(--sklearn-color-fitted-level-2);\n",
       "}\n",
       "\n",
       "/* Estimator label */\n",
       "\n",
       "#sk-container-id-1 div.sk-label label {\n",
       "  font-family: monospace;\n",
       "  font-weight: bold;\n",
       "  display: inline-block;\n",
       "  line-height: 1.2em;\n",
       "}\n",
       "\n",
       "#sk-container-id-1 div.sk-label-container {\n",
       "  text-align: center;\n",
       "}\n",
       "\n",
       "/* Estimator-specific */\n",
       "#sk-container-id-1 div.sk-estimator {\n",
       "  font-family: monospace;\n",
       "  border: 1px dotted var(--sklearn-color-border-box);\n",
       "  border-radius: 0.25em;\n",
       "  box-sizing: border-box;\n",
       "  margin-bottom: 0.5em;\n",
       "  /* unfitted */\n",
       "  background-color: var(--sklearn-color-unfitted-level-0);\n",
       "}\n",
       "\n",
       "#sk-container-id-1 div.sk-estimator.fitted {\n",
       "  /* fitted */\n",
       "  background-color: var(--sklearn-color-fitted-level-0);\n",
       "}\n",
       "\n",
       "/* on hover */\n",
       "#sk-container-id-1 div.sk-estimator:hover {\n",
       "  /* unfitted */\n",
       "  background-color: var(--sklearn-color-unfitted-level-2);\n",
       "}\n",
       "\n",
       "#sk-container-id-1 div.sk-estimator.fitted:hover {\n",
       "  /* fitted */\n",
       "  background-color: var(--sklearn-color-fitted-level-2);\n",
       "}\n",
       "\n",
       "/* Specification for estimator info (e.g. \"i\" and \"?\") */\n",
       "\n",
       "/* Common style for \"i\" and \"?\" */\n",
       "\n",
       ".sk-estimator-doc-link,\n",
       "a:link.sk-estimator-doc-link,\n",
       "a:visited.sk-estimator-doc-link {\n",
       "  float: right;\n",
       "  font-size: smaller;\n",
       "  line-height: 1em;\n",
       "  font-family: monospace;\n",
       "  background-color: var(--sklearn-color-background);\n",
       "  border-radius: 1em;\n",
       "  height: 1em;\n",
       "  width: 1em;\n",
       "  text-decoration: none !important;\n",
       "  margin-left: 1ex;\n",
       "  /* unfitted */\n",
       "  border: var(--sklearn-color-unfitted-level-1) 1pt solid;\n",
       "  color: var(--sklearn-color-unfitted-level-1);\n",
       "}\n",
       "\n",
       ".sk-estimator-doc-link.fitted,\n",
       "a:link.sk-estimator-doc-link.fitted,\n",
       "a:visited.sk-estimator-doc-link.fitted {\n",
       "  /* fitted */\n",
       "  border: var(--sklearn-color-fitted-level-1) 1pt solid;\n",
       "  color: var(--sklearn-color-fitted-level-1);\n",
       "}\n",
       "\n",
       "/* On hover */\n",
       "div.sk-estimator:hover .sk-estimator-doc-link:hover,\n",
       ".sk-estimator-doc-link:hover,\n",
       "div.sk-label-container:hover .sk-estimator-doc-link:hover,\n",
       ".sk-estimator-doc-link:hover {\n",
       "  /* unfitted */\n",
       "  background-color: var(--sklearn-color-unfitted-level-3);\n",
       "  color: var(--sklearn-color-background);\n",
       "  text-decoration: none;\n",
       "}\n",
       "\n",
       "div.sk-estimator.fitted:hover .sk-estimator-doc-link.fitted:hover,\n",
       ".sk-estimator-doc-link.fitted:hover,\n",
       "div.sk-label-container:hover .sk-estimator-doc-link.fitted:hover,\n",
       ".sk-estimator-doc-link.fitted:hover {\n",
       "  /* fitted */\n",
       "  background-color: var(--sklearn-color-fitted-level-3);\n",
       "  color: var(--sklearn-color-background);\n",
       "  text-decoration: none;\n",
       "}\n",
       "\n",
       "/* Span, style for the box shown on hovering the info icon */\n",
       ".sk-estimator-doc-link span {\n",
       "  display: none;\n",
       "  z-index: 9999;\n",
       "  position: relative;\n",
       "  font-weight: normal;\n",
       "  right: .2ex;\n",
       "  padding: .5ex;\n",
       "  margin: .5ex;\n",
       "  width: min-content;\n",
       "  min-width: 20ex;\n",
       "  max-width: 50ex;\n",
       "  color: var(--sklearn-color-text);\n",
       "  box-shadow: 2pt 2pt 4pt #999;\n",
       "  /* unfitted */\n",
       "  background: var(--sklearn-color-unfitted-level-0);\n",
       "  border: .5pt solid var(--sklearn-color-unfitted-level-3);\n",
       "}\n",
       "\n",
       ".sk-estimator-doc-link.fitted span {\n",
       "  /* fitted */\n",
       "  background: var(--sklearn-color-fitted-level-0);\n",
       "  border: var(--sklearn-color-fitted-level-3);\n",
       "}\n",
       "\n",
       ".sk-estimator-doc-link:hover span {\n",
       "  display: block;\n",
       "}\n",
       "\n",
       "/* \"?\"-specific style due to the `<a>` HTML tag */\n",
       "\n",
       "#sk-container-id-1 a.estimator_doc_link {\n",
       "  float: right;\n",
       "  font-size: 1rem;\n",
       "  line-height: 1em;\n",
       "  font-family: monospace;\n",
       "  background-color: var(--sklearn-color-background);\n",
       "  border-radius: 1rem;\n",
       "  height: 1rem;\n",
       "  width: 1rem;\n",
       "  text-decoration: none;\n",
       "  /* unfitted */\n",
       "  color: var(--sklearn-color-unfitted-level-1);\n",
       "  border: var(--sklearn-color-unfitted-level-1) 1pt solid;\n",
       "}\n",
       "\n",
       "#sk-container-id-1 a.estimator_doc_link.fitted {\n",
       "  /* fitted */\n",
       "  border: var(--sklearn-color-fitted-level-1) 1pt solid;\n",
       "  color: var(--sklearn-color-fitted-level-1);\n",
       "}\n",
       "\n",
       "/* On hover */\n",
       "#sk-container-id-1 a.estimator_doc_link:hover {\n",
       "  /* unfitted */\n",
       "  background-color: var(--sklearn-color-unfitted-level-3);\n",
       "  color: var(--sklearn-color-background);\n",
       "  text-decoration: none;\n",
       "}\n",
       "\n",
       "#sk-container-id-1 a.estimator_doc_link.fitted:hover {\n",
       "  /* fitted */\n",
       "  background-color: var(--sklearn-color-fitted-level-3);\n",
       "}\n",
       "</style><div id=\"sk-container-id-1\" class=\"sk-top-container\"><div class=\"sk-text-repr-fallback\"><pre>LinearRegression()</pre><b>In a Jupyter environment, please rerun this cell to show the HTML representation or trust the notebook. <br />On GitHub, the HTML representation is unable to render, please try loading this page with nbviewer.org.</b></div><div class=\"sk-container\" hidden><div class=\"sk-item\"><div class=\"sk-estimator fitted sk-toggleable\"><input class=\"sk-toggleable__control sk-hidden--visually\" id=\"sk-estimator-id-1\" type=\"checkbox\" checked><label for=\"sk-estimator-id-1\" class=\"sk-toggleable__label fitted sk-toggleable__label-arrow fitted\">&nbsp;&nbsp;LinearRegression<a class=\"sk-estimator-doc-link fitted\" rel=\"noreferrer\" target=\"_blank\" href=\"https://scikit-learn.org/1.5/modules/generated/sklearn.linear_model.LinearRegression.html\">?<span>Documentation for LinearRegression</span></a><span class=\"sk-estimator-doc-link fitted\">i<span>Fitted</span></span></label><div class=\"sk-toggleable__content fitted\"><pre>LinearRegression()</pre></div> </div></div></div></div>"
      ],
      "text/plain": [
       "LinearRegression()"
      ]
     },
     "execution_count": 120,
     "metadata": {},
     "output_type": "execute_result"
    }
   ],
   "source": [
    "lr.fit(xtrain,ytrain)"
   ]
  },
  {
   "cell_type": "code",
   "execution_count": null,
   "id": "6dd12964-d387-4349-b20b-59ad881f0ceb",
   "metadata": {},
   "outputs": [
    {
     "data": {
      "text/plain": [
       "-3.328470952398663e+18"
      ]
     },
     "execution_count": 121,
     "metadata": {},
     "output_type": "execute_result"
    }
   ],
   "source": [
    "r2_score(ytest,lr.predict(xtest))"
   ]
  },
  {
   "cell_type": "code",
   "execution_count": null,
   "id": "b3eb6924-4a26-4025-be20-1cc84ac32517",
   "metadata": {},
   "outputs": [],
   "source": []
  },
  {
   "cell_type": "code",
   "execution_count": null,
   "id": "646be947-a588-4c8d-b7a2-2348b11d0274",
   "metadata": {},
   "outputs": [],
   "source": []
  },
  {
   "cell_type": "code",
   "execution_count": null,
   "id": "ad20c7d0-6d04-4b6a-b808-610c8d648eea",
   "metadata": {},
   "outputs": [],
   "source": []
  },
  {
   "cell_type": "code",
   "execution_count": null,
   "id": "be04dd5a-b5bf-44b9-a510-5eb32454440e",
   "metadata": {},
   "outputs": [],
   "source": []
  },
  {
   "cell_type": "code",
   "execution_count": null,
   "id": "6d09148a-218e-4c9e-88ea-84274c9f89b4",
   "metadata": {},
   "outputs": [],
   "source": []
  },
  {
   "cell_type": "code",
   "execution_count": null,
   "id": "3789fa75-b8c2-4790-a99b-f393564461d9",
   "metadata": {},
   "outputs": [],
   "source": []
  },
  {
   "cell_type": "code",
   "execution_count": null,
   "id": "04060b2c-9678-4c4e-a546-f43bc0dbd391",
   "metadata": {},
   "outputs": [],
   "source": []
  },
  {
   "cell_type": "code",
   "execution_count": null,
   "id": "7d9b34ab-d92f-4545-b7ef-17f3dddca974",
   "metadata": {},
   "outputs": [],
   "source": []
  },
  {
   "cell_type": "code",
   "execution_count": null,
   "id": "a34d73a8-f77c-4f12-97df-442520316f53",
   "metadata": {},
   "outputs": [],
   "source": []
  },
  {
   "cell_type": "code",
   "execution_count": null,
   "id": "9a8d3433-cafc-4dc3-878a-438c13225ae2",
   "metadata": {},
   "outputs": [],
   "source": []
  },
  {
   "cell_type": "code",
   "execution_count": null,
   "id": "94f537c5-a112-4262-a25d-5748b4aa4a2d",
   "metadata": {},
   "outputs": [],
   "source": []
  }
 ],
 "metadata": {
  "kernelspec": {
   "display_name": ".venv",
   "language": "python",
   "name": "python3"
  },
  "language_info": {
   "codemirror_mode": {
    "name": "ipython",
    "version": 3
   },
   "file_extension": ".py",
   "mimetype": "text/x-python",
   "name": "python",
   "nbconvert_exporter": "python",
   "pygments_lexer": "ipython3",
   "version": "3.13.2"
  }
 },
 "nbformat": 4,
 "nbformat_minor": 5
}
