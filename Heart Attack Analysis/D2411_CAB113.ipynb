{
 "cells": [
  {
   "cell_type": "code",
   "execution_count": null,
   "id": "f3066706",
   "metadata": {},
   "outputs": [],
   "source": [
    "import pandas as pd\n",
    "import numpy as np\n",
    "import seaborn as sns\n",
    "import matplotlib.pyplot as plt\n",
    "pd.set_option(\"display.max_columns\",None)\n",
    "import warnings\n",
    "warnings.filterwarnings(\"ignore\")\n",
    "from sklearn.model_selection import train_test_split"
   ]
  },
  {
   "cell_type": "code",
   "execution_count": null,
   "id": "be7f7fe4",
   "metadata": {},
   "outputs": [],
   "source": [
    "data =pd.read_csv(\"heart_attack_russia_youth_vs_adult.csv\")\n"
   ]
  },
  {
   "cell_type": "markdown",
   "id": "10d4d9ba-691e-46e0-9723-4fb9c0240c61",
   "metadata": {},
   "source": [
    "# Heart_Attack is my target variable."
   ]
  },
  {
   "cell_type": "code",
   "execution_count": null,
   "id": "8c8e0f5e",
   "metadata": {},
   "outputs": [],
   "source": [
    "data.head()"
   ]
  },
  {
   "cell_type": "code",
   "execution_count": null,
   "id": "9a200d9f-824e-4ad8-b1a9-e17a07a27c80",
   "metadata": {},
   "outputs": [],
   "source": [
    "data.info() #no inconsistent data type "
   ]
  },
  {
   "cell_type": "markdown",
   "id": "b300d94b",
   "metadata": {},
   "source": [
    "# Checking redundant columns i.e. ID"
   ]
  },
  {
   "cell_type": "code",
   "execution_count": null,
   "id": "e2e4e6c7",
   "metadata": {},
   "outputs": [],
   "source": [
    "data.drop(\"ID\",axis=1,inplace=True)"
   ]
  },
  {
   "cell_type": "code",
   "execution_count": null,
   "id": "0f0f68dd",
   "metadata": {},
   "outputs": [],
   "source": [
    "data.shape"
   ]
  },
  {
   "cell_type": "code",
   "execution_count": null,
   "id": "c8f4c276-d956-4edf-ba34-02b607988839",
   "metadata": {},
   "outputs": [],
   "source": [
    "data.head(1)"
   ]
  },
  {
   "cell_type": "markdown",
   "id": "a6fa8d69",
   "metadata": {},
   "source": [
    "# Checking duplicate rows "
   ]
  },
  {
   "cell_type": "code",
   "execution_count": null,
   "id": "d5417454",
   "metadata": {},
   "outputs": [],
   "source": [
    "data.duplicated()"
   ]
  },
  {
   "cell_type": "code",
   "execution_count": null,
   "id": "675844fb",
   "metadata": {},
   "outputs": [],
   "source": [
    "data[data.duplicated()]"
   ]
  },
  {
   "cell_type": "markdown",
   "id": "9afa0264",
   "metadata": {},
   "source": [
    "# Checking null values "
   ]
  },
  {
   "cell_type": "code",
   "execution_count": null,
   "id": "53abe5bb-b861-41e6-bbf7-58c949cda13d",
   "metadata": {},
   "outputs": [],
   "source": [
    "data.shape"
   ]
  },
  {
   "cell_type": "code",
   "execution_count": null,
   "id": "95193493",
   "metadata": {},
   "outputs": [],
   "source": [
    "data.isnull().sum()/data.shape[0]*100"
   ]
  },
  {
   "cell_type": "code",
   "execution_count": null,
   "id": "31d9bdec",
   "metadata": {},
   "outputs": [],
   "source": [
    "data.Heart_Attack.unique()"
   ]
  },
  {
   "cell_type": "code",
   "execution_count": null,
   "id": "5c050ad6-6849-4ca0-a5ff-1962c383adf7",
   "metadata": {},
   "outputs": [],
   "source": [
    "d = data[data[\"Heart_Attack\"].isnull()==True].index"
   ]
  },
  {
   "cell_type": "code",
   "execution_count": null,
   "id": "9600b8c1-65be-4b64-8a53-df45eb861d00",
   "metadata": {},
   "outputs": [],
   "source": [
    "d"
   ]
  },
  {
   "cell_type": "code",
   "execution_count": null,
   "id": "e39cd303-286e-4ba1-9825-672cf9bb032d",
   "metadata": {},
   "outputs": [],
   "source": [
    "data.drop(d,inplace=True)"
   ]
  },
  {
   "cell_type": "markdown",
   "id": "2c04cde8",
   "metadata": {},
   "source": [
    "# Filling null values "
   ]
  },
  {
   "cell_type": "code",
   "execution_count": null,
   "id": "a3196721",
   "metadata": {},
   "outputs": [],
   "source": [
    "data.isnull().sum()/data.shape[0]*100"
   ]
  },
  {
   "cell_type": "code",
   "execution_count": null,
   "id": "24513b47",
   "metadata": {},
   "outputs": [],
   "source": [
    "for i in data.select_dtypes(include=\"object\"):\n",
    "    data[i].fillna(data[i].mode()[0],inplace=True)"
   ]
  },
  {
   "cell_type": "code",
   "execution_count": null,
   "id": "7b7f8c0e-31b5-4ec9-a154-9370673ff2dd",
   "metadata": {},
   "outputs": [],
   "source": [
    "data.Alcohol_Consumption.mode()[0]"
   ]
  },
  {
   "cell_type": "code",
   "execution_count": null,
   "id": "37840184",
   "metadata": {},
   "outputs": [],
   "source": [
    "for i in data.select_dtypes(exclude=\"object\"):\n",
    "    data[i].fillna(data[i].mean(),inplace=True)"
   ]
  },
  {
   "cell_type": "code",
   "execution_count": null,
   "id": "f38583f9-c20f-45f8-b9d7-4af1f9d930d0",
   "metadata": {},
   "outputs": [],
   "source": [
    "data.isnull().sum()/data.shape[0]*100"
   ]
  },
  {
   "cell_type": "code",
   "execution_count": null,
   "id": "7303bef4",
   "metadata": {},
   "outputs": [],
   "source": [
    "data.Heart_Attack = data[\"Heart_Attack\"].astype(np.number)"
   ]
  },
  {
   "cell_type": "code",
   "execution_count": null,
   "id": "59c02584-fa2c-4bd8-b1f2-d31335f6a587",
   "metadata": {},
   "outputs": [],
   "source": [
    "x=data.drop(\"Heart_Attack\",axis=1)\n",
    "y=data.Heart_Attack"
   ]
  },
  {
   "cell_type": "code",
   "execution_count": null,
   "id": "d4e48e9a-72c6-45d1-bb00-f6201b9d7106",
   "metadata": {},
   "outputs": [],
   "source": [
    "xtrain,xtest,ytrain,ytest=train_test_split(x,y,test_size=0.2,random_state=13)"
   ]
  },
  {
   "cell_type": "markdown",
   "id": "4e084e5d-ffd6-48d7-a633-9263b821137a",
   "metadata": {},
   "source": [
    "## **Outlier treatment**"
   ]
  },
  {
   "cell_type": "code",
   "execution_count": null,
   "id": "dd7e7568-99f0-4fc5-81d3-4cbd85e00790",
   "metadata": {},
   "outputs": [],
   "source": [
    "for i in xtrain.select_dtypes(include=np.number):\n",
    "    q1=xtrain[i].quantile(0.25)\n",
    "    q3=xtrain[i].quantile(0.75)\n",
    "    iqr=q3-q1\n",
    "    u=q3+1.5*iqr\n",
    "    l=q1-1.5*iqr\n",
    "    xtrain[i]=xtrain[i].clip(lower=l,upper=u)"
   ]
  },
  {
   "cell_type": "code",
   "execution_count": null,
   "id": "b593c490",
   "metadata": {},
   "outputs": [],
   "source": [
    "for i in xtrain.select_dtypes(include=\"object\"):\n",
    "    print(i)\n",
    "    print(xtrain[i].unique())"
   ]
  },
  {
   "cell_type": "markdown",
   "id": "b3e8b650",
   "metadata": {},
   "source": [
    "### **Ordinal Data - Ordered Data which have co-relation**"
   ]
  },
  {
   "cell_type": "markdown",
   "id": "9b172e00",
   "metadata": {},
   "source": [
    "##"
   ]
  },
  {
   "cell_type": "code",
   "execution_count": null,
   "id": "5b945741",
   "metadata": {},
   "outputs": [],
   "source": [
    "xtrain['Physical_Activity'] = xtrain['Physical_Activity'].apply(lambda x : 3 if x == 'High' else 2 if x == 'Moderate' else 1)\n",
    "# xtest[\"Physical_Activity\"] = xtest[\"Physical_Activity\"].apply(lambda x : 3 if x == \"High\" else 2 if x == \"Moderate\" else 1)"
   ]
  },
  {
   "cell_type": "code",
   "execution_count": null,
   "id": "33f185ad",
   "metadata": {},
   "outputs": [],
   "source": [
    "xtrain"
   ]
  },
  {
   "cell_type": "code",
   "execution_count": null,
   "id": "26c5ff3f",
   "metadata": {},
   "outputs": [],
   "source": [
    "xtrain[\"Physical_Activity\"].unique()"
   ]
  },
  {
   "cell_type": "code",
   "execution_count": null,
   "id": "a614c9da",
   "metadata": {},
   "outputs": [],
   "source": [
    "xtrain['Education_Level'] = xtrain['Education_Level'].apply(lambda x : 3 if x == 'Higher' else 2 if x == 'Secondary' else 1)"
   ]
  },
  {
   "cell_type": "code",
   "execution_count": null,
   "id": "3ec7a1f0",
   "metadata": {},
   "outputs": [],
   "source": [
    "xtrain[\"Education_Level\"].unique()"
   ]
  },
  {
   "cell_type": "code",
   "execution_count": null,
   "id": "59e857bf",
   "metadata": {},
   "outputs": [],
   "source": [
    "xtrain['Diet'] = xtrain['Diet'].apply(lambda x : 3 if x == 'Mixed' else 2 if x == 'Healthy' else 1)"
   ]
  },
  {
   "cell_type": "code",
   "execution_count": null,
   "id": "57afe022",
   "metadata": {},
   "outputs": [],
   "source": [
    "xtrain['Diet'].unique()"
   ]
  },
  {
   "cell_type": "code",
   "execution_count": null,
   "id": "4ffc8501",
   "metadata": {},
   "outputs": [],
   "source": [
    "xtrain['Alcohol_Consumption'] = xtrain['Alcohol_Consumption'].apply(lambda x : 3 if x == 'Moderate' else 2 if x == 'Healthy' else 1)"
   ]
  },
  {
   "cell_type": "markdown",
   "id": "4d3993f8",
   "metadata": {},
   "source": [
    "### **Nominal Data - Unordered Data which dont have any corelation**"
   ]
  },
  {
   "cell_type": "markdown",
   "id": "d6f0953d",
   "metadata": {},
   "source": [
    "Urban_Rural, Obesity, Smoking, Diabeties, Family_History"
   ]
  },
  {
   "cell_type": "code",
   "execution_count": null,
   "id": "9df3b5c9",
   "metadata": {},
   "outputs": [],
   "source": [
    "xtrain[\"Obesity\"] = xtrain[\"Obesity\"].apply(lambda x : 1 if x == True else 0)"
   ]
  },
  {
   "cell_type": "code",
   "execution_count": null,
   "id": "e685a244",
   "metadata": {},
   "outputs": [],
   "source": [
    "xtrain[\"Obesity\"].unique()"
   ]
  },
  {
   "cell_type": "code",
   "execution_count": null,
   "id": "1666d388",
   "metadata": {},
   "outputs": [],
   "source": [
    "xtrain['Urban_Rural'] = xtrain['Urban_Rural'].apply(lambda x : 1 if x == 'Urban'else 0)"
   ]
  },
  {
   "cell_type": "code",
   "execution_count": null,
   "id": "ad546ff1",
   "metadata": {},
   "outputs": [],
   "source": [
    "xtrain[\"Urban_Rural\"].unique()"
   ]
  },
  {
   "cell_type": "markdown",
   "id": "e74c6555",
   "metadata": {},
   "source": [
    "### **One Hot Encoding**"
   ]
  },
  {
   "cell_type": "code",
   "execution_count": null,
   "id": "979a37ce",
   "metadata": {},
   "outputs": [],
   "source": [
    "marital = pd.get_dummies(xtrain[\"Marital_Status\"])\n",
    "marital = marital.astype(np.number)\n",
    "marital\n",
    "\n",
    "xtrain = pd.concat([xtrain, marital], axis=1)\n",
    "xtrain.drop(\"Marital_Status\", axis = 1, inplace = True)\n",
    "xtrain"
   ]
  },
  {
   "cell_type": "markdown",
   "id": "d3675efc",
   "metadata": {},
   "source": [
    "Normalize = True is used to convery the values in percentage"
   ]
  },
  {
   "cell_type": "code",
   "execution_count": null,
   "id": "11222f1f",
   "metadata": {},
   "outputs": [],
   "source": [
    "xtrain[\"Occupation\"].value_counts(normalize=True) * 100"
   ]
  },
  {
   "cell_type": "markdown",
   "id": "66717a14",
   "metadata": {},
   "source": [
    "## **Outlier Treatment**"
   ]
  },
  {
   "cell_type": "code",
   "execution_count": null,
   "id": "5448ca02",
   "metadata": {},
   "outputs": [],
   "source": [
    "for i in xtrain.select_dtypes(include=\"np.number\"):\n",
    "    q1 = xtrain[i].quantile(0.25)\n",
    "    q3 = xtrain[i].quantile(0.75)\n",
    "    iqr = q3 - q1\n",
    "    u = q3 + 1.5 * iqr\n",
    "    l = q1 - 1.5 * iqr\n",
    "    xtrain[i] = xtrain[i].clip(lower=l, upper=u)\n",
    "    xtest[i] = xtest[i].clip(lower=l, upper=u)"
   ]
  },
  {
   "cell_type": "code",
   "execution_count": null,
   "id": "0847aa1f",
   "metadata": {},
   "outputs": [],
   "source": [
    "data[\"\"].value_counts(normalize=True) * 100"
   ]
  }
 ],
 "metadata": {
  "kernelspec": {
   "display_name": "Python 3",
   "language": "python",
   "name": "python3"
  },
  "language_info": {
   "codemirror_mode": {
    "name": "ipython",
    "version": 3
   },
   "file_extension": ".py",
   "mimetype": "text/x-python",
   "name": "python",
   "nbconvert_exporter": "python",
   "pygments_lexer": "ipython3",
   "version": "3.11.9"
  }
 },
 "nbformat": 4,
 "nbformat_minor": 5
}
