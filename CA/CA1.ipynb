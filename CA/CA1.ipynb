{
 "cells": [
  {
   "cell_type": "markdown",
   "metadata": {},
   "source": [
    "### **Question 1**"
   ]
  },
  {
   "cell_type": "markdown",
   "metadata": {},
   "source": [
    "You have a list of item prices: [120, 250, 75, 310, 95]. You want to apply a 10% discount \n",
    "to all items that cost more than $100, while keeping the prices of other items unchanged. \n",
    "Write a Python list comprehension to generate a new list with the updated prices. "
   ]
  },
  {
   "cell_type": "code",
   "execution_count": 25,
   "metadata": {},
   "outputs": [
    {
     "data": {
      "text/plain": [
       "[108.0, 225.0, 75, 279.0, 95]"
      ]
     },
     "execution_count": 25,
     "metadata": {},
     "output_type": "execute_result"
    }
   ],
   "source": [
    "l = [120, 250, 75, 310, 95]\n",
    "price = [ i * 0.9 if(i>100) else i for i in l]\n",
    "\n",
    "price"
   ]
  },
  {
   "cell_type": "markdown",
   "metadata": {},
   "source": [
    "### **Question 2**"
   ]
  },
  {
   "cell_type": "markdown",
   "metadata": {},
   "source": [
    "Your kids have completed the following chores: [\"Dishes\", \"Laundry\", \"Vacuum\", \"Mop\", \"Trash\"]. You want to create a list of chores that contain the letter 'o'. Write a Python list comprehension to filter out only the chores that include the letter 'o' in their name."
   ]
  },
  {
   "cell_type": "code",
   "execution_count": 26,
   "metadata": {},
   "outputs": [
    {
     "data": {
      "text/plain": [
       "['Mop']"
      ]
     },
     "execution_count": 26,
     "metadata": {},
     "output_type": "execute_result"
    }
   ],
   "source": [
    "chores = [\"Dishes\", \"Laundry\", \"Vacuum\", \"Mop\", \"Trash\"]\n",
    "o = [i for i in chores if 'o' in i]\n",
    "\n",
    "o"
   ]
  },
  {
   "cell_type": "markdown",
   "metadata": {},
   "source": [
    "### **Question 3**"
   ]
  },
  {
   "cell_type": "markdown",
   "metadata": {},
   "source": [
    "You have a list of words: \n",
    "words = [\"apple\", \"banana\", \"cherry\", \"date\", \"grape\"] \n",
    "Write a Python dictionary comprehension to create a dictionary where: \n",
    "The keys are the words from the list. \n",
    "The values represent the length of each word (i.e., the number of characters in the word). \n",
    "Your output should be a dictionary mapping each word to its length."
   ]
  },
  {
   "cell_type": "code",
   "execution_count": 27,
   "metadata": {},
   "outputs": [
    {
     "data": {
      "text/plain": [
       "{'apple': 5, 'banana': 6, 'cherry': 6, 'date': 4, 'grape': 5}"
      ]
     },
     "execution_count": 27,
     "metadata": {},
     "output_type": "execute_result"
    }
   ],
   "source": [
    "words = [\"apple\", \"banana\", \"cherry\", \"date\", \"grape\"]\n",
    "length = {i : len(i) for i in words}\n",
    "\n",
    "length"
   ]
  },
  {
   "cell_type": "markdown",
   "metadata": {},
   "source": [
    "### **Question 4**"
   ]
  },
  {
   "cell_type": "markdown",
   "metadata": {},
   "source": [
    "Write a lambda function that calculate x^n for a given x, n"
   ]
  },
  {
   "cell_type": "code",
   "execution_count": 28,
   "metadata": {},
   "outputs": [
    {
     "data": {
      "text/plain": [
       "8"
      ]
     },
     "execution_count": 28,
     "metadata": {},
     "output_type": "execute_result"
    }
   ],
   "source": [
    "power = lambda x, n : x**n\n",
    "power(2, 3)"
   ]
  },
  {
   "cell_type": "markdown",
   "metadata": {},
   "source": [
    "### **Question 5**"
   ]
  },
  {
   "cell_type": "markdown",
   "metadata": {},
   "source": [
    "Write a lambda function to find the maximum of three given numbers. "
   ]
  },
  {
   "cell_type": "code",
   "execution_count": 29,
   "metadata": {},
   "outputs": [
    {
     "data": {
      "text/plain": [
       "30"
      ]
     },
     "execution_count": 29,
     "metadata": {},
     "output_type": "execute_result"
    }
   ],
   "source": [
    "maximum = lambda a, b, c: a if (a > b and a > c) else (b if b > c else c)\n",
    "\n",
    "maximum(10, 20, 30)"
   ]
  },
  {
   "cell_type": "markdown",
   "metadata": {},
   "source": [
    "### **Question 6**"
   ]
  },
  {
   "cell_type": "markdown",
   "metadata": {},
   "source": [
    "Suppose you have a list of coins in a piggy bank, represented as their values  \n",
    "coins= [1, 5, 10, 25, 50] \n",
    "Write a for loop to calculate the total amount of money in the piggy bank."
   ]
  },
  {
   "cell_type": "code",
   "execution_count": 30,
   "metadata": {},
   "outputs": [
    {
     "name": "stdout",
     "output_type": "stream",
     "text": [
      "Total amount in the piggy bank would be: 91\n"
     ]
    }
   ],
   "source": [
    "coins = [1, 5, 10, 25, 50]\n",
    "amount = 0\n",
    "\n",
    "for i in coins:\n",
    "    amount+=i\n",
    "\n",
    "print(f\"Total amount in the piggy bank would be: {amount}\")"
   ]
  }
 ],
 "metadata": {
  "kernelspec": {
   "display_name": "Python 3",
   "language": "python",
   "name": "python3"
  },
  "language_info": {
   "codemirror_mode": {
    "name": "ipython",
    "version": 3
   },
   "file_extension": ".py",
   "mimetype": "text/x-python",
   "name": "python",
   "nbconvert_exporter": "python",
   "pygments_lexer": "ipython3",
   "version": "3.11.9"
  }
 },
 "nbformat": 4,
 "nbformat_minor": 2
}
