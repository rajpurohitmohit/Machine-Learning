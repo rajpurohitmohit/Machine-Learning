{
 "cells": [
  {
   "cell_type": "code",
   "execution_count": null,
   "metadata": {},
   "outputs": [],
   "source": [
    "grades = {'Alice': 'A', 'Bob': 'B', 'Charlie': 'A', 'David': 'C', 'Eve': 'B'}\n",
    "\n",
    "# Reversing the dictionary using dictionary comprehension\n",
    "reversed_grades = {grade: [name for name in grades if grades[name] == grade] for grade in grades.values()}\n",
    "\n",
    "print(reversed_grades)"
   ]
  },
  {
   "cell_type": "code",
   "execution_count": null,
   "metadata": {},
   "outputs": [],
   "source": [
    "dictionary = { i : i*2 for i in range(1,21) if(i%2==0)}\n",
    "dictionary"
   ]
  },
  {
   "cell_type": "code",
   "execution_count": null,
   "metadata": {},
   "outputs": [],
   "source": [
    "palindrome = lambda x: x == x[::-1]\n",
    "palindrome(\"radar\")"
   ]
  },
  {
   "cell_type": "code",
   "execution_count": null,
   "metadata": {},
   "outputs": [],
   "source": [
    "evenodd = lambda x: (\"Even\" if x%2==0 else \"odd\")\n",
    "evenodd(3)"
   ]
  },
  {
   "cell_type": "code",
   "execution_count": null,
   "metadata": {},
   "outputs": [],
   "source": [
    "check = lambda x, y: x if len(x) > len(y) else (\"Equal\" if len(x) == len(y) else y)\n",
    "check(\"Moh\", \"Raj\")"
   ]
  },
  {
   "cell_type": "code",
   "execution_count": null,
   "metadata": {},
   "outputs": [],
   "source": [
    "expenses = [200, 300, 150, 500, 750, 200]\n",
    "budget = 3000\n",
    "\n",
    "total_spend = 0\n",
    "for i in expenses:\n",
    "    total_spend += i\n",
    "\n",
    "if total_spend > budget:\n",
    "    print(\"Over budget\")\n",
    "else:\n",
    "    print(\"Under budget\")\n",
    "\n"
   ]
  }
 ],
 "metadata": {
  "kernelspec": {
   "display_name": "Python 3",
   "language": "python",
   "name": "python3"
  },
  "language_info": {
   "codemirror_mode": {
    "name": "ipython",
    "version": 3
   },
   "file_extension": ".py",
   "mimetype": "text/x-python",
   "name": "python",
   "nbconvert_exporter": "python",
   "pygments_lexer": "ipython3",
   "version": "3.11.9"
  }
 },
 "nbformat": 4,
 "nbformat_minor": 2
}
